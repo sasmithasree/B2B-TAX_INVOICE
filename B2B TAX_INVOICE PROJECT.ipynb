{
 "cells": [
  {
   "cell_type": "code",
   "execution_count": 1,
   "id": "80df8450",
   "metadata": {},
   "outputs": [],
   "source": [
    "import pandas as pd\n",
    "import numpy as np\n",
    "import matplotlib.pyplot as plt\n",
    "import matplotlib\n",
    "import seaborn as sns\n",
    "import sklearn\n",
    "\n",
    "%matplotlib inline\n",
    "import warnings\n",
    "warnings.filterwarnings(\"ignore\")\n"
   ]
  },
  {
   "cell_type": "code",
   "execution_count": 2,
   "id": "fb3812aa",
   "metadata": {},
   "outputs": [],
   "source": [
    "pd.set_option('display.max_columns',50)\n",
    "pd.set_option('display.max_rows',50)\n",
    "df=pd.read_csv('H2HBABBA2851.csv')"
   ]
  },
  {
   "cell_type": "markdown",
   "id": "b4b6a916",
   "metadata": {},
   "source": [
    "# finding the shape,columns,datatypes to know about the raw datafram"
   ]
  },
  {
   "cell_type": "code",
   "execution_count": 3,
   "id": "1e90c97b",
   "metadata": {},
   "outputs": [
    {
     "data": {
      "text/plain": [
       "(50000, 19)"
      ]
     },
     "execution_count": 3,
     "metadata": {},
     "output_type": "execute_result"
    }
   ],
   "source": [
    "df.shape"
   ]
  },
  {
   "cell_type": "code",
   "execution_count": 4,
   "id": "d86c7818",
   "metadata": {},
   "outputs": [
    {
     "data": {
      "text/plain": [
       "Index(['business_code', 'cust_number', 'name_customer', 'clear_date',\n",
       "       'buisness_year', 'doc_id', 'posting_date', 'document_create_date',\n",
       "       'document_create_date.1', 'due_in_date', 'invoice_currency',\n",
       "       'document type', 'posting_id', 'area_business', 'total_open_amount',\n",
       "       'baseline_create_date', 'cust_payment_terms', 'invoice_id', 'isOpen'],\n",
       "      dtype='object')"
      ]
     },
     "execution_count": 4,
     "metadata": {},
     "output_type": "execute_result"
    }
   ],
   "source": [
    "df.columns"
   ]
  },
  {
   "cell_type": "code",
   "execution_count": 5,
   "id": "ac3ea2fa",
   "metadata": {
    "scrolled": true
   },
   "outputs": [
    {
     "data": {
      "text/plain": [
       "business_code              object\n",
       "cust_number                object\n",
       "name_customer              object\n",
       "clear_date                 object\n",
       "buisness_year             float64\n",
       "doc_id                    float64\n",
       "posting_date               object\n",
       "document_create_date        int64\n",
       "document_create_date.1      int64\n",
       "due_in_date               float64\n",
       "invoice_currency           object\n",
       "document type              object\n",
       "posting_id                float64\n",
       "area_business             float64\n",
       "total_open_amount         float64\n",
       "baseline_create_date      float64\n",
       "cust_payment_terms         object\n",
       "invoice_id                float64\n",
       "isOpen                      int64\n",
       "dtype: object"
      ]
     },
     "execution_count": 5,
     "metadata": {},
     "output_type": "execute_result"
    }
   ],
   "source": [
    "df.dtypes"
   ]
  },
  {
   "cell_type": "markdown",
   "id": "9b094ceb",
   "metadata": {},
   "source": [
    "#### we found 50000 rows and 19 columns and 7 object types are there "
   ]
  },
  {
   "cell_type": "code",
   "execution_count": 6,
   "id": "95578efe",
   "metadata": {},
   "outputs": [
    {
     "data": {
      "text/html": [
       "<div>\n",
       "<style scoped>\n",
       "    .dataframe tbody tr th:only-of-type {\n",
       "        vertical-align: middle;\n",
       "    }\n",
       "\n",
       "    .dataframe tbody tr th {\n",
       "        vertical-align: top;\n",
       "    }\n",
       "\n",
       "    .dataframe thead th {\n",
       "        text-align: right;\n",
       "    }\n",
       "</style>\n",
       "<table border=\"1\" class=\"dataframe\">\n",
       "  <thead>\n",
       "    <tr style=\"text-align: right;\">\n",
       "      <th></th>\n",
       "      <th>business_code</th>\n",
       "      <th>cust_number</th>\n",
       "      <th>name_customer</th>\n",
       "      <th>clear_date</th>\n",
       "      <th>buisness_year</th>\n",
       "      <th>doc_id</th>\n",
       "      <th>posting_date</th>\n",
       "      <th>document_create_date</th>\n",
       "      <th>document_create_date.1</th>\n",
       "      <th>due_in_date</th>\n",
       "      <th>invoice_currency</th>\n",
       "      <th>document type</th>\n",
       "      <th>posting_id</th>\n",
       "      <th>area_business</th>\n",
       "      <th>total_open_amount</th>\n",
       "      <th>baseline_create_date</th>\n",
       "      <th>cust_payment_terms</th>\n",
       "      <th>invoice_id</th>\n",
       "      <th>isOpen</th>\n",
       "    </tr>\n",
       "  </thead>\n",
       "  <tbody>\n",
       "    <tr>\n",
       "      <th>0</th>\n",
       "      <td>U001</td>\n",
       "      <td>0200769623</td>\n",
       "      <td>WAL-MAR</td>\n",
       "      <td>2019-12-09 00:00:00</td>\n",
       "      <td>2019.0</td>\n",
       "      <td>1.930199e+09</td>\n",
       "      <td>2019-11-27</td>\n",
       "      <td>20191127</td>\n",
       "      <td>20191127</td>\n",
       "      <td>20191212.0</td>\n",
       "      <td>USD</td>\n",
       "      <td>RV</td>\n",
       "      <td>1.0</td>\n",
       "      <td>NaN</td>\n",
       "      <td>39797.05</td>\n",
       "      <td>20191127.0</td>\n",
       "      <td>NAH4</td>\n",
       "      <td>1.930199e+09</td>\n",
       "      <td>0</td>\n",
       "    </tr>\n",
       "    <tr>\n",
       "      <th>1</th>\n",
       "      <td>U001</td>\n",
       "      <td>0200759878</td>\n",
       "      <td>SA</td>\n",
       "      <td>NaN</td>\n",
       "      <td>2020.0</td>\n",
       "      <td>1.930675e+09</td>\n",
       "      <td>2020-03-21</td>\n",
       "      <td>20200320</td>\n",
       "      <td>20200321</td>\n",
       "      <td>20200405.0</td>\n",
       "      <td>USD</td>\n",
       "      <td>RV</td>\n",
       "      <td>1.0</td>\n",
       "      <td>NaN</td>\n",
       "      <td>14307.82</td>\n",
       "      <td>20200321.0</td>\n",
       "      <td>NAH4</td>\n",
       "      <td>1.930675e+09</td>\n",
       "      <td>1</td>\n",
       "    </tr>\n",
       "    <tr>\n",
       "      <th>2</th>\n",
       "      <td>U001</td>\n",
       "      <td>0200418007</td>\n",
       "      <td>AM corporation</td>\n",
       "      <td>2019-12-24 00:00:00</td>\n",
       "      <td>2019.0</td>\n",
       "      <td>1.930216e+09</td>\n",
       "      <td>2019-12-06</td>\n",
       "      <td>20191204</td>\n",
       "      <td>20191206</td>\n",
       "      <td>20191221.0</td>\n",
       "      <td>USD</td>\n",
       "      <td>RV</td>\n",
       "      <td>1.0</td>\n",
       "      <td>NaN</td>\n",
       "      <td>6703.21</td>\n",
       "      <td>20191206.0</td>\n",
       "      <td>NAA8</td>\n",
       "      <td>1.930216e+09</td>\n",
       "      <td>0</td>\n",
       "    </tr>\n",
       "    <tr>\n",
       "      <th>3</th>\n",
       "      <td>U001</td>\n",
       "      <td>0200705742</td>\n",
       "      <td>DOT llc</td>\n",
       "      <td>2019-05-28 00:00:00</td>\n",
       "      <td>2019.0</td>\n",
       "      <td>1.929295e+09</td>\n",
       "      <td>2019-05-13</td>\n",
       "      <td>20190511</td>\n",
       "      <td>20190513</td>\n",
       "      <td>20190528.0</td>\n",
       "      <td>USD</td>\n",
       "      <td>RV</td>\n",
       "      <td>1.0</td>\n",
       "      <td>NaN</td>\n",
       "      <td>24648.05</td>\n",
       "      <td>20190513.0</td>\n",
       "      <td>NAA8</td>\n",
       "      <td>1.929295e+09</td>\n",
       "      <td>0</td>\n",
       "    </tr>\n",
       "    <tr>\n",
       "      <th>4</th>\n",
       "      <td>U001</td>\n",
       "      <td>0200230690</td>\n",
       "      <td>DECA</td>\n",
       "      <td>NaN</td>\n",
       "      <td>2020.0</td>\n",
       "      <td>1.930670e+09</td>\n",
       "      <td>2020-03-19</td>\n",
       "      <td>20200319</td>\n",
       "      <td>20200319</td>\n",
       "      <td>20200408.0</td>\n",
       "      <td>USD</td>\n",
       "      <td>RV</td>\n",
       "      <td>1.0</td>\n",
       "      <td>NaN</td>\n",
       "      <td>107.76</td>\n",
       "      <td>20200316.0</td>\n",
       "      <td>NAM4</td>\n",
       "      <td>1.930670e+09</td>\n",
       "      <td>1</td>\n",
       "    </tr>\n",
       "  </tbody>\n",
       "</table>\n",
       "</div>"
      ],
      "text/plain": [
       "  business_code cust_number   name_customer           clear_date  \\\n",
       "0          U001  0200769623        WAL-MAR   2019-12-09 00:00:00   \n",
       "1          U001  0200759878             SA                   NaN   \n",
       "2          U001  0200418007  AM corporation  2019-12-24 00:00:00   \n",
       "3          U001  0200705742         DOT llc  2019-05-28 00:00:00   \n",
       "4          U001  0200230690           DECA                   NaN   \n",
       "\n",
       "   buisness_year        doc_id posting_date  document_create_date  \\\n",
       "0         2019.0  1.930199e+09   2019-11-27              20191127   \n",
       "1         2020.0  1.930675e+09   2020-03-21              20200320   \n",
       "2         2019.0  1.930216e+09   2019-12-06              20191204   \n",
       "3         2019.0  1.929295e+09   2019-05-13              20190511   \n",
       "4         2020.0  1.930670e+09   2020-03-19              20200319   \n",
       "\n",
       "   document_create_date.1  due_in_date invoice_currency document type  \\\n",
       "0                20191127   20191212.0              USD            RV   \n",
       "1                20200321   20200405.0              USD            RV   \n",
       "2                20191206   20191221.0              USD            RV   \n",
       "3                20190513   20190528.0              USD            RV   \n",
       "4                20200319   20200408.0              USD            RV   \n",
       "\n",
       "   posting_id  area_business  total_open_amount  baseline_create_date  \\\n",
       "0         1.0            NaN           39797.05            20191127.0   \n",
       "1         1.0            NaN           14307.82            20200321.0   \n",
       "2         1.0            NaN            6703.21            20191206.0   \n",
       "3         1.0            NaN           24648.05            20190513.0   \n",
       "4         1.0            NaN             107.76            20200316.0   \n",
       "\n",
       "  cust_payment_terms    invoice_id  isOpen  \n",
       "0               NAH4  1.930199e+09       0  \n",
       "1               NAH4  1.930675e+09       1  \n",
       "2               NAA8  1.930216e+09       0  \n",
       "3               NAA8  1.929295e+09       0  \n",
       "4               NAM4  1.930670e+09       1  "
      ]
     },
     "execution_count": 6,
     "metadata": {},
     "output_type": "execute_result"
    }
   ],
   "source": [
    "df.head()"
   ]
  },
  {
   "cell_type": "code",
   "execution_count": 7,
   "id": "b5c3d632",
   "metadata": {},
   "outputs": [
    {
     "data": {
      "text/plain": [
       "((40000, 19), (10000, 19))"
      ]
     },
     "execution_count": 7,
     "metadata": {},
     "output_type": "execute_result"
    }
   ],
   "source": [
    "main_train=df[df.clear_date.isnull()==False]\n",
    "main_test=df[df.clear_date.isnull()==True]\n",
    "main_train.shape,main_test.shape"
   ]
  },
  {
   "cell_type": "markdown",
   "id": "99ac59fa",
   "metadata": {},
   "source": [
    "###### I have divided into train and test were test is going to be unseen data"
   ]
  },
  {
   "cell_type": "markdown",
   "id": "22cc23b2",
   "metadata": {},
   "source": [
    "##preprocessing\n",
    "##removing null vaule and constant values "
   ]
  },
  {
   "cell_type": "code",
   "execution_count": 8,
   "id": "44574bee",
   "metadata": {},
   "outputs": [
    {
     "data": {
      "text/plain": [
       "business_code                 0\n",
       "cust_number                   0\n",
       "name_customer                 0\n",
       "clear_date                    0\n",
       "buisness_year                 0\n",
       "doc_id                        0\n",
       "posting_date                  0\n",
       "document_create_date          0\n",
       "document_create_date.1        0\n",
       "due_in_date                   0\n",
       "invoice_currency              0\n",
       "document type                 0\n",
       "posting_id                    0\n",
       "area_business             40000\n",
       "total_open_amount             0\n",
       "baseline_create_date          0\n",
       "cust_payment_terms            0\n",
       "invoice_id                    2\n",
       "isOpen                        0\n",
       "dtype: int64"
      ]
     },
     "execution_count": 8,
     "metadata": {},
     "output_type": "execute_result"
    }
   ],
   "source": [
    "main_train.isnull().sum()"
   ]
  },
  {
   "cell_type": "code",
   "execution_count": 9,
   "id": "e831a940",
   "metadata": {},
   "outputs": [
    {
     "data": {
      "text/html": [
       "<div>\n",
       "<style scoped>\n",
       "    .dataframe tbody tr th:only-of-type {\n",
       "        vertical-align: middle;\n",
       "    }\n",
       "\n",
       "    .dataframe tbody tr th {\n",
       "        vertical-align: top;\n",
       "    }\n",
       "\n",
       "    .dataframe thead th {\n",
       "        text-align: right;\n",
       "    }\n",
       "</style>\n",
       "<table border=\"1\" class=\"dataframe\">\n",
       "  <thead>\n",
       "    <tr style=\"text-align: right;\">\n",
       "      <th></th>\n",
       "      <th>business_code</th>\n",
       "      <th>cust_number</th>\n",
       "      <th>name_customer</th>\n",
       "      <th>clear_date</th>\n",
       "      <th>buisness_year</th>\n",
       "      <th>doc_id</th>\n",
       "      <th>posting_date</th>\n",
       "      <th>document_create_date</th>\n",
       "      <th>document_create_date.1</th>\n",
       "      <th>due_in_date</th>\n",
       "      <th>invoice_currency</th>\n",
       "      <th>document type</th>\n",
       "      <th>posting_id</th>\n",
       "      <th>total_open_amount</th>\n",
       "      <th>baseline_create_date</th>\n",
       "      <th>cust_payment_terms</th>\n",
       "      <th>invoice_id</th>\n",
       "      <th>isOpen</th>\n",
       "    </tr>\n",
       "  </thead>\n",
       "  <tbody>\n",
       "    <tr>\n",
       "      <th>0</th>\n",
       "      <td>U001</td>\n",
       "      <td>0200769623</td>\n",
       "      <td>WAL-MAR</td>\n",
       "      <td>2019-12-09 00:00:00</td>\n",
       "      <td>2019.0</td>\n",
       "      <td>1.930199e+09</td>\n",
       "      <td>2019-11-27</td>\n",
       "      <td>20191127</td>\n",
       "      <td>20191127</td>\n",
       "      <td>20191212.0</td>\n",
       "      <td>USD</td>\n",
       "      <td>RV</td>\n",
       "      <td>1.0</td>\n",
       "      <td>39797.05</td>\n",
       "      <td>20191127.0</td>\n",
       "      <td>NAH4</td>\n",
       "      <td>1.930199e+09</td>\n",
       "      <td>0</td>\n",
       "    </tr>\n",
       "    <tr>\n",
       "      <th>2</th>\n",
       "      <td>U001</td>\n",
       "      <td>0200418007</td>\n",
       "      <td>AM corporation</td>\n",
       "      <td>2019-12-24 00:00:00</td>\n",
       "      <td>2019.0</td>\n",
       "      <td>1.930216e+09</td>\n",
       "      <td>2019-12-06</td>\n",
       "      <td>20191204</td>\n",
       "      <td>20191206</td>\n",
       "      <td>20191221.0</td>\n",
       "      <td>USD</td>\n",
       "      <td>RV</td>\n",
       "      <td>1.0</td>\n",
       "      <td>6703.21</td>\n",
       "      <td>20191206.0</td>\n",
       "      <td>NAA8</td>\n",
       "      <td>1.930216e+09</td>\n",
       "      <td>0</td>\n",
       "    </tr>\n",
       "    <tr>\n",
       "      <th>3</th>\n",
       "      <td>U001</td>\n",
       "      <td>0200705742</td>\n",
       "      <td>DOT llc</td>\n",
       "      <td>2019-05-28 00:00:00</td>\n",
       "      <td>2019.0</td>\n",
       "      <td>1.929295e+09</td>\n",
       "      <td>2019-05-13</td>\n",
       "      <td>20190511</td>\n",
       "      <td>20190513</td>\n",
       "      <td>20190528.0</td>\n",
       "      <td>USD</td>\n",
       "      <td>RV</td>\n",
       "      <td>1.0</td>\n",
       "      <td>24648.05</td>\n",
       "      <td>20190513.0</td>\n",
       "      <td>NAA8</td>\n",
       "      <td>1.929295e+09</td>\n",
       "      <td>0</td>\n",
       "    </tr>\n",
       "    <tr>\n",
       "      <th>5</th>\n",
       "      <td>U001</td>\n",
       "      <td>200769623</td>\n",
       "      <td>WAL-MAR corp</td>\n",
       "      <td>2019-07-11 00:00:00</td>\n",
       "      <td>2019.0</td>\n",
       "      <td>1.929560e+09</td>\n",
       "      <td>2019-07-01</td>\n",
       "      <td>20190630</td>\n",
       "      <td>20190701</td>\n",
       "      <td>20190716.0</td>\n",
       "      <td>USD</td>\n",
       "      <td>RV</td>\n",
       "      <td>1.0</td>\n",
       "      <td>60019.15</td>\n",
       "      <td>20190701.0</td>\n",
       "      <td>NAH4</td>\n",
       "      <td>1.929560e+09</td>\n",
       "      <td>0</td>\n",
       "    </tr>\n",
       "    <tr>\n",
       "      <th>6</th>\n",
       "      <td>U001</td>\n",
       "      <td>0100031704</td>\n",
       "      <td>DELHAIZE corp</td>\n",
       "      <td>2019-08-30 00:00:00</td>\n",
       "      <td>2019.0</td>\n",
       "      <td>1.929747e+09</td>\n",
       "      <td>2019-08-16</td>\n",
       "      <td>20190815</td>\n",
       "      <td>20190816</td>\n",
       "      <td>20190831.0</td>\n",
       "      <td>USD</td>\n",
       "      <td>RV</td>\n",
       "      <td>1.0</td>\n",
       "      <td>99934.62</td>\n",
       "      <td>20190816.0</td>\n",
       "      <td>NAA8</td>\n",
       "      <td>1.929747e+09</td>\n",
       "      <td>0</td>\n",
       "    </tr>\n",
       "  </tbody>\n",
       "</table>\n",
       "</div>"
      ],
      "text/plain": [
       "  business_code cust_number   name_customer           clear_date  \\\n",
       "0          U001  0200769623        WAL-MAR   2019-12-09 00:00:00   \n",
       "2          U001  0200418007  AM corporation  2019-12-24 00:00:00   \n",
       "3          U001  0200705742         DOT llc  2019-05-28 00:00:00   \n",
       "5          U001   200769623    WAL-MAR corp  2019-07-11 00:00:00   \n",
       "6          U001  0100031704   DELHAIZE corp  2019-08-30 00:00:00   \n",
       "\n",
       "   buisness_year        doc_id posting_date  document_create_date  \\\n",
       "0         2019.0  1.930199e+09   2019-11-27              20191127   \n",
       "2         2019.0  1.930216e+09   2019-12-06              20191204   \n",
       "3         2019.0  1.929295e+09   2019-05-13              20190511   \n",
       "5         2019.0  1.929560e+09   2019-07-01              20190630   \n",
       "6         2019.0  1.929747e+09   2019-08-16              20190815   \n",
       "\n",
       "   document_create_date.1  due_in_date invoice_currency document type  \\\n",
       "0                20191127   20191212.0              USD            RV   \n",
       "2                20191206   20191221.0              USD            RV   \n",
       "3                20190513   20190528.0              USD            RV   \n",
       "5                20190701   20190716.0              USD            RV   \n",
       "6                20190816   20190831.0              USD            RV   \n",
       "\n",
       "   posting_id  total_open_amount  baseline_create_date cust_payment_terms  \\\n",
       "0         1.0           39797.05            20191127.0               NAH4   \n",
       "2         1.0            6703.21            20191206.0               NAA8   \n",
       "3         1.0           24648.05            20190513.0               NAA8   \n",
       "5         1.0           60019.15            20190701.0               NAH4   \n",
       "6         1.0           99934.62            20190816.0               NAA8   \n",
       "\n",
       "     invoice_id  isOpen  \n",
       "0  1.930199e+09       0  \n",
       "2  1.930216e+09       0  \n",
       "3  1.929295e+09       0  \n",
       "5  1.929560e+09       0  \n",
       "6  1.929747e+09       0  "
      ]
     },
     "execution_count": 9,
     "metadata": {},
     "output_type": "execute_result"
    }
   ],
   "source": [
    "main_train.drop('area_business',axis=1,inplace=True)\n",
    "main_train.head()"
   ]
  },
  {
   "cell_type": "code",
   "execution_count": 10,
   "id": "86e93f64",
   "metadata": {
    "scrolled": true
   },
   "outputs": [
    {
     "data": {
      "text/html": [
       "<div>\n",
       "<style scoped>\n",
       "    .dataframe tbody tr th:only-of-type {\n",
       "        vertical-align: middle;\n",
       "    }\n",
       "\n",
       "    .dataframe tbody tr th {\n",
       "        vertical-align: top;\n",
       "    }\n",
       "\n",
       "    .dataframe thead th {\n",
       "        text-align: right;\n",
       "    }\n",
       "</style>\n",
       "<table border=\"1\" class=\"dataframe\">\n",
       "  <thead>\n",
       "    <tr style=\"text-align: right;\">\n",
       "      <th></th>\n",
       "      <th>business_code</th>\n",
       "      <th>cust_number</th>\n",
       "      <th>name_customer</th>\n",
       "      <th>clear_date</th>\n",
       "      <th>buisness_year</th>\n",
       "      <th>doc_id</th>\n",
       "      <th>posting_date</th>\n",
       "      <th>document_create_date</th>\n",
       "      <th>document_create_date.1</th>\n",
       "      <th>due_in_date</th>\n",
       "      <th>invoice_currency</th>\n",
       "      <th>document type</th>\n",
       "      <th>posting_id</th>\n",
       "      <th>total_open_amount</th>\n",
       "      <th>baseline_create_date</th>\n",
       "      <th>cust_payment_terms</th>\n",
       "      <th>invoice_id</th>\n",
       "      <th>isOpen</th>\n",
       "    </tr>\n",
       "  </thead>\n",
       "  <tbody>\n",
       "    <tr>\n",
       "      <th>18672</th>\n",
       "      <td>CA02</td>\n",
       "      <td>0140104429</td>\n",
       "      <td>COSTCO</td>\n",
       "      <td>2019-05-14 00:00:00</td>\n",
       "      <td>2019.0</td>\n",
       "      <td>9.500000e+09</td>\n",
       "      <td>2019-03-29</td>\n",
       "      <td>20190329</td>\n",
       "      <td>20190311</td>\n",
       "      <td>20190321.0</td>\n",
       "      <td>CAD</td>\n",
       "      <td>X2</td>\n",
       "      <td>1.0</td>\n",
       "      <td>5353.2</td>\n",
       "      <td>20190311.0</td>\n",
       "      <td>CA10</td>\n",
       "      <td>NaN</td>\n",
       "      <td>0</td>\n",
       "    </tr>\n",
       "    <tr>\n",
       "      <th>45276</th>\n",
       "      <td>CA02</td>\n",
       "      <td>0140104223</td>\n",
       "      <td>H Y LO llc</td>\n",
       "      <td>2019-05-08 00:00:00</td>\n",
       "      <td>2019.0</td>\n",
       "      <td>9.500000e+09</td>\n",
       "      <td>2019-03-29</td>\n",
       "      <td>20190329</td>\n",
       "      <td>20190320</td>\n",
       "      <td>20190330.0</td>\n",
       "      <td>CAD</td>\n",
       "      <td>X2</td>\n",
       "      <td>1.0</td>\n",
       "      <td>73785.0</td>\n",
       "      <td>20190320.0</td>\n",
       "      <td>CA10</td>\n",
       "      <td>NaN</td>\n",
       "      <td>0</td>\n",
       "    </tr>\n",
       "  </tbody>\n",
       "</table>\n",
       "</div>"
      ],
      "text/plain": [
       "      business_code cust_number name_customer           clear_date  \\\n",
       "18672          CA02  0140104429       COSTCO   2019-05-14 00:00:00   \n",
       "45276          CA02  0140104223    H Y LO llc  2019-05-08 00:00:00   \n",
       "\n",
       "       buisness_year        doc_id posting_date  document_create_date  \\\n",
       "18672         2019.0  9.500000e+09   2019-03-29              20190329   \n",
       "45276         2019.0  9.500000e+09   2019-03-29              20190329   \n",
       "\n",
       "       document_create_date.1  due_in_date invoice_currency document type  \\\n",
       "18672                20190311   20190321.0              CAD            X2   \n",
       "45276                20190320   20190330.0              CAD            X2   \n",
       "\n",
       "       posting_id  total_open_amount  baseline_create_date cust_payment_terms  \\\n",
       "18672         1.0             5353.2            20190311.0               CA10   \n",
       "45276         1.0            73785.0            20190320.0               CA10   \n",
       "\n",
       "       invoice_id  isOpen  \n",
       "18672         NaN       0  \n",
       "45276         NaN       0  "
      ]
     },
     "execution_count": 10,
     "metadata": {},
     "output_type": "execute_result"
    }
   ],
   "source": [
    "main_train[main_train.invoice_id.isnull()]"
   ]
  },
  {
   "cell_type": "code",
   "execution_count": 11,
   "id": "2bb174e3",
   "metadata": {},
   "outputs": [
    {
     "data": {
      "text/plain": [
       "RV    39998\n",
       "X2        2\n",
       "Name: document type, dtype: int64"
      ]
     },
     "execution_count": 11,
     "metadata": {},
     "output_type": "execute_result"
    }
   ],
   "source": [
    "main_train['document type'].value_counts()"
   ]
  },
  {
   "cell_type": "code",
   "execution_count": 12,
   "id": "98253395",
   "metadata": {},
   "outputs": [],
   "source": [
    "main_train=main_train[main_train.invoice_id.isnull()==False]"
   ]
  },
  {
   "cell_type": "code",
   "execution_count": 13,
   "id": "fdebe58b",
   "metadata": {},
   "outputs": [],
   "source": [
    "main_train.drop('document type',axis=1,inplace=True)"
   ]
  },
  {
   "cell_type": "markdown",
   "id": "0bea58c3",
   "metadata": {},
   "source": [
    "##### tax_invoice had two null values,those rows have different document type so I dropped null invoice_id rows and then document type will have constant value(RV) so drop it"
   ]
  },
  {
   "cell_type": "markdown",
   "id": "c4cd9d45",
   "metadata": {},
   "source": []
  },
  {
   "cell_type": "markdown",
   "id": "8e4f5b31",
   "metadata": {},
   "source": [
    "#### analysis and removing the null values are done invoice id has more constant values so it is not removed "
   ]
  },
  {
   "cell_type": "code",
   "execution_count": 14,
   "id": "3bd4b3b2",
   "metadata": {},
   "outputs": [
    {
     "data": {
      "text/plain": [
       "business_code                 6\n",
       "cust_number                1336\n",
       "name_customer              3895\n",
       "clear_date                  397\n",
       "buisness_year                 2\n",
       "doc_id                    39086\n",
       "posting_date                422\n",
       "document_create_date        427\n",
       "document_create_date.1      422\n",
       "due_in_date                 492\n",
       "invoice_currency              2\n",
       "posting_id                    1\n",
       "total_open_amount         35602\n",
       "baseline_create_date        429\n",
       "cust_payment_terms           74\n",
       "invoice_id                39086\n",
       "isOpen                        1\n",
       "dtype: int64"
      ]
     },
     "execution_count": 14,
     "metadata": {},
     "output_type": "execute_result"
    }
   ],
   "source": [
    "main_train.nunique()"
   ]
  },
  {
   "cell_type": "markdown",
   "id": "b4761d1e",
   "metadata": {},
   "source": [
    "##isOpen and posting_id has constant values so drop that column and posting date , document creat date and document creat date.1 is similar so drop it "
   ]
  },
  {
   "cell_type": "code",
   "execution_count": 15,
   "id": "82ac978d",
   "metadata": {},
   "outputs": [],
   "source": [
    "main_train.drop(['isOpen','posting_id','posting_date','document_create_date','name_customer'],axis=1,inplace=True)"
   ]
  },
  {
   "cell_type": "code",
   "execution_count": 16,
   "id": "786ac1d5",
   "metadata": {},
   "outputs": [
    {
     "data": {
      "text/html": [
       "<div>\n",
       "<style scoped>\n",
       "    .dataframe tbody tr th:only-of-type {\n",
       "        vertical-align: middle;\n",
       "    }\n",
       "\n",
       "    .dataframe tbody tr th {\n",
       "        vertical-align: top;\n",
       "    }\n",
       "\n",
       "    .dataframe thead th {\n",
       "        text-align: right;\n",
       "    }\n",
       "</style>\n",
       "<table border=\"1\" class=\"dataframe\">\n",
       "  <thead>\n",
       "    <tr style=\"text-align: right;\">\n",
       "      <th></th>\n",
       "      <th>business_code</th>\n",
       "      <th>cust_number</th>\n",
       "      <th>clear_date</th>\n",
       "      <th>buisness_year</th>\n",
       "      <th>doc_id</th>\n",
       "      <th>document_create_date.1</th>\n",
       "      <th>due_in_date</th>\n",
       "      <th>invoice_currency</th>\n",
       "      <th>total_open_amount</th>\n",
       "      <th>baseline_create_date</th>\n",
       "      <th>cust_payment_terms</th>\n",
       "      <th>invoice_id</th>\n",
       "    </tr>\n",
       "  </thead>\n",
       "  <tbody>\n",
       "    <tr>\n",
       "      <th>0</th>\n",
       "      <td>U001</td>\n",
       "      <td>0200769623</td>\n",
       "      <td>2019-12-09 00:00:00</td>\n",
       "      <td>2019.0</td>\n",
       "      <td>1.930199e+09</td>\n",
       "      <td>20191127</td>\n",
       "      <td>20191212.0</td>\n",
       "      <td>USD</td>\n",
       "      <td>39797.05</td>\n",
       "      <td>20191127.0</td>\n",
       "      <td>NAH4</td>\n",
       "      <td>1.930199e+09</td>\n",
       "    </tr>\n",
       "    <tr>\n",
       "      <th>2</th>\n",
       "      <td>U001</td>\n",
       "      <td>0200418007</td>\n",
       "      <td>2019-12-24 00:00:00</td>\n",
       "      <td>2019.0</td>\n",
       "      <td>1.930216e+09</td>\n",
       "      <td>20191206</td>\n",
       "      <td>20191221.0</td>\n",
       "      <td>USD</td>\n",
       "      <td>6703.21</td>\n",
       "      <td>20191206.0</td>\n",
       "      <td>NAA8</td>\n",
       "      <td>1.930216e+09</td>\n",
       "    </tr>\n",
       "    <tr>\n",
       "      <th>3</th>\n",
       "      <td>U001</td>\n",
       "      <td>0200705742</td>\n",
       "      <td>2019-05-28 00:00:00</td>\n",
       "      <td>2019.0</td>\n",
       "      <td>1.929295e+09</td>\n",
       "      <td>20190513</td>\n",
       "      <td>20190528.0</td>\n",
       "      <td>USD</td>\n",
       "      <td>24648.05</td>\n",
       "      <td>20190513.0</td>\n",
       "      <td>NAA8</td>\n",
       "      <td>1.929295e+09</td>\n",
       "    </tr>\n",
       "    <tr>\n",
       "      <th>5</th>\n",
       "      <td>U001</td>\n",
       "      <td>200769623</td>\n",
       "      <td>2019-07-11 00:00:00</td>\n",
       "      <td>2019.0</td>\n",
       "      <td>1.929560e+09</td>\n",
       "      <td>20190701</td>\n",
       "      <td>20190716.0</td>\n",
       "      <td>USD</td>\n",
       "      <td>60019.15</td>\n",
       "      <td>20190701.0</td>\n",
       "      <td>NAH4</td>\n",
       "      <td>1.929560e+09</td>\n",
       "    </tr>\n",
       "    <tr>\n",
       "      <th>6</th>\n",
       "      <td>U001</td>\n",
       "      <td>0100031704</td>\n",
       "      <td>2019-08-30 00:00:00</td>\n",
       "      <td>2019.0</td>\n",
       "      <td>1.929747e+09</td>\n",
       "      <td>20190816</td>\n",
       "      <td>20190831.0</td>\n",
       "      <td>USD</td>\n",
       "      <td>99934.62</td>\n",
       "      <td>20190816.0</td>\n",
       "      <td>NAA8</td>\n",
       "      <td>1.929747e+09</td>\n",
       "    </tr>\n",
       "  </tbody>\n",
       "</table>\n",
       "</div>"
      ],
      "text/plain": [
       "  business_code cust_number           clear_date  buisness_year        doc_id  \\\n",
       "0          U001  0200769623  2019-12-09 00:00:00         2019.0  1.930199e+09   \n",
       "2          U001  0200418007  2019-12-24 00:00:00         2019.0  1.930216e+09   \n",
       "3          U001  0200705742  2019-05-28 00:00:00         2019.0  1.929295e+09   \n",
       "5          U001   200769623  2019-07-11 00:00:00         2019.0  1.929560e+09   \n",
       "6          U001  0100031704  2019-08-30 00:00:00         2019.0  1.929747e+09   \n",
       "\n",
       "   document_create_date.1  due_in_date invoice_currency  total_open_amount  \\\n",
       "0                20191127   20191212.0              USD           39797.05   \n",
       "2                20191206   20191221.0              USD            6703.21   \n",
       "3                20190513   20190528.0              USD           24648.05   \n",
       "5                20190701   20190716.0              USD           60019.15   \n",
       "6                20190816   20190831.0              USD           99934.62   \n",
       "\n",
       "   baseline_create_date cust_payment_terms    invoice_id  \n",
       "0            20191127.0               NAH4  1.930199e+09  \n",
       "2            20191206.0               NAA8  1.930216e+09  \n",
       "3            20190513.0               NAA8  1.929295e+09  \n",
       "5            20190701.0               NAH4  1.929560e+09  \n",
       "6            20190816.0               NAA8  1.929747e+09  "
      ]
     },
     "execution_count": 16,
     "metadata": {},
     "output_type": "execute_result"
    }
   ],
   "source": [
    "main_train.head()"
   ]
  },
  {
   "cell_type": "code",
   "execution_count": 17,
   "id": "18740237",
   "metadata": {},
   "outputs": [
    {
     "data": {
      "text/plain": [
       "USD    36884\n",
       "CAD     3114\n",
       "Name: invoice_currency, dtype: int64"
      ]
     },
     "execution_count": 17,
     "metadata": {},
     "output_type": "execute_result"
    }
   ],
   "source": [
    "main_train['invoice_currency'].value_counts()"
   ]
  },
  {
   "cell_type": "markdown",
   "id": "bf8361ef",
   "metadata": {},
   "source": [
    "##### Invoice_currency has USD and CAD "
   ]
  },
  {
   "cell_type": "code",
   "execution_count": 18,
   "id": "7eeba8c0",
   "metadata": {},
   "outputs": [
    {
     "data": {
      "text/html": [
       "<div>\n",
       "<style scoped>\n",
       "    .dataframe tbody tr th:only-of-type {\n",
       "        vertical-align: middle;\n",
       "    }\n",
       "\n",
       "    .dataframe tbody tr th {\n",
       "        vertical-align: top;\n",
       "    }\n",
       "\n",
       "    .dataframe thead th {\n",
       "        text-align: right;\n",
       "    }\n",
       "</style>\n",
       "<table border=\"1\" class=\"dataframe\">\n",
       "  <thead>\n",
       "    <tr style=\"text-align: right;\">\n",
       "      <th></th>\n",
       "      <th>business_code</th>\n",
       "      <th>cust_number</th>\n",
       "      <th>clear_date</th>\n",
       "      <th>buisness_year</th>\n",
       "      <th>doc_id</th>\n",
       "      <th>document_create_date.1</th>\n",
       "      <th>due_in_date</th>\n",
       "      <th>invoice_currency</th>\n",
       "      <th>total_open_amount</th>\n",
       "      <th>baseline_create_date</th>\n",
       "      <th>cust_payment_terms</th>\n",
       "      <th>invoice_id</th>\n",
       "    </tr>\n",
       "  </thead>\n",
       "  <tbody>\n",
       "    <tr>\n",
       "      <th>0</th>\n",
       "      <td>U001</td>\n",
       "      <td>0200769623</td>\n",
       "      <td>2019-12-09</td>\n",
       "      <td>2019.0</td>\n",
       "      <td>1.930199e+09</td>\n",
       "      <td>2019-11-27</td>\n",
       "      <td>2019-12-12</td>\n",
       "      <td>USD</td>\n",
       "      <td>39797.05</td>\n",
       "      <td>2019-11-27</td>\n",
       "      <td>NAH4</td>\n",
       "      <td>1.930199e+09</td>\n",
       "    </tr>\n",
       "    <tr>\n",
       "      <th>2</th>\n",
       "      <td>U001</td>\n",
       "      <td>0200418007</td>\n",
       "      <td>2019-12-24</td>\n",
       "      <td>2019.0</td>\n",
       "      <td>1.930216e+09</td>\n",
       "      <td>2019-12-06</td>\n",
       "      <td>2019-12-21</td>\n",
       "      <td>USD</td>\n",
       "      <td>6703.21</td>\n",
       "      <td>2019-12-06</td>\n",
       "      <td>NAA8</td>\n",
       "      <td>1.930216e+09</td>\n",
       "    </tr>\n",
       "    <tr>\n",
       "      <th>3</th>\n",
       "      <td>U001</td>\n",
       "      <td>0200705742</td>\n",
       "      <td>2019-05-28</td>\n",
       "      <td>2019.0</td>\n",
       "      <td>1.929295e+09</td>\n",
       "      <td>2019-05-13</td>\n",
       "      <td>2019-05-28</td>\n",
       "      <td>USD</td>\n",
       "      <td>24648.05</td>\n",
       "      <td>2019-05-13</td>\n",
       "      <td>NAA8</td>\n",
       "      <td>1.929295e+09</td>\n",
       "    </tr>\n",
       "    <tr>\n",
       "      <th>5</th>\n",
       "      <td>U001</td>\n",
       "      <td>200769623</td>\n",
       "      <td>2019-07-11</td>\n",
       "      <td>2019.0</td>\n",
       "      <td>1.929560e+09</td>\n",
       "      <td>2019-07-01</td>\n",
       "      <td>2019-07-16</td>\n",
       "      <td>USD</td>\n",
       "      <td>60019.15</td>\n",
       "      <td>2019-07-01</td>\n",
       "      <td>NAH4</td>\n",
       "      <td>1.929560e+09</td>\n",
       "    </tr>\n",
       "    <tr>\n",
       "      <th>6</th>\n",
       "      <td>U001</td>\n",
       "      <td>0100031704</td>\n",
       "      <td>2019-08-30</td>\n",
       "      <td>2019.0</td>\n",
       "      <td>1.929747e+09</td>\n",
       "      <td>2019-08-16</td>\n",
       "      <td>2019-08-31</td>\n",
       "      <td>USD</td>\n",
       "      <td>99934.62</td>\n",
       "      <td>2019-08-16</td>\n",
       "      <td>NAA8</td>\n",
       "      <td>1.929747e+09</td>\n",
       "    </tr>\n",
       "  </tbody>\n",
       "</table>\n",
       "</div>"
      ],
      "text/plain": [
       "  business_code cust_number clear_date  buisness_year        doc_id  \\\n",
       "0          U001  0200769623 2019-12-09         2019.0  1.930199e+09   \n",
       "2          U001  0200418007 2019-12-24         2019.0  1.930216e+09   \n",
       "3          U001  0200705742 2019-05-28         2019.0  1.929295e+09   \n",
       "5          U001   200769623 2019-07-11         2019.0  1.929560e+09   \n",
       "6          U001  0100031704 2019-08-30         2019.0  1.929747e+09   \n",
       "\n",
       "  document_create_date.1 due_in_date invoice_currency  total_open_amount  \\\n",
       "0             2019-11-27  2019-12-12              USD           39797.05   \n",
       "2             2019-12-06  2019-12-21              USD            6703.21   \n",
       "3             2019-05-13  2019-05-28              USD           24648.05   \n",
       "5             2019-07-01  2019-07-16              USD           60019.15   \n",
       "6             2019-08-16  2019-08-31              USD           99934.62   \n",
       "\n",
       "  baseline_create_date cust_payment_terms    invoice_id  \n",
       "0           2019-11-27               NAH4  1.930199e+09  \n",
       "2           2019-12-06               NAA8  1.930216e+09  \n",
       "3           2019-05-13               NAA8  1.929295e+09  \n",
       "5           2019-07-01               NAH4  1.929560e+09  \n",
       "6           2019-08-16               NAA8  1.929747e+09  "
      ]
     },
     "execution_count": 18,
     "metadata": {},
     "output_type": "execute_result"
    }
   ],
   "source": [
    "main_train['due_in_date'] = pd.to_datetime(main_train['due_in_date'],format=\"%Y%m%d\")\n",
    "main_train['baseline_create_date']=pd.to_datetime(main_train['baseline_create_date'],format='%Y%m%d')\n",
    "main_train['document_create_date.1']=pd.to_datetime(main_train['document_create_date.1'],format='%Y%m%d')\n",
    "\n",
    "main_train['clear_date']=main_train.clear_date.astype(str)\n",
    "\n",
    "main_train.clear_date= pd.to_datetime(main_train['clear_date'])\n",
    "main_train.head()"
   ]
  },
  {
   "cell_type": "markdown",
   "id": "471a072d",
   "metadata": {},
   "source": [
    "# sort the dates now "
   ]
  },
  {
   "cell_type": "code",
   "execution_count": 19,
   "id": "04599f84",
   "metadata": {},
   "outputs": [
    {
     "data": {
      "text/html": [
       "<div>\n",
       "<style scoped>\n",
       "    .dataframe tbody tr th:only-of-type {\n",
       "        vertical-align: middle;\n",
       "    }\n",
       "\n",
       "    .dataframe tbody tr th {\n",
       "        vertical-align: top;\n",
       "    }\n",
       "\n",
       "    .dataframe thead th {\n",
       "        text-align: right;\n",
       "    }\n",
       "</style>\n",
       "<table border=\"1\" class=\"dataframe\">\n",
       "  <thead>\n",
       "    <tr style=\"text-align: right;\">\n",
       "      <th></th>\n",
       "      <th>business_code</th>\n",
       "      <th>cust_number</th>\n",
       "      <th>clear_date</th>\n",
       "      <th>buisness_year</th>\n",
       "      <th>doc_id</th>\n",
       "      <th>document_create_date.1</th>\n",
       "      <th>due_in_date</th>\n",
       "      <th>invoice_currency</th>\n",
       "      <th>total_open_amount</th>\n",
       "      <th>baseline_create_date</th>\n",
       "      <th>cust_payment_terms</th>\n",
       "      <th>invoice_id</th>\n",
       "    </tr>\n",
       "  </thead>\n",
       "  <tbody>\n",
       "    <tr>\n",
       "      <th>20214</th>\n",
       "      <td>U001</td>\n",
       "      <td>CCU013</td>\n",
       "      <td>2019-03-01</td>\n",
       "      <td>2019.0</td>\n",
       "      <td>1.928534e+09</td>\n",
       "      <td>2018-12-30</td>\n",
       "      <td>2018-12-30</td>\n",
       "      <td>USD</td>\n",
       "      <td>8009.88</td>\n",
       "      <td>2018-12-30</td>\n",
       "      <td>NAX2</td>\n",
       "      <td>1.928534e+09</td>\n",
       "    </tr>\n",
       "    <tr>\n",
       "      <th>25411</th>\n",
       "      <td>U001</td>\n",
       "      <td>0200793830</td>\n",
       "      <td>2019-01-07</td>\n",
       "      <td>2019.0</td>\n",
       "      <td>1.928543e+09</td>\n",
       "      <td>2018-12-30</td>\n",
       "      <td>2019-01-14</td>\n",
       "      <td>USD</td>\n",
       "      <td>35599.61</td>\n",
       "      <td>2018-12-30</td>\n",
       "      <td>NAA8</td>\n",
       "      <td>1.928543e+09</td>\n",
       "    </tr>\n",
       "    <tr>\n",
       "      <th>1734</th>\n",
       "      <td>U001</td>\n",
       "      <td>0200769623</td>\n",
       "      <td>2019-01-09</td>\n",
       "      <td>2019.0</td>\n",
       "      <td>1.928537e+09</td>\n",
       "      <td>2018-12-30</td>\n",
       "      <td>2019-01-14</td>\n",
       "      <td>USD</td>\n",
       "      <td>41028.91</td>\n",
       "      <td>2018-12-30</td>\n",
       "      <td>NAH4</td>\n",
       "      <td>1.928537e+09</td>\n",
       "    </tr>\n",
       "    <tr>\n",
       "      <th>3130</th>\n",
       "      <td>U001</td>\n",
       "      <td>0200704858</td>\n",
       "      <td>2019-01-09</td>\n",
       "      <td>2019.0</td>\n",
       "      <td>1.928534e+09</td>\n",
       "      <td>2018-12-30</td>\n",
       "      <td>2019-01-14</td>\n",
       "      <td>USD</td>\n",
       "      <td>114737.60</td>\n",
       "      <td>2018-12-30</td>\n",
       "      <td>NAA8</td>\n",
       "      <td>1.928534e+09</td>\n",
       "    </tr>\n",
       "    <tr>\n",
       "      <th>3166</th>\n",
       "      <td>U001</td>\n",
       "      <td>0200769623</td>\n",
       "      <td>2019-01-09</td>\n",
       "      <td>2019.0</td>\n",
       "      <td>1.928540e+09</td>\n",
       "      <td>2018-12-30</td>\n",
       "      <td>2019-01-14</td>\n",
       "      <td>USD</td>\n",
       "      <td>15895.72</td>\n",
       "      <td>2018-12-30</td>\n",
       "      <td>NAH4</td>\n",
       "      <td>1.928540e+09</td>\n",
       "    </tr>\n",
       "  </tbody>\n",
       "</table>\n",
       "</div>"
      ],
      "text/plain": [
       "      business_code cust_number clear_date  buisness_year        doc_id  \\\n",
       "20214          U001      CCU013 2019-03-01         2019.0  1.928534e+09   \n",
       "25411          U001  0200793830 2019-01-07         2019.0  1.928543e+09   \n",
       "1734           U001  0200769623 2019-01-09         2019.0  1.928537e+09   \n",
       "3130           U001  0200704858 2019-01-09         2019.0  1.928534e+09   \n",
       "3166           U001  0200769623 2019-01-09         2019.0  1.928540e+09   \n",
       "\n",
       "      document_create_date.1 due_in_date invoice_currency  total_open_amount  \\\n",
       "20214             2018-12-30  2018-12-30              USD            8009.88   \n",
       "25411             2018-12-30  2019-01-14              USD           35599.61   \n",
       "1734              2018-12-30  2019-01-14              USD           41028.91   \n",
       "3130              2018-12-30  2019-01-14              USD          114737.60   \n",
       "3166              2018-12-30  2019-01-14              USD           15895.72   \n",
       "\n",
       "      baseline_create_date cust_payment_terms    invoice_id  \n",
       "20214           2018-12-30               NAX2  1.928534e+09  \n",
       "25411           2018-12-30               NAA8  1.928543e+09  \n",
       "1734            2018-12-30               NAH4  1.928537e+09  \n",
       "3130            2018-12-30               NAA8  1.928534e+09  \n",
       "3166            2018-12-30               NAH4  1.928540e+09  "
      ]
     },
     "execution_count": 19,
     "metadata": {},
     "output_type": "execute_result"
    }
   ],
   "source": [
    "main_train.sort_values(['buisness_year','baseline_create_date','document_create_date.1','due_in_date','clear_date'],inplace=True)\n",
    "main_train.head()"
   ]
  },
  {
   "cell_type": "markdown",
   "id": "81c9bf18",
   "metadata": {},
   "source": [
    "###  getting target values"
   ]
  },
  {
   "cell_type": "code",
   "execution_count": 20,
   "id": "926f287e",
   "metadata": {},
   "outputs": [
    {
     "data": {
      "text/html": [
       "<div>\n",
       "<style scoped>\n",
       "    .dataframe tbody tr th:only-of-type {\n",
       "        vertical-align: middle;\n",
       "    }\n",
       "\n",
       "    .dataframe tbody tr th {\n",
       "        vertical-align: top;\n",
       "    }\n",
       "\n",
       "    .dataframe thead th {\n",
       "        text-align: right;\n",
       "    }\n",
       "</style>\n",
       "<table border=\"1\" class=\"dataframe\">\n",
       "  <thead>\n",
       "    <tr style=\"text-align: right;\">\n",
       "      <th></th>\n",
       "      <th>business_code</th>\n",
       "      <th>cust_number</th>\n",
       "      <th>clear_date</th>\n",
       "      <th>buisness_year</th>\n",
       "      <th>doc_id</th>\n",
       "      <th>document_create_date.1</th>\n",
       "      <th>due_in_date</th>\n",
       "      <th>invoice_currency</th>\n",
       "      <th>total_open_amount</th>\n",
       "      <th>baseline_create_date</th>\n",
       "      <th>cust_payment_terms</th>\n",
       "      <th>invoice_id</th>\n",
       "      <th>delay</th>\n",
       "    </tr>\n",
       "  </thead>\n",
       "  <tbody>\n",
       "    <tr>\n",
       "      <th>20214</th>\n",
       "      <td>U001</td>\n",
       "      <td>CCU013</td>\n",
       "      <td>2019-03-01</td>\n",
       "      <td>2019.0</td>\n",
       "      <td>1.928534e+09</td>\n",
       "      <td>2018-12-30</td>\n",
       "      <td>2018-12-30</td>\n",
       "      <td>USD</td>\n",
       "      <td>8009.88</td>\n",
       "      <td>2018-12-30</td>\n",
       "      <td>NAX2</td>\n",
       "      <td>1.928534e+09</td>\n",
       "      <td>61 days</td>\n",
       "    </tr>\n",
       "    <tr>\n",
       "      <th>25411</th>\n",
       "      <td>U001</td>\n",
       "      <td>0200793830</td>\n",
       "      <td>2019-01-07</td>\n",
       "      <td>2019.0</td>\n",
       "      <td>1.928543e+09</td>\n",
       "      <td>2018-12-30</td>\n",
       "      <td>2019-01-14</td>\n",
       "      <td>USD</td>\n",
       "      <td>35599.61</td>\n",
       "      <td>2018-12-30</td>\n",
       "      <td>NAA8</td>\n",
       "      <td>1.928543e+09</td>\n",
       "      <td>-7 days</td>\n",
       "    </tr>\n",
       "    <tr>\n",
       "      <th>1734</th>\n",
       "      <td>U001</td>\n",
       "      <td>0200769623</td>\n",
       "      <td>2019-01-09</td>\n",
       "      <td>2019.0</td>\n",
       "      <td>1.928537e+09</td>\n",
       "      <td>2018-12-30</td>\n",
       "      <td>2019-01-14</td>\n",
       "      <td>USD</td>\n",
       "      <td>41028.91</td>\n",
       "      <td>2018-12-30</td>\n",
       "      <td>NAH4</td>\n",
       "      <td>1.928537e+09</td>\n",
       "      <td>-5 days</td>\n",
       "    </tr>\n",
       "    <tr>\n",
       "      <th>3130</th>\n",
       "      <td>U001</td>\n",
       "      <td>0200704858</td>\n",
       "      <td>2019-01-09</td>\n",
       "      <td>2019.0</td>\n",
       "      <td>1.928534e+09</td>\n",
       "      <td>2018-12-30</td>\n",
       "      <td>2019-01-14</td>\n",
       "      <td>USD</td>\n",
       "      <td>114737.60</td>\n",
       "      <td>2018-12-30</td>\n",
       "      <td>NAA8</td>\n",
       "      <td>1.928534e+09</td>\n",
       "      <td>-5 days</td>\n",
       "    </tr>\n",
       "    <tr>\n",
       "      <th>3166</th>\n",
       "      <td>U001</td>\n",
       "      <td>0200769623</td>\n",
       "      <td>2019-01-09</td>\n",
       "      <td>2019.0</td>\n",
       "      <td>1.928540e+09</td>\n",
       "      <td>2018-12-30</td>\n",
       "      <td>2019-01-14</td>\n",
       "      <td>USD</td>\n",
       "      <td>15895.72</td>\n",
       "      <td>2018-12-30</td>\n",
       "      <td>NAH4</td>\n",
       "      <td>1.928540e+09</td>\n",
       "      <td>-5 days</td>\n",
       "    </tr>\n",
       "  </tbody>\n",
       "</table>\n",
       "</div>"
      ],
      "text/plain": [
       "      business_code cust_number clear_date  buisness_year        doc_id  \\\n",
       "20214          U001      CCU013 2019-03-01         2019.0  1.928534e+09   \n",
       "25411          U001  0200793830 2019-01-07         2019.0  1.928543e+09   \n",
       "1734           U001  0200769623 2019-01-09         2019.0  1.928537e+09   \n",
       "3130           U001  0200704858 2019-01-09         2019.0  1.928534e+09   \n",
       "3166           U001  0200769623 2019-01-09         2019.0  1.928540e+09   \n",
       "\n",
       "      document_create_date.1 due_in_date invoice_currency  total_open_amount  \\\n",
       "20214             2018-12-30  2018-12-30              USD            8009.88   \n",
       "25411             2018-12-30  2019-01-14              USD           35599.61   \n",
       "1734              2018-12-30  2019-01-14              USD           41028.91   \n",
       "3130              2018-12-30  2019-01-14              USD          114737.60   \n",
       "3166              2018-12-30  2019-01-14              USD           15895.72   \n",
       "\n",
       "      baseline_create_date cust_payment_terms    invoice_id   delay  \n",
       "20214           2018-12-30               NAX2  1.928534e+09 61 days  \n",
       "25411           2018-12-30               NAA8  1.928543e+09 -7 days  \n",
       "1734            2018-12-30               NAH4  1.928537e+09 -5 days  \n",
       "3130            2018-12-30               NAA8  1.928534e+09 -5 days  \n",
       "3166            2018-12-30               NAH4  1.928540e+09 -5 days  "
      ]
     },
     "execution_count": 20,
     "metadata": {},
     "output_type": "execute_result"
    }
   ],
   "source": [
    "main_train['delay'] = main_train['clear_date']-main_train['due_in_date']\n",
    "main_train.head()"
   ]
  },
  {
   "cell_type": "markdown",
   "id": "080038be",
   "metadata": {},
   "source": [
    "### splitting the main_train to train,test,validation (70%,15%,15%)"
   ]
  },
  {
   "cell_type": "code",
   "execution_count": 21,
   "id": "51d038a3",
   "metadata": {},
   "outputs": [
    {
     "data": {
      "text/plain": [
       "((27998, 12), (12000, 12))"
      ]
     },
     "execution_count": 21,
     "metadata": {},
     "output_type": "execute_result"
    }
   ],
   "source": [
    "from sklearn.model_selection import train_test_split\n",
    "x= main_train.drop(['delay'],axis=1)\n",
    "y=main_train['delay']\n",
    "x_train,x_inter_test,y_train,y_inter_test=train_test_split(x,y,test_size=0.3,random_state=0,shuffle=False)\n",
    "x_train.shape,x_inter_test.shape"
   ]
  },
  {
   "cell_type": "code",
   "execution_count": 22,
   "id": "9b079559",
   "metadata": {},
   "outputs": [
    {
     "data": {
      "text/plain": [
       "((8400, 12), (3600, 12))"
      ]
     },
     "execution_count": 22,
     "metadata": {},
     "output_type": "execute_result"
    }
   ],
   "source": [
    "x_val,x_test,y_val,y_test=train_test_split(x_inter_test,y_inter_test,test_size=0.3,random_state=0,shuffle=False)\n",
    "x_val.shape,x_test.shape"
   ]
  },
  {
   "cell_type": "markdown",
   "id": "b0658b75",
   "metadata": {},
   "source": [
    "#### EDA (explorator Data Analysis)"
   ]
  },
  {
   "cell_type": "code",
   "execution_count": 23,
   "id": "4e3aca3c",
   "metadata": {},
   "outputs": [
    {
     "data": {
      "text/plain": [
       "<AxesSubplot:xlabel='delay', ylabel='Density'>"
      ]
     },
     "execution_count": 23,
     "metadata": {},
     "output_type": "execute_result"
    },
    {
     "data": {
      "image/png": "[encoded data removed]",
      "text/plain": [
       "<Figure size 432x288 with 1 Axes>"
      ]
     },
     "metadata": {
      "needs_background": "light"
     },
     "output_type": "display_data"
    }
   ],
   "source": [
    "sns.distplot(y_train)"
   ]
  },
  {
   "cell_type": "code",
   "execution_count": 24,
   "id": "cf22596a",
   "metadata": {},
   "outputs": [
    {
     "data": {
      "text/plain": [
       "count                         27998\n",
       "mean      1 days 02:07:08.430602185\n",
       "std      11 days 15:12:13.171004924\n",
       "min              -83 days +00:00:00\n",
       "25%               -3 days +00:00:00\n",
       "50%                 0 days 00:00:00\n",
       "75%                 2 days 00:00:00\n",
       "max               235 days 00:00:00\n",
       "Name: delay, dtype: object"
      ]
     },
     "execution_count": 24,
     "metadata": {},
     "output_type": "execute_result"
    }
   ],
   "source": [
    "y_train.describe()"
   ]
  },
  {
   "cell_type": "code",
   "execution_count": 25,
   "id": "99281cc6",
   "metadata": {},
   "outputs": [
    {
     "data": {
      "text/plain": [
       "(Timedelta('1 days 02:07:08.430602185'),\n",
       " Timedelta('0 days 00:00:00'),\n",
       " 0   0 days\n",
       " dtype: timedelta64[ns])"
      ]
     },
     "execution_count": 25,
     "metadata": {},
     "output_type": "execute_result"
    }
   ],
   "source": [
    "y_train.mean(),y_train.median(),y_train.mode()"
   ]
  },
  {
   "cell_type": "markdown",
   "id": "02756b3c",
   "metadata": {},
   "source": [
    "### from this distribution graph we can assume that it is symmetric distribution but for symmetric grap mean ,mode and median must be same ,here median and mode are same but mean is one .so ,considered as slightly right skewed (positively skewed).\n",
    "### mode is zero so many have paid on time"
   ]
  },
  {
   "cell_type": "code",
   "execution_count": 26,
   "id": "5e14bd3c",
   "metadata": {},
   "outputs": [
    {
     "data": {
      "text/plain": [
       "{'whiskers': [<matplotlib.lines.Line2D at 0x164b22feca0>,\n",
       "  <matplotlib.lines.Line2D at 0x164b2310070>],\n",
       " 'caps': [<matplotlib.lines.Line2D at 0x164b2310400>,\n",
       "  <matplotlib.lines.Line2D at 0x164b2310790>],\n",
       " 'boxes': [<matplotlib.lines.Line2D at 0x164b22fe910>],\n",
       " 'medians': [<matplotlib.lines.Line2D at 0x164b2310b20>],\n",
       " 'fliers': [<matplotlib.lines.Line2D at 0x164b2310eb0>],\n",
       " 'means': []}"
      ]
     },
     "execution_count": 26,
     "metadata": {},
     "output_type": "execute_result"
    },
    {
     "data": {
      "image/png": "[encoded data removed]",
      "text/plain": [
       "<Figure size 432x288 with 1 Axes>"
      ]
     },
     "metadata": {
      "needs_background": "light"
     },
     "output_type": "display_data"
    }
   ],
   "source": [
    "plt.boxplot(y_train)"
   ]
  },
  {
   "cell_type": "markdown",
   "id": "b6385e47",
   "metadata": {},
   "source": [
    "### from boxplot we can analysis that there is outliers and the Q1 and Q3 are more close (25th percentile and 75% percentile),so there is only small difference in delay between different customers "
   ]
  },
  {
   "cell_type": "code",
   "execution_count": 27,
   "id": "d78891fe",
   "metadata": {},
   "outputs": [
    {
     "data": {
      "text/plain": [
       "(Timedelta('35 days 23:43:47.943616957'),\n",
       " Timedelta('-34 days +04:30:28.917587413'))"
      ]
     },
     "execution_count": 27,
     "metadata": {},
     "output_type": "execute_result"
    }
   ],
   "source": [
    "upper=y_train.mean()+3 *y_train.std()\n",
    "lower =y_train.mean()-3*y_train.std()\n",
    "upper,lower"
   ]
  },
  {
   "cell_type": "code",
   "execution_count": 28,
   "id": "444cc5ce",
   "metadata": {},
   "outputs": [
    {
     "data": {
      "text/plain": [
       "0 days      6071\n",
       "1 days      3339\n",
       "2 days      2728\n",
       "-5 days     2074\n",
       "-4 days     1897\n",
       "            ... \n",
       "170 days       1\n",
       "96 days        1\n",
       "182 days       1\n",
       "-37 days       1\n",
       "114 days       1\n",
       "Name: delay, Length: 177, dtype: int64"
      ]
     },
     "execution_count": 28,
     "metadata": {},
     "output_type": "execute_result"
    }
   ],
   "source": [
    "y_train.value_counts()"
   ]
  },
  {
   "cell_type": "markdown",
   "id": "1c06f71b",
   "metadata": {},
   "source": [
    "##### 6071 have paid on time (many have paid on time ) and some have paid before 5,4 days and some have paid after 122,170 days (more delay)"
   ]
  },
  {
   "cell_type": "markdown",
   "id": "4decc2ed",
   "metadata": {},
   "source": [
    "### maximum outliers are 36 days that is some have paid 36 days after due date \n",
    "### minimum outlies are -34 days that is some have paid 34 days before the due date"
   ]
  },
  {
   "cell_type": "code",
   "execution_count": 29,
   "id": "9fa1a785",
   "metadata": {},
   "outputs": [
    {
     "data": {
      "text/plain": [
       "<AxesSubplot:xlabel='clear_date', ylabel='due_in_date'>"
      ]
     },
     "execution_count": 29,
     "metadata": {},
     "output_type": "execute_result"
    },
    {
     "data": {
      "image/png": "[encoded data removed]",
      "text/plain": [
       "<Figure size 432x288 with 1 Axes>"
      ]
     },
     "metadata": {
      "needs_background": "light"
     },
     "output_type": "display_data"
    }
   ],
   "source": [
    "x=x_train['clear_date']\n",
    "y=x_train['due_in_date']\n",
    "sns.scatterplot(x,y)"
   ]
  },
  {
   "cell_type": "markdown",
   "id": "800fd90f",
   "metadata": {},
   "source": [
    "##### clear_date and due_date is little linear which shows many have have paid ontime and some before and some after due_in_date"
   ]
  },
  {
   "cell_type": "code",
   "execution_count": 30,
   "id": "b7015a7e",
   "metadata": {},
   "outputs": [
    {
     "data": {
      "text/plain": [
       "<AxesSubplot:xlabel='document_create_date.1', ylabel='due_in_date'>"
      ]
     },
     "execution_count": 30,
     "metadata": {},
     "output_type": "execute_result"
    },
    {
     "data": {
      "image/png": "[encoded data removed]",
      "text/plain": [
       "<Figure size 432x288 with 1 Axes>"
      ]
     },
     "metadata": {
      "needs_background": "light"
     },
     "output_type": "display_data"
    }
   ],
   "source": [
    "x=x_train['document_create_date.1']\n",
    "y=x_train['due_in_date']\n",
    "sns.scatterplot(x,y)"
   ]
  },
  {
   "cell_type": "markdown",
   "id": "0bf86175",
   "metadata": {},
   "source": [
    "####  this is thick linear graph ,from this we can analysis that due_in_date and document create date was same or there was small difference between them"
   ]
  },
  {
   "cell_type": "markdown",
   "id": "e7a18b41",
   "metadata": {},
   "source": [
    "### Removing clear date after using for analysis purpose ."
   ]
  },
  {
   "cell_type": "code",
   "execution_count": 31,
   "id": "96d9b283",
   "metadata": {},
   "outputs": [],
   "source": [
    "x_train.drop('clear_date',axis=1,inplace=True)"
   ]
  },
  {
   "cell_type": "code",
   "execution_count": 32,
   "id": "3caaa1a6",
   "metadata": {},
   "outputs": [],
   "source": [
    "x_val.drop('clear_date',axis=1,inplace=True)"
   ]
  },
  {
   "cell_type": "code",
   "execution_count": 33,
   "id": "f5fdf621",
   "metadata": {},
   "outputs": [],
   "source": [
    "x_test.drop('clear_date',axis=1,inplace=True)"
   ]
  },
  {
   "cell_type": "markdown",
   "id": "663b859e",
   "metadata": {},
   "source": [
    "# feature engineering"
   ]
  },
  {
   "cell_type": "code",
   "execution_count": 34,
   "id": "1c5dcbd0",
   "metadata": {},
   "outputs": [
    {
     "data": {
      "text/plain": [
       "(business_code                     object\n",
       " cust_number                       object\n",
       " buisness_year                    float64\n",
       " doc_id                           float64\n",
       " document_create_date.1    datetime64[ns]\n",
       " due_in_date               datetime64[ns]\n",
       " invoice_currency                  object\n",
       " total_open_amount                float64\n",
       " baseline_create_date      datetime64[ns]\n",
       " cust_payment_terms                object\n",
       " invoice_id                       float64\n",
       " dtype: object,\n",
       " dtype('<m8[ns]'))"
      ]
     },
     "execution_count": 34,
     "metadata": {},
     "output_type": "execute_result"
    }
   ],
   "source": [
    "x_train.dtypes,y_train.dtypes"
   ]
  },
  {
   "cell_type": "markdown",
   "id": "1735a3f5",
   "metadata": {},
   "source": [
    "#### converting all object and datetime into int to make feature selection and label encoding also is done for catogorical values "
   ]
  },
  {
   "cell_type": "code",
   "execution_count": 35,
   "id": "b43aab21",
   "metadata": {},
   "outputs": [],
   "source": [
    "from sklearn.preprocessing import LabelEncoder\n",
    "business_code_enc =  LabelEncoder()\n",
    "business_code_enc.fit(x_train['business_code'])\n",
    "x_train['business_code']=business_code_enc.transform(x_train['business_code'])\n"
   ]
  },
  {
   "cell_type": "code",
   "execution_count": 36,
   "id": "abf6bc01",
   "metadata": {},
   "outputs": [
    {
     "data": {
      "text/html": [
       "<div>\n",
       "<style scoped>\n",
       "    .dataframe tbody tr th:only-of-type {\n",
       "        vertical-align: middle;\n",
       "    }\n",
       "\n",
       "    .dataframe tbody tr th {\n",
       "        vertical-align: top;\n",
       "    }\n",
       "\n",
       "    .dataframe thead th {\n",
       "        text-align: right;\n",
       "    }\n",
       "</style>\n",
       "<table border=\"1\" class=\"dataframe\">\n",
       "  <thead>\n",
       "    <tr style=\"text-align: right;\">\n",
       "      <th></th>\n",
       "      <th>business_code</th>\n",
       "      <th>cust_number</th>\n",
       "      <th>buisness_year</th>\n",
       "      <th>doc_id</th>\n",
       "      <th>document_create_date.1</th>\n",
       "      <th>due_in_date</th>\n",
       "      <th>invoice_currency</th>\n",
       "      <th>total_open_amount</th>\n",
       "      <th>baseline_create_date</th>\n",
       "      <th>cust_payment_terms</th>\n",
       "      <th>invoice_id</th>\n",
       "    </tr>\n",
       "  </thead>\n",
       "  <tbody>\n",
       "    <tr>\n",
       "      <th>837</th>\n",
       "      <td>1</td>\n",
       "      <td>0200126819</td>\n",
       "      <td>2019.0</td>\n",
       "      <td>1.929984e+09</td>\n",
       "      <td>2019-10-09</td>\n",
       "      <td>2019-10-24</td>\n",
       "      <td>USD</td>\n",
       "      <td>38827.38</td>\n",
       "      <td>2019-10-09</td>\n",
       "      <td>NAA8</td>\n",
       "      <td>1.929984e+09</td>\n",
       "    </tr>\n",
       "    <tr>\n",
       "      <th>21536</th>\n",
       "      <td>1</td>\n",
       "      <td>0200718130</td>\n",
       "      <td>2019.0</td>\n",
       "      <td>1.929995e+09</td>\n",
       "      <td>2019-10-09</td>\n",
       "      <td>2019-10-24</td>\n",
       "      <td>USD</td>\n",
       "      <td>9134.89</td>\n",
       "      <td>2019-10-09</td>\n",
       "      <td>NAA8</td>\n",
       "      <td>1.929995e+09</td>\n",
       "    </tr>\n",
       "    <tr>\n",
       "      <th>31842</th>\n",
       "      <td>1</td>\n",
       "      <td>0200761734</td>\n",
       "      <td>2019.0</td>\n",
       "      <td>1.929984e+09</td>\n",
       "      <td>2019-10-09</td>\n",
       "      <td>2019-10-24</td>\n",
       "      <td>USD</td>\n",
       "      <td>101392.07</td>\n",
       "      <td>2019-10-09</td>\n",
       "      <td>NAA8</td>\n",
       "      <td>1.929984e+09</td>\n",
       "    </tr>\n",
       "    <tr>\n",
       "      <th>35317</th>\n",
       "      <td>1</td>\n",
       "      <td>0200761734</td>\n",
       "      <td>2019.0</td>\n",
       "      <td>1.929996e+09</td>\n",
       "      <td>2019-10-09</td>\n",
       "      <td>2019-10-24</td>\n",
       "      <td>USD</td>\n",
       "      <td>12442.02</td>\n",
       "      <td>2019-10-09</td>\n",
       "      <td>NAA8</td>\n",
       "      <td>1.929996e+09</td>\n",
       "    </tr>\n",
       "    <tr>\n",
       "      <th>3428</th>\n",
       "      <td>1</td>\n",
       "      <td>0200793513</td>\n",
       "      <td>2019.0</td>\n",
       "      <td>1.929990e+09</td>\n",
       "      <td>2019-10-09</td>\n",
       "      <td>2019-10-24</td>\n",
       "      <td>USD</td>\n",
       "      <td>45648.25</td>\n",
       "      <td>2019-10-09</td>\n",
       "      <td>NAA8</td>\n",
       "      <td>1.929990e+09</td>\n",
       "    </tr>\n",
       "  </tbody>\n",
       "</table>\n",
       "</div>"
      ],
      "text/plain": [
       "       business_code cust_number  buisness_year        doc_id  \\\n",
       "837                1  0200126819         2019.0  1.929984e+09   \n",
       "21536              1  0200718130         2019.0  1.929995e+09   \n",
       "31842              1  0200761734         2019.0  1.929984e+09   \n",
       "35317              1  0200761734         2019.0  1.929996e+09   \n",
       "3428               1  0200793513         2019.0  1.929990e+09   \n",
       "\n",
       "      document_create_date.1 due_in_date invoice_currency  total_open_amount  \\\n",
       "837               2019-10-09  2019-10-24              USD           38827.38   \n",
       "21536             2019-10-09  2019-10-24              USD            9134.89   \n",
       "31842             2019-10-09  2019-10-24              USD          101392.07   \n",
       "35317             2019-10-09  2019-10-24              USD           12442.02   \n",
       "3428              2019-10-09  2019-10-24              USD           45648.25   \n",
       "\n",
       "      baseline_create_date cust_payment_terms    invoice_id  \n",
       "837             2019-10-09               NAA8  1.929984e+09  \n",
       "21536           2019-10-09               NAA8  1.929995e+09  \n",
       "31842           2019-10-09               NAA8  1.929984e+09  \n",
       "35317           2019-10-09               NAA8  1.929996e+09  \n",
       "3428            2019-10-09               NAA8  1.929990e+09  "
      ]
     },
     "execution_count": 36,
     "metadata": {},
     "output_type": "execute_result"
    }
   ],
   "source": [
    "business_code_enc =  LabelEncoder()\n",
    "business_code_enc.fit(x_val['business_code'])\n",
    "x_val['business_code']=business_code_enc.transform(x_val['business_code'])\n",
    "x_val.head()"
   ]
  },
  {
   "cell_type": "code",
   "execution_count": 37,
   "id": "9bc79287",
   "metadata": {},
   "outputs": [
    {
     "data": {
      "text/html": [
       "<div>\n",
       "<style scoped>\n",
       "    .dataframe tbody tr th:only-of-type {\n",
       "        vertical-align: middle;\n",
       "    }\n",
       "\n",
       "    .dataframe tbody tr th {\n",
       "        vertical-align: top;\n",
       "    }\n",
       "\n",
       "    .dataframe thead th {\n",
       "        text-align: right;\n",
       "    }\n",
       "</style>\n",
       "<table border=\"1\" class=\"dataframe\">\n",
       "  <thead>\n",
       "    <tr style=\"text-align: right;\">\n",
       "      <th></th>\n",
       "      <th>business_code</th>\n",
       "      <th>cust_number</th>\n",
       "      <th>buisness_year</th>\n",
       "      <th>doc_id</th>\n",
       "      <th>document_create_date.1</th>\n",
       "      <th>due_in_date</th>\n",
       "      <th>invoice_currency</th>\n",
       "      <th>total_open_amount</th>\n",
       "      <th>baseline_create_date</th>\n",
       "      <th>cust_payment_terms</th>\n",
       "      <th>invoice_id</th>\n",
       "    </tr>\n",
       "  </thead>\n",
       "  <tbody>\n",
       "    <tr>\n",
       "      <th>13530</th>\n",
       "      <td>1</td>\n",
       "      <td>0200148860</td>\n",
       "      <td>2020.0</td>\n",
       "      <td>1.930411e+09</td>\n",
       "      <td>2020-01-17</td>\n",
       "      <td>2020-02-01</td>\n",
       "      <td>USD</td>\n",
       "      <td>7054.08</td>\n",
       "      <td>2020-01-17</td>\n",
       "      <td>NAA8</td>\n",
       "      <td>1.930411e+09</td>\n",
       "    </tr>\n",
       "    <tr>\n",
       "      <th>48972</th>\n",
       "      <td>1</td>\n",
       "      <td>0200148860</td>\n",
       "      <td>2020.0</td>\n",
       "      <td>1.930402e+09</td>\n",
       "      <td>2020-01-17</td>\n",
       "      <td>2020-02-01</td>\n",
       "      <td>USD</td>\n",
       "      <td>16691.52</td>\n",
       "      <td>2020-01-17</td>\n",
       "      <td>NAA8</td>\n",
       "      <td>1.930402e+09</td>\n",
       "    </tr>\n",
       "    <tr>\n",
       "      <th>23768</th>\n",
       "      <td>1</td>\n",
       "      <td>0100036039</td>\n",
       "      <td>2020.0</td>\n",
       "      <td>1.930407e+09</td>\n",
       "      <td>2020-01-17</td>\n",
       "      <td>2020-02-01</td>\n",
       "      <td>USD</td>\n",
       "      <td>48809.05</td>\n",
       "      <td>2020-01-17</td>\n",
       "      <td>NAA8</td>\n",
       "      <td>1.930407e+09</td>\n",
       "    </tr>\n",
       "    <tr>\n",
       "      <th>24186</th>\n",
       "      <td>1</td>\n",
       "      <td>0200900909</td>\n",
       "      <td>2020.0</td>\n",
       "      <td>1.930412e+09</td>\n",
       "      <td>2020-01-17</td>\n",
       "      <td>2020-02-01</td>\n",
       "      <td>USD</td>\n",
       "      <td>42783.43</td>\n",
       "      <td>2020-01-17</td>\n",
       "      <td>NAA8</td>\n",
       "      <td>1.930412e+09</td>\n",
       "    </tr>\n",
       "    <tr>\n",
       "      <th>41839</th>\n",
       "      <td>1</td>\n",
       "      <td>0200257211</td>\n",
       "      <td>2020.0</td>\n",
       "      <td>1.930372e+09</td>\n",
       "      <td>2020-01-17</td>\n",
       "      <td>2020-02-01</td>\n",
       "      <td>USD</td>\n",
       "      <td>46593.10</td>\n",
       "      <td>2020-01-17</td>\n",
       "      <td>NAA8</td>\n",
       "      <td>1.930372e+09</td>\n",
       "    </tr>\n",
       "  </tbody>\n",
       "</table>\n",
       "</div>"
      ],
      "text/plain": [
       "       business_code cust_number  buisness_year        doc_id  \\\n",
       "13530              1  0200148860         2020.0  1.930411e+09   \n",
       "48972              1  0200148860         2020.0  1.930402e+09   \n",
       "23768              1  0100036039         2020.0  1.930407e+09   \n",
       "24186              1  0200900909         2020.0  1.930412e+09   \n",
       "41839              1  0200257211         2020.0  1.930372e+09   \n",
       "\n",
       "      document_create_date.1 due_in_date invoice_currency  total_open_amount  \\\n",
       "13530             2020-01-17  2020-02-01              USD            7054.08   \n",
       "48972             2020-01-17  2020-02-01              USD           16691.52   \n",
       "23768             2020-01-17  2020-02-01              USD           48809.05   \n",
       "24186             2020-01-17  2020-02-01              USD           42783.43   \n",
       "41839             2020-01-17  2020-02-01              USD           46593.10   \n",
       "\n",
       "      baseline_create_date cust_payment_terms    invoice_id  \n",
       "13530           2020-01-17               NAA8  1.930411e+09  \n",
       "48972           2020-01-17               NAA8  1.930402e+09  \n",
       "23768           2020-01-17               NAA8  1.930407e+09  \n",
       "24186           2020-01-17               NAA8  1.930412e+09  \n",
       "41839           2020-01-17               NAA8  1.930372e+09  "
      ]
     },
     "execution_count": 37,
     "metadata": {},
     "output_type": "execute_result"
    }
   ],
   "source": [
    "business_code_enc =  LabelEncoder()\n",
    "business_code_enc.fit(x_test['business_code'])\n",
    "x_test['business_code']=business_code_enc.transform(x_test['business_code'])\n",
    "x_test.head()"
   ]
  },
  {
   "cell_type": "code",
   "execution_count": 38,
   "id": "fc4546bd",
   "metadata": {},
   "outputs": [
    {
     "data": {
      "text/plain": [
       "array(['CA02', 'U001', 'U002', 'U013'], dtype=object)"
      ]
     },
     "execution_count": 38,
     "metadata": {},
     "output_type": "execute_result"
    }
   ],
   "source": [
    "business_code_enc.classes_"
   ]
  },
  {
   "cell_type": "code",
   "execution_count": 39,
   "id": "f58c8ec1",
   "metadata": {},
   "outputs": [
    {
     "data": {
      "text/html": [
       "<div>\n",
       "<style scoped>\n",
       "    .dataframe tbody tr th:only-of-type {\n",
       "        vertical-align: middle;\n",
       "    }\n",
       "\n",
       "    .dataframe tbody tr th {\n",
       "        vertical-align: top;\n",
       "    }\n",
       "\n",
       "    .dataframe thead th {\n",
       "        text-align: right;\n",
       "    }\n",
       "</style>\n",
       "<table border=\"1\" class=\"dataframe\">\n",
       "  <thead>\n",
       "    <tr style=\"text-align: right;\">\n",
       "      <th></th>\n",
       "      <th>business_code</th>\n",
       "      <th>cust_number</th>\n",
       "      <th>buisness_year</th>\n",
       "      <th>doc_id</th>\n",
       "      <th>document_create_date.1</th>\n",
       "      <th>due_in_date</th>\n",
       "      <th>invoice_currency</th>\n",
       "      <th>total_open_amount</th>\n",
       "      <th>baseline_create_date</th>\n",
       "      <th>cust_payment_terms</th>\n",
       "      <th>invoice_id</th>\n",
       "    </tr>\n",
       "  </thead>\n",
       "  <tbody>\n",
       "    <tr>\n",
       "      <th>20214</th>\n",
       "      <td>1</td>\n",
       "      <td>1214</td>\n",
       "      <td>2019.0</td>\n",
       "      <td>1.928534e+09</td>\n",
       "      <td>2018-12-30</td>\n",
       "      <td>2018-12-30</td>\n",
       "      <td>USD</td>\n",
       "      <td>8009.88</td>\n",
       "      <td>2018-12-30</td>\n",
       "      <td>NAX2</td>\n",
       "      <td>1.928534e+09</td>\n",
       "    </tr>\n",
       "    <tr>\n",
       "      <th>25411</th>\n",
       "      <td>1</td>\n",
       "      <td>788</td>\n",
       "      <td>2019.0</td>\n",
       "      <td>1.928543e+09</td>\n",
       "      <td>2018-12-30</td>\n",
       "      <td>2019-01-14</td>\n",
       "      <td>USD</td>\n",
       "      <td>35599.61</td>\n",
       "      <td>2018-12-30</td>\n",
       "      <td>NAA8</td>\n",
       "      <td>1.928543e+09</td>\n",
       "    </tr>\n",
       "    <tr>\n",
       "      <th>1734</th>\n",
       "      <td>1</td>\n",
       "      <td>720</td>\n",
       "      <td>2019.0</td>\n",
       "      <td>1.928537e+09</td>\n",
       "      <td>2018-12-30</td>\n",
       "      <td>2019-01-14</td>\n",
       "      <td>USD</td>\n",
       "      <td>41028.91</td>\n",
       "      <td>2018-12-30</td>\n",
       "      <td>NAH4</td>\n",
       "      <td>1.928537e+09</td>\n",
       "    </tr>\n",
       "    <tr>\n",
       "      <th>3130</th>\n",
       "      <td>1</td>\n",
       "      <td>584</td>\n",
       "      <td>2019.0</td>\n",
       "      <td>1.928534e+09</td>\n",
       "      <td>2018-12-30</td>\n",
       "      <td>2019-01-14</td>\n",
       "      <td>USD</td>\n",
       "      <td>114737.60</td>\n",
       "      <td>2018-12-30</td>\n",
       "      <td>NAA8</td>\n",
       "      <td>1.928534e+09</td>\n",
       "    </tr>\n",
       "    <tr>\n",
       "      <th>3166</th>\n",
       "      <td>1</td>\n",
       "      <td>720</td>\n",
       "      <td>2019.0</td>\n",
       "      <td>1.928540e+09</td>\n",
       "      <td>2018-12-30</td>\n",
       "      <td>2019-01-14</td>\n",
       "      <td>USD</td>\n",
       "      <td>15895.72</td>\n",
       "      <td>2018-12-30</td>\n",
       "      <td>NAH4</td>\n",
       "      <td>1.928540e+09</td>\n",
       "    </tr>\n",
       "  </tbody>\n",
       "</table>\n",
       "</div>"
      ],
      "text/plain": [
       "       business_code  cust_number  buisness_year        doc_id  \\\n",
       "20214              1         1214         2019.0  1.928534e+09   \n",
       "25411              1          788         2019.0  1.928543e+09   \n",
       "1734               1          720         2019.0  1.928537e+09   \n",
       "3130               1          584         2019.0  1.928534e+09   \n",
       "3166               1          720         2019.0  1.928540e+09   \n",
       "\n",
       "      document_create_date.1 due_in_date invoice_currency  total_open_amount  \\\n",
       "20214             2018-12-30  2018-12-30              USD            8009.88   \n",
       "25411             2018-12-30  2019-01-14              USD           35599.61   \n",
       "1734              2018-12-30  2019-01-14              USD           41028.91   \n",
       "3130              2018-12-30  2019-01-14              USD          114737.60   \n",
       "3166              2018-12-30  2019-01-14              USD           15895.72   \n",
       "\n",
       "      baseline_create_date cust_payment_terms    invoice_id  \n",
       "20214           2018-12-30               NAX2  1.928534e+09  \n",
       "25411           2018-12-30               NAA8  1.928543e+09  \n",
       "1734            2018-12-30               NAH4  1.928537e+09  \n",
       "3130            2018-12-30               NAA8  1.928534e+09  \n",
       "3166            2018-12-30               NAH4  1.928540e+09  "
      ]
     },
     "execution_count": 39,
     "metadata": {},
     "output_type": "execute_result"
    }
   ],
   "source": [
    "cust_number_enc =  LabelEncoder()\n",
    "cust_number_enc.fit(x_train['cust_number'])\n",
    "x_train['cust_number']=cust_number_enc.transform(x_train['cust_number'])\n",
    "\n",
    "\n",
    "\n",
    "\n",
    "cust_number_enc =  LabelEncoder()\n",
    "cust_number_enc.fit(x_val['cust_number'])\n",
    "x_val['cust_number']=cust_number_enc.transform(x_val['cust_number'])\n",
    "\n",
    "\n",
    "\n",
    "\n",
    "cust_number_enc =  LabelEncoder()\n",
    "cust_number_enc.fit(x_test['cust_number'])\n",
    "x_test['cust_number']=cust_number_enc.transform(x_test['cust_number'])\n",
    "\n",
    "x_train.head()\n",
    "\n"
   ]
  },
  {
   "cell_type": "code",
   "execution_count": 40,
   "id": "ef7b7c48",
   "metadata": {},
   "outputs": [
    {
     "data": {
      "text/html": [
       "<div>\n",
       "<style scoped>\n",
       "    .dataframe tbody tr th:only-of-type {\n",
       "        vertical-align: middle;\n",
       "    }\n",
       "\n",
       "    .dataframe tbody tr th {\n",
       "        vertical-align: top;\n",
       "    }\n",
       "\n",
       "    .dataframe thead th {\n",
       "        text-align: right;\n",
       "    }\n",
       "</style>\n",
       "<table border=\"1\" class=\"dataframe\">\n",
       "  <thead>\n",
       "    <tr style=\"text-align: right;\">\n",
       "      <th></th>\n",
       "      <th>business_code</th>\n",
       "      <th>cust_number</th>\n",
       "      <th>buisness_year</th>\n",
       "      <th>doc_id</th>\n",
       "      <th>document_create_date.1</th>\n",
       "      <th>due_in_date</th>\n",
       "      <th>invoice_currency</th>\n",
       "      <th>total_open_amount</th>\n",
       "      <th>baseline_create_date</th>\n",
       "      <th>cust_payment_terms</th>\n",
       "      <th>invoice_id</th>\n",
       "    </tr>\n",
       "  </thead>\n",
       "  <tbody>\n",
       "    <tr>\n",
       "      <th>20214</th>\n",
       "      <td>1</td>\n",
       "      <td>1214</td>\n",
       "      <td>2019.0</td>\n",
       "      <td>1.928534e+09</td>\n",
       "      <td>2018-12-30</td>\n",
       "      <td>2018-12-30</td>\n",
       "      <td>1</td>\n",
       "      <td>8009.88</td>\n",
       "      <td>2018-12-30</td>\n",
       "      <td>NAX2</td>\n",
       "      <td>1.928534e+09</td>\n",
       "    </tr>\n",
       "    <tr>\n",
       "      <th>25411</th>\n",
       "      <td>1</td>\n",
       "      <td>788</td>\n",
       "      <td>2019.0</td>\n",
       "      <td>1.928543e+09</td>\n",
       "      <td>2018-12-30</td>\n",
       "      <td>2019-01-14</td>\n",
       "      <td>1</td>\n",
       "      <td>35599.61</td>\n",
       "      <td>2018-12-30</td>\n",
       "      <td>NAA8</td>\n",
       "      <td>1.928543e+09</td>\n",
       "    </tr>\n",
       "    <tr>\n",
       "      <th>1734</th>\n",
       "      <td>1</td>\n",
       "      <td>720</td>\n",
       "      <td>2019.0</td>\n",
       "      <td>1.928537e+09</td>\n",
       "      <td>2018-12-30</td>\n",
       "      <td>2019-01-14</td>\n",
       "      <td>1</td>\n",
       "      <td>41028.91</td>\n",
       "      <td>2018-12-30</td>\n",
       "      <td>NAH4</td>\n",
       "      <td>1.928537e+09</td>\n",
       "    </tr>\n",
       "    <tr>\n",
       "      <th>3130</th>\n",
       "      <td>1</td>\n",
       "      <td>584</td>\n",
       "      <td>2019.0</td>\n",
       "      <td>1.928534e+09</td>\n",
       "      <td>2018-12-30</td>\n",
       "      <td>2019-01-14</td>\n",
       "      <td>1</td>\n",
       "      <td>114737.60</td>\n",
       "      <td>2018-12-30</td>\n",
       "      <td>NAA8</td>\n",
       "      <td>1.928534e+09</td>\n",
       "    </tr>\n",
       "    <tr>\n",
       "      <th>3166</th>\n",
       "      <td>1</td>\n",
       "      <td>720</td>\n",
       "      <td>2019.0</td>\n",
       "      <td>1.928540e+09</td>\n",
       "      <td>2018-12-30</td>\n",
       "      <td>2019-01-14</td>\n",
       "      <td>1</td>\n",
       "      <td>15895.72</td>\n",
       "      <td>2018-12-30</td>\n",
       "      <td>NAH4</td>\n",
       "      <td>1.928540e+09</td>\n",
       "    </tr>\n",
       "  </tbody>\n",
       "</table>\n",
       "</div>"
      ],
      "text/plain": [
       "       business_code  cust_number  buisness_year        doc_id  \\\n",
       "20214              1         1214         2019.0  1.928534e+09   \n",
       "25411              1          788         2019.0  1.928543e+09   \n",
       "1734               1          720         2019.0  1.928537e+09   \n",
       "3130               1          584         2019.0  1.928534e+09   \n",
       "3166               1          720         2019.0  1.928540e+09   \n",
       "\n",
       "      document_create_date.1 due_in_date  invoice_currency  total_open_amount  \\\n",
       "20214             2018-12-30  2018-12-30                 1            8009.88   \n",
       "25411             2018-12-30  2019-01-14                 1           35599.61   \n",
       "1734              2018-12-30  2019-01-14                 1           41028.91   \n",
       "3130              2018-12-30  2019-01-14                 1          114737.60   \n",
       "3166              2018-12-30  2019-01-14                 1           15895.72   \n",
       "\n",
       "      baseline_create_date cust_payment_terms    invoice_id  \n",
       "20214           2018-12-30               NAX2  1.928534e+09  \n",
       "25411           2018-12-30               NAA8  1.928543e+09  \n",
       "1734            2018-12-30               NAH4  1.928537e+09  \n",
       "3130            2018-12-30               NAA8  1.928534e+09  \n",
       "3166            2018-12-30               NAH4  1.928540e+09  "
      ]
     },
     "execution_count": 40,
     "metadata": {},
     "output_type": "execute_result"
    }
   ],
   "source": [
    "invoice_currency_enc=LabelEncoder()\n",
    "invoice_currency_enc.fit(x_train['invoice_currency'])\n",
    "x_train['invoice_currency'] = invoice_currency_enc.transform(x_train['invoice_currency'])\n",
    "\n",
    "\n",
    "\n",
    "\n",
    "invoice_currency_enc=LabelEncoder()\n",
    "invoice_currency_enc.fit(x_val['invoice_currency'])\n",
    "x_val['invoice_currency'] = invoice_currency_enc.transform(x_val['invoice_currency'])\n",
    "\n",
    "\n",
    "\n",
    "\n",
    "invoice_currency_enc=LabelEncoder()\n",
    "invoice_currency_enc.fit(x_test['invoice_currency'])\n",
    "x_test['invoice_currency'] = invoice_currency_enc.transform(x_test['invoice_currency'])\n",
    "x_train.head()\n"
   ]
  },
  {
   "cell_type": "markdown",
   "id": "0abb81ed",
   "metadata": {},
   "source": [
    "### converting target to int"
   ]
  },
  {
   "cell_type": "code",
   "execution_count": 41,
   "id": "dfc7622d",
   "metadata": {},
   "outputs": [
    {
     "data": {
      "text/plain": [
       "837     -1\n",
       "21536   -1\n",
       "31842   -1\n",
       "35317   -1\n",
       "3428     0\n",
       "        ..\n",
       "13669    3\n",
       "20283    3\n",
       "23140    3\n",
       "27823    3\n",
       "45319    3\n",
       "Name: delay, Length: 8400, dtype: int32"
      ]
     },
     "execution_count": 41,
     "metadata": {},
     "output_type": "execute_result"
    }
   ],
   "source": [
    "y_train= y_train.astype(str)\n",
    "y_train = y_train.str.replace('days',\"\").astype(int)\n",
    "\n",
    "\n",
    "y_val= y_val.astype(str)\n",
    "y_val = y_val.str.replace('days',\"\").astype(int)\n",
    "\n",
    "\n",
    "y_test= y_test.astype(str)\n",
    "y_test = y_test.str.replace('days',\"\").astype(int)\n",
    "\n",
    "\n",
    "y_val"
   ]
  },
  {
   "cell_type": "code",
   "execution_count": 42,
   "id": "0fe22051",
   "metadata": {},
   "outputs": [
    {
     "data": {
      "text/plain": [
       "business_code                      int32\n",
       "cust_number                        int32\n",
       "buisness_year                    float64\n",
       "doc_id                           float64\n",
       "document_create_date.1    datetime64[ns]\n",
       "due_in_date               datetime64[ns]\n",
       "invoice_currency                   int32\n",
       "total_open_amount                float64\n",
       "baseline_create_date      datetime64[ns]\n",
       "cust_payment_terms                object\n",
       "invoice_id                       float64\n",
       "dtype: object"
      ]
     },
     "execution_count": 42,
     "metadata": {},
     "output_type": "execute_result"
    }
   ],
   "source": [
    "x_train.dtypes"
   ]
  },
  {
   "cell_type": "code",
   "execution_count": 43,
   "id": "9d9ebd4c",
   "metadata": {},
   "outputs": [
    {
     "data": {
      "text/html": [
       "<div>\n",
       "<style scoped>\n",
       "    .dataframe tbody tr th:only-of-type {\n",
       "        vertical-align: middle;\n",
       "    }\n",
       "\n",
       "    .dataframe tbody tr th {\n",
       "        vertical-align: top;\n",
       "    }\n",
       "\n",
       "    .dataframe thead th {\n",
       "        text-align: right;\n",
       "    }\n",
       "</style>\n",
       "<table border=\"1\" class=\"dataframe\">\n",
       "  <thead>\n",
       "    <tr style=\"text-align: right;\">\n",
       "      <th></th>\n",
       "      <th>business_code</th>\n",
       "      <th>cust_number</th>\n",
       "      <th>buisness_year</th>\n",
       "      <th>doc_id</th>\n",
       "      <th>document_create_date.1</th>\n",
       "      <th>due_in_date</th>\n",
       "      <th>invoice_currency</th>\n",
       "      <th>total_open_amount</th>\n",
       "      <th>baseline_create_date</th>\n",
       "      <th>cust_payment_terms</th>\n",
       "      <th>invoice_id</th>\n",
       "    </tr>\n",
       "  </thead>\n",
       "  <tbody>\n",
       "    <tr>\n",
       "      <th>20214</th>\n",
       "      <td>1</td>\n",
       "      <td>1214</td>\n",
       "      <td>2019.0</td>\n",
       "      <td>1.928534e+09</td>\n",
       "      <td>2018-12-30</td>\n",
       "      <td>2018-12-30</td>\n",
       "      <td>1</td>\n",
       "      <td>8009.88</td>\n",
       "      <td>2018-12-30</td>\n",
       "      <td>NAX2</td>\n",
       "      <td>1.928534e+09</td>\n",
       "    </tr>\n",
       "    <tr>\n",
       "      <th>25411</th>\n",
       "      <td>1</td>\n",
       "      <td>788</td>\n",
       "      <td>2019.0</td>\n",
       "      <td>1.928543e+09</td>\n",
       "      <td>2018-12-30</td>\n",
       "      <td>2019-01-14</td>\n",
       "      <td>1</td>\n",
       "      <td>35599.61</td>\n",
       "      <td>2018-12-30</td>\n",
       "      <td>NAA8</td>\n",
       "      <td>1.928543e+09</td>\n",
       "    </tr>\n",
       "    <tr>\n",
       "      <th>1734</th>\n",
       "      <td>1</td>\n",
       "      <td>720</td>\n",
       "      <td>2019.0</td>\n",
       "      <td>1.928537e+09</td>\n",
       "      <td>2018-12-30</td>\n",
       "      <td>2019-01-14</td>\n",
       "      <td>1</td>\n",
       "      <td>41028.91</td>\n",
       "      <td>2018-12-30</td>\n",
       "      <td>NAH4</td>\n",
       "      <td>1.928537e+09</td>\n",
       "    </tr>\n",
       "    <tr>\n",
       "      <th>3130</th>\n",
       "      <td>1</td>\n",
       "      <td>584</td>\n",
       "      <td>2019.0</td>\n",
       "      <td>1.928534e+09</td>\n",
       "      <td>2018-12-30</td>\n",
       "      <td>2019-01-14</td>\n",
       "      <td>1</td>\n",
       "      <td>114737.60</td>\n",
       "      <td>2018-12-30</td>\n",
       "      <td>NAA8</td>\n",
       "      <td>1.928534e+09</td>\n",
       "    </tr>\n",
       "    <tr>\n",
       "      <th>3166</th>\n",
       "      <td>1</td>\n",
       "      <td>720</td>\n",
       "      <td>2019.0</td>\n",
       "      <td>1.928540e+09</td>\n",
       "      <td>2018-12-30</td>\n",
       "      <td>2019-01-14</td>\n",
       "      <td>1</td>\n",
       "      <td>15895.72</td>\n",
       "      <td>2018-12-30</td>\n",
       "      <td>NAH4</td>\n",
       "      <td>1.928540e+09</td>\n",
       "    </tr>\n",
       "  </tbody>\n",
       "</table>\n",
       "</div>"
      ],
      "text/plain": [
       "       business_code  cust_number  buisness_year        doc_id  \\\n",
       "20214              1         1214         2019.0  1.928534e+09   \n",
       "25411              1          788         2019.0  1.928543e+09   \n",
       "1734               1          720         2019.0  1.928537e+09   \n",
       "3130               1          584         2019.0  1.928534e+09   \n",
       "3166               1          720         2019.0  1.928540e+09   \n",
       "\n",
       "      document_create_date.1 due_in_date  invoice_currency  total_open_amount  \\\n",
       "20214             2018-12-30  2018-12-30                 1            8009.88   \n",
       "25411             2018-12-30  2019-01-14                 1           35599.61   \n",
       "1734              2018-12-30  2019-01-14                 1           41028.91   \n",
       "3130              2018-12-30  2019-01-14                 1          114737.60   \n",
       "3166              2018-12-30  2019-01-14                 1           15895.72   \n",
       "\n",
       "      baseline_create_date cust_payment_terms    invoice_id  \n",
       "20214           2018-12-30               NAX2  1.928534e+09  \n",
       "25411           2018-12-30               NAA8  1.928543e+09  \n",
       "1734            2018-12-30               NAH4  1.928537e+09  \n",
       "3130            2018-12-30               NAA8  1.928534e+09  \n",
       "3166            2018-12-30               NAH4  1.928540e+09  "
      ]
     },
     "execution_count": 43,
     "metadata": {},
     "output_type": "execute_result"
    }
   ],
   "source": [
    "x_train.head()"
   ]
  },
  {
   "cell_type": "code",
   "execution_count": 44,
   "id": "3bfe981a",
   "metadata": {},
   "outputs": [
    {
     "data": {
      "text/plain": [
       "(27998, 11)"
      ]
     },
     "execution_count": 44,
     "metadata": {},
     "output_type": "execute_result"
    }
   ],
   "source": [
    "x_train.shape"
   ]
  },
  {
   "cell_type": "code",
   "execution_count": 45,
   "id": "7ee6bd97",
   "metadata": {},
   "outputs": [
    {
     "data": {
      "text/plain": [
       "<AxesSubplot:xlabel='baseline_create_date', ylabel='document_create_date.1'>"
      ]
     },
     "execution_count": 45,
     "metadata": {},
     "output_type": "execute_result"
    },
    {
     "data": {
      "image/png": "[encoded data removed]",
      "text/plain": [
       "<Figure size 432x288 with 1 Axes>"
      ]
     },
     "metadata": {
      "needs_background": "light"
     },
     "output_type": "display_data"
    }
   ],
   "source": [
    "x=x_train['baseline_create_date']\n",
    "y=x_train['document_create_date.1']\n",
    "sns.scatterplot(x, y)"
   ]
  },
  {
   "cell_type": "markdown",
   "id": "5670b75c",
   "metadata": {},
   "source": [
    "### this is linear which shows that there is more correlation between basile_creat_date and document_create date.so one can be droped "
   ]
  },
  {
   "cell_type": "code",
   "execution_count": 46,
   "id": "5be5c8b7",
   "metadata": {},
   "outputs": [],
   "source": [
    "x_train.drop('baseline_create_date',axis=1,inplace=True)"
   ]
  },
  {
   "cell_type": "code",
   "execution_count": 47,
   "id": "cbf39031",
   "metadata": {},
   "outputs": [],
   "source": [
    "x_val.drop('baseline_create_date',axis=1,inplace=True)"
   ]
  },
  {
   "cell_type": "code",
   "execution_count": 48,
   "id": "9091baa2",
   "metadata": {},
   "outputs": [],
   "source": [
    "x_test.drop('baseline_create_date',axis=1,inplace=True)"
   ]
  },
  {
   "cell_type": "code",
   "execution_count": 49,
   "id": "598f5be1",
   "metadata": {},
   "outputs": [],
   "source": [
    "x_train['month_due_in_date '] = x_train['due_in_date'].dt.month\n",
    "x_train['day_due_in_date '] = x_train['due_in_date'].dt.day\n",
    "x_train['year_due_in_date'] = x_train['due_in_date'].dt.year\n",
    "\n",
    "\n",
    "\n",
    "x_val['month_due_in_date '] = x_val['due_in_date'].dt.month\n",
    "x_val['day_due_in_date '] = x_val['due_in_date'].dt.day\n",
    "x_val['year_due_in_date' ] = x_val['due_in_date'].dt.year\n",
    "\n",
    "\n",
    "\n",
    "\n",
    "\n",
    "x_test['month_due_in_date '] = x_test['due_in_date'].dt.month\n",
    "x_test['day_due_in_date '] = x_test['due_in_date'].dt.day\n",
    "x_test['year_due_in_date '] = x_test['due_in_date'].dt.year"
   ]
  },
  {
   "cell_type": "code",
   "execution_count": 50,
   "id": "c6906f68",
   "metadata": {},
   "outputs": [],
   "source": [
    "x_train['month_document_create_date.1 '] = x_train['document_create_date.1'].dt.month\n",
    "x_train['day_document_create_date.1 '] = x_train['document_create_date.1'].dt.day\n",
    "x_train['year_document_create_date.1'] = x_train['document_create_date.1'].dt.year\n",
    "\n",
    "\n",
    "\n",
    "x_val['month_document_create_date.1 '] = x_val['document_create_date.1'].dt.month\n",
    "x_val['day_document_create_date.1'] = x_val['document_create_date.1'].dt.day\n",
    "x_val['year_document_create_date.1' ] = x_val['document_create_date.1'].dt.year\n",
    "\n",
    "\n",
    "\n",
    "\n",
    "\n",
    "x_test['month_document_create_date.1'] = x_test['document_create_date.1'].dt.month\n",
    "x_test['day_document_create_date.1'] = x_test['document_create_date.1'].dt.day\n",
    "x_test['year_document_create_date.1'] = x_test['document_create_date.1'].dt.year"
   ]
  },
  {
   "cell_type": "code",
   "execution_count": 51,
   "id": "d8edad50",
   "metadata": {},
   "outputs": [],
   "source": [
    "x_train.drop(['document_create_date.1','due_in_date'],axis=1,inplace=True)"
   ]
  },
  {
   "cell_type": "code",
   "execution_count": 52,
   "id": "d50c0f79",
   "metadata": {},
   "outputs": [],
   "source": [
    "x_val.drop(['document_create_date.1','due_in_date'],axis=1,inplace=True)"
   ]
  },
  {
   "cell_type": "code",
   "execution_count": 53,
   "id": "be5c2698",
   "metadata": {},
   "outputs": [],
   "source": [
    "x_test.drop(['document_create_date.1','due_in_date'],axis=1,inplace=True)"
   ]
  },
  {
   "cell_type": "code",
   "execution_count": 54,
   "id": "f544e732",
   "metadata": {},
   "outputs": [
    {
     "data": {
      "text/plain": [
       "NAA8    11437\n",
       "NAH4     7088\n",
       "CA10     2176\n",
       "NAC6      934\n",
       "NAM4      761\n",
       "        ...  \n",
       "NAUP        1\n",
       "NAD8        1\n",
       "B112        1\n",
       "NAUI        1\n",
       "NATH        1\n",
       "Name: cust_payment_terms, Length: 64, dtype: int64"
      ]
     },
     "execution_count": 54,
     "metadata": {},
     "output_type": "execute_result"
    }
   ],
   "source": [
    "x_train.cust_payment_terms.value_counts()"
   ]
  },
  {
   "cell_type": "code",
   "execution_count": 55,
   "id": "40a52938",
   "metadata": {},
   "outputs": [],
   "source": [
    "cust_payment_enc=LabelEncoder()\n",
    "cust_payment_enc.fit(x_train['cust_payment_terms'])\n",
    "x_train['cust_payment_terms']=cust_payment_enc.transform(x_train['cust_payment_terms'])\n",
    "\n",
    "\n",
    "\n",
    "cust_payment_enc=LabelEncoder()\n",
    "cust_payment_enc.fit(x_val['cust_payment_terms'])\n",
    "x_val['cust_payment_terms']=cust_payment_enc.transform(x_val['cust_payment_terms'])\n",
    "\n",
    "\n",
    "\n",
    "\n",
    "cust_payment_enc=LabelEncoder()\n",
    "cust_payment_enc.fit(x_test['cust_payment_terms'])\n",
    "x_test['cust_payment_terms']=cust_payment_enc.transform(x_test['cust_payment_terms'])\n",
    "\n"
   ]
  },
  {
   "cell_type": "markdown",
   "id": "9a08125b",
   "metadata": {},
   "source": [
    "### checking if all the datatypes are of int and float type"
   ]
  },
  {
   "cell_type": "code",
   "execution_count": 56,
   "id": "9c835745",
   "metadata": {},
   "outputs": [
    {
     "data": {
      "text/plain": [
       "business_code                      int32\n",
       "cust_number                        int32\n",
       "buisness_year                    float64\n",
       "doc_id                           float64\n",
       "invoice_currency                   int32\n",
       "total_open_amount                float64\n",
       "cust_payment_terms                 int32\n",
       "invoice_id                       float64\n",
       "month_due_in_date                  int64\n",
       "day_due_in_date                    int64\n",
       "year_due_in_date                   int64\n",
       "month_document_create_date.1       int64\n",
       "day_document_create_date.1         int64\n",
       "year_document_create_date.1        int64\n",
       "dtype: object"
      ]
     },
     "execution_count": 56,
     "metadata": {},
     "output_type": "execute_result"
    }
   ],
   "source": [
    "x_train.dtypes"
   ]
  },
  {
   "cell_type": "code",
   "execution_count": 57,
   "id": "96ff9562",
   "metadata": {},
   "outputs": [
    {
     "data": {
      "text/plain": [
       "business_code                      int32\n",
       "cust_number                        int32\n",
       "buisness_year                    float64\n",
       "doc_id                           float64\n",
       "invoice_currency                   int32\n",
       "total_open_amount                float64\n",
       "cust_payment_terms                 int32\n",
       "invoice_id                       float64\n",
       "month_due_in_date                  int64\n",
       "day_due_in_date                    int64\n",
       "year_due_in_date                   int64\n",
       "month_document_create_date.1       int64\n",
       "day_document_create_date.1         int64\n",
       "year_document_create_date.1        int64\n",
       "dtype: object"
      ]
     },
     "execution_count": 57,
     "metadata": {},
     "output_type": "execute_result"
    }
   ],
   "source": [
    "x_val.dtypes"
   ]
  },
  {
   "cell_type": "code",
   "execution_count": 58,
   "id": "13056291",
   "metadata": {},
   "outputs": [
    {
     "data": {
      "text/plain": [
       "business_code                     int32\n",
       "cust_number                       int32\n",
       "buisness_year                   float64\n",
       "doc_id                          float64\n",
       "invoice_currency                  int32\n",
       "total_open_amount               float64\n",
       "cust_payment_terms                int32\n",
       "invoice_id                      float64\n",
       "month_due_in_date                 int64\n",
       "day_due_in_date                   int64\n",
       "year_due_in_date                  int64\n",
       "month_document_create_date.1      int64\n",
       "day_document_create_date.1        int64\n",
       "year_document_create_date.1       int64\n",
       "dtype: object"
      ]
     },
     "execution_count": 58,
     "metadata": {},
     "output_type": "execute_result"
    }
   ],
   "source": [
    "x_test.dtypes"
   ]
  },
  {
   "cell_type": "code",
   "execution_count": 59,
   "id": "f736e420",
   "metadata": {},
   "outputs": [
    {
     "data": {
      "text/plain": [
       "(27998, 14)"
      ]
     },
     "execution_count": 59,
     "metadata": {},
     "output_type": "execute_result"
    }
   ],
   "source": [
    "x_train.shape"
   ]
  },
  {
   "cell_type": "code",
   "execution_count": 60,
   "id": "1cae6090",
   "metadata": {},
   "outputs": [
    {
     "data": {
      "text/plain": [
       "(8400, 14)"
      ]
     },
     "execution_count": 60,
     "metadata": {},
     "output_type": "execute_result"
    }
   ],
   "source": [
    "x_val.shape"
   ]
  },
  {
   "cell_type": "code",
   "execution_count": 61,
   "id": "a6e3fa21",
   "metadata": {},
   "outputs": [
    {
     "data": {
      "text/plain": [
       "(3600, 14)"
      ]
     },
     "execution_count": 61,
     "metadata": {},
     "output_type": "execute_result"
    }
   ],
   "source": [
    "x_test.shape"
   ]
  },
  {
   "cell_type": "markdown",
   "id": "8de6bb6a",
   "metadata": {},
   "source": [
    "## Feature selection"
   ]
  },
  {
   "cell_type": "markdown",
   "id": "159dbde8",
   "metadata": {},
   "source": [
    "### heat map"
   ]
  },
  {
   "cell_type": "code",
   "execution_count": 62,
   "id": "d67bd1b6",
   "metadata": {},
   "outputs": [
    {
     "data": {
      "text/plain": [
       "<AxesSubplot:>"
      ]
     },
     "execution_count": 62,
     "metadata": {},
     "output_type": "execute_result"
    },
    {
     "data": {
      "image/png": "[encoded data removed]",
      "text/plain": [
       "<Figure size 792x792 with 2 Axes>"
      ]
     },
     "metadata": {
      "needs_background": "light"
     },
     "output_type": "display_data"
    }
   ],
   "source": [
    "corrmat = x_train.merge(y_train , on = x_train.index ).corr()\n",
    "fig,ax=plt.subplots()\n",
    "fig.set_size_inches(11,11)\n",
    "sns.heatmap(corrmat)"
   ]
  },
  {
   "cell_type": "code",
   "execution_count": 63,
   "id": "f561d2b7",
   "metadata": {},
   "outputs": [
    {
     "data": {
      "text/plain": [
       "<AxesSubplot:title={'center':'heatmap'}>"
      ]
     },
     "execution_count": 63,
     "metadata": {},
     "output_type": "execute_result"
    },
    {
     "data": {
      "image/png": "[encoded data removed]",
      "text/plain": [
       "<Figure size 1008x864 with 2 Axes>"
      ]
     },
     "metadata": {
      "needs_background": "light"
     },
     "output_type": "display_data"
    }
   ],
   "source": [
    "colormap = plt.cm.RdBu\n",
    "plt.figure(figsize=(14,12))\n",
    "plt.title('heatmap', y=1.05, size=15)\n",
    "sns.heatmap(x_train.merge(y_train , on = x_train.index ).corr(),linewidths=0.1,vmax=1.0, \n",
    "            square=True, cmap=colormap, linecolor='white', annot=True)"
   ]
  },
  {
   "cell_type": "markdown",
   "id": "1e9d031f",
   "metadata": {},
   "source": [
    "### from the heat map we can understand that business year and year_clear_date has zero correlation and it is constant so drop it "
   ]
  },
  {
   "cell_type": "code",
   "execution_count": 64,
   "id": "c835b853",
   "metadata": {},
   "outputs": [
    {
     "data": {
      "text/plain": [
       "business_code                     int32\n",
       "cust_number                       int32\n",
       "buisness_year                   float64\n",
       "doc_id                          float64\n",
       "invoice_currency                  int32\n",
       "total_open_amount               float64\n",
       "cust_payment_terms                int32\n",
       "invoice_id                      float64\n",
       "month_due_in_date                 int64\n",
       "day_due_in_date                   int64\n",
       "year_due_in_date                  int64\n",
       "month_document_create_date.1      int64\n",
       "day_document_create_date.1        int64\n",
       "year_document_create_date.1       int64\n",
       "dtype: object"
      ]
     },
     "execution_count": 64,
     "metadata": {},
     "output_type": "execute_result"
    }
   ],
   "source": [
    "x_test.dtypes"
   ]
  },
  {
   "cell_type": "code",
   "execution_count": 65,
   "id": "99cc2e42",
   "metadata": {},
   "outputs": [],
   "source": [
    "x_train.drop(['buisness_year'],axis=1,inplace=True)"
   ]
  },
  {
   "cell_type": "code",
   "execution_count": 66,
   "id": "983b862b",
   "metadata": {},
   "outputs": [],
   "source": [
    "x_val.drop(['buisness_year'],axis=1,inplace=True)"
   ]
  },
  {
   "cell_type": "code",
   "execution_count": 67,
   "id": "31d0eb5e",
   "metadata": {},
   "outputs": [],
   "source": [
    "x_test.drop(['buisness_year'],axis=1,inplace=True)"
   ]
  },
  {
   "cell_type": "code",
   "execution_count": 68,
   "id": "cca71b63",
   "metadata": {},
   "outputs": [
    {
     "data": {
      "text/plain": [
       "business_code                     int32\n",
       "cust_number                       int32\n",
       "doc_id                          float64\n",
       "invoice_currency                  int32\n",
       "total_open_amount               float64\n",
       "cust_payment_terms                int32\n",
       "invoice_id                      float64\n",
       "month_due_in_date                 int64\n",
       "day_due_in_date                   int64\n",
       "year_due_in_date                  int64\n",
       "month_document_create_date.1      int64\n",
       "day_document_create_date.1        int64\n",
       "year_document_create_date.1       int64\n",
       "dtype: object"
      ]
     },
     "execution_count": 68,
     "metadata": {},
     "output_type": "execute_result"
    }
   ],
   "source": [
    "x_test.dtypes"
   ]
  },
  {
   "cell_type": "code",
   "execution_count": 69,
   "id": "137d0326",
   "metadata": {},
   "outputs": [
    {
     "data": {
      "text/plain": [
       "(13, (27998, 13))"
      ]
     },
     "execution_count": 69,
     "metadata": {},
     "output_type": "execute_result"
    }
   ],
   "source": [
    "from sklearn.feature_selection import VarianceThreshold\n",
    "sel = VarianceThreshold(0)\n",
    "sel.fit(x_train)\n",
    "sum(sel.get_support()),x_train.shape"
   ]
  },
  {
   "cell_type": "markdown",
   "id": "2ce9cf90",
   "metadata": {},
   "source": [
    "##### all columns variance meets the threshold and they are having good correlation with the delay"
   ]
  },
  {
   "cell_type": "code",
   "execution_count": 70,
   "id": "58eb4e58",
   "metadata": {},
   "outputs": [
    {
     "data": {
      "text/html": [
       "<div>\n",
       "<style scoped>\n",
       "    .dataframe tbody tr th:only-of-type {\n",
       "        vertical-align: middle;\n",
       "    }\n",
       "\n",
       "    .dataframe tbody tr th {\n",
       "        vertical-align: top;\n",
       "    }\n",
       "\n",
       "    .dataframe thead th {\n",
       "        text-align: right;\n",
       "    }\n",
       "</style>\n",
       "<table border=\"1\" class=\"dataframe\">\n",
       "  <thead>\n",
       "    <tr style=\"text-align: right;\">\n",
       "      <th></th>\n",
       "      <th>business_code</th>\n",
       "      <th>cust_number</th>\n",
       "      <th>doc_id</th>\n",
       "      <th>invoice_currency</th>\n",
       "      <th>total_open_amount</th>\n",
       "      <th>cust_payment_terms</th>\n",
       "      <th>invoice_id</th>\n",
       "      <th>month_due_in_date</th>\n",
       "      <th>day_due_in_date</th>\n",
       "      <th>year_due_in_date</th>\n",
       "      <th>month_document_create_date.1</th>\n",
       "      <th>day_document_create_date.1</th>\n",
       "      <th>year_document_create_date.1</th>\n",
       "    </tr>\n",
       "  </thead>\n",
       "  <tbody>\n",
       "    <tr>\n",
       "      <th>business_code</th>\n",
       "      <td>2.974200e-01</td>\n",
       "      <td>1.738565e+01</td>\n",
       "      <td>-7.673626e+07</td>\n",
       "      <td>7.757460e-02</td>\n",
       "      <td>-2.566717e+03</td>\n",
       "      <td>2.977916e+00</td>\n",
       "      <td>-7.673626e+07</td>\n",
       "      <td>3.729693e-02</td>\n",
       "      <td>3.223831e-02</td>\n",
       "      <td>-0.000002</td>\n",
       "      <td>-1.272897e-02</td>\n",
       "      <td>5.425108e-02</td>\n",
       "      <td>-0.000070</td>\n",
       "    </tr>\n",
       "    <tr>\n",
       "      <th>cust_number</th>\n",
       "      <td>1.738565e+01</td>\n",
       "      <td>5.541325e+04</td>\n",
       "      <td>-2.585003e+10</td>\n",
       "      <td>2.499787e+01</td>\n",
       "      <td>-8.681713e+05</td>\n",
       "      <td>9.616025e+02</td>\n",
       "      <td>-2.585003e+10</td>\n",
       "      <td>-2.436587e+01</td>\n",
       "      <td>1.576130e+01</td>\n",
       "      <td>-0.038415</td>\n",
       "      <td>-2.273348e+01</td>\n",
       "      <td>-4.596906e+01</td>\n",
       "      <td>0.036238</td>\n",
       "    </tr>\n",
       "    <tr>\n",
       "      <th>doc_id</th>\n",
       "      <td>-7.673626e+07</td>\n",
       "      <td>-2.585003e+10</td>\n",
       "      <td>7.785366e+16</td>\n",
       "      <td>-7.551415e+07</td>\n",
       "      <td>2.115189e+12</td>\n",
       "      <td>-1.563515e+09</td>\n",
       "      <td>7.785366e+16</td>\n",
       "      <td>6.902311e+06</td>\n",
       "      <td>-1.842444e+07</td>\n",
       "      <td>5996.030755</td>\n",
       "      <td>1.311038e+07</td>\n",
       "      <td>1.806482e+07</td>\n",
       "      <td>209170.503240</td>\n",
       "    </tr>\n",
       "    <tr>\n",
       "      <th>invoice_currency</th>\n",
       "      <td>7.757460e-02</td>\n",
       "      <td>2.499787e+01</td>\n",
       "      <td>-7.551415e+07</td>\n",
       "      <td>7.336733e-02</td>\n",
       "      <td>-2.056921e+03</td>\n",
       "      <td>1.536228e+00</td>\n",
       "      <td>-7.551415e+07</td>\n",
       "      <td>-4.908688e-03</td>\n",
       "      <td>1.799707e-02</td>\n",
       "      <td>-0.000006</td>\n",
       "      <td>-1.167359e-02</td>\n",
       "      <td>-1.635906e-02</td>\n",
       "      <td>-0.000197</td>\n",
       "    </tr>\n",
       "    <tr>\n",
       "      <th>total_open_amount</th>\n",
       "      <td>-2.566717e+03</td>\n",
       "      <td>-8.681713e+05</td>\n",
       "      <td>2.115189e+12</td>\n",
       "      <td>-2.056921e+03</td>\n",
       "      <td>1.759982e+09</td>\n",
       "      <td>-9.043899e+04</td>\n",
       "      <td>2.115189e+12</td>\n",
       "      <td>2.417359e+02</td>\n",
       "      <td>-3.114412e+03</td>\n",
       "      <td>1.519982</td>\n",
       "      <td>9.359182e+02</td>\n",
       "      <td>6.791189e+03</td>\n",
       "      <td>-2.845235</td>\n",
       "    </tr>\n",
       "    <tr>\n",
       "      <th>cust_payment_terms</th>\n",
       "      <td>2.977916e+00</td>\n",
       "      <td>9.616025e+02</td>\n",
       "      <td>-1.563515e+09</td>\n",
       "      <td>1.536228e+00</td>\n",
       "      <td>-9.043899e+04</td>\n",
       "      <td>1.243281e+02</td>\n",
       "      <td>-1.563515e+09</td>\n",
       "      <td>1.236449e+00</td>\n",
       "      <td>3.227205e-01</td>\n",
       "      <td>-0.002741</td>\n",
       "      <td>2.592941e-01</td>\n",
       "      <td>-4.625948e-02</td>\n",
       "      <td>-0.005527</td>\n",
       "    </tr>\n",
       "    <tr>\n",
       "      <th>invoice_id</th>\n",
       "      <td>-7.673626e+07</td>\n",
       "      <td>-2.585003e+10</td>\n",
       "      <td>7.785366e+16</td>\n",
       "      <td>-7.551415e+07</td>\n",
       "      <td>2.115189e+12</td>\n",
       "      <td>-1.563515e+09</td>\n",
       "      <td>7.785366e+16</td>\n",
       "      <td>6.902311e+06</td>\n",
       "      <td>-1.842444e+07</td>\n",
       "      <td>5996.030755</td>\n",
       "      <td>1.311038e+07</td>\n",
       "      <td>1.806482e+07</td>\n",
       "      <td>209170.503240</td>\n",
       "    </tr>\n",
       "    <tr>\n",
       "      <th>month_due_in_date</th>\n",
       "      <td>3.729693e-02</td>\n",
       "      <td>-2.436587e+01</td>\n",
       "      <td>6.902311e+06</td>\n",
       "      <td>-4.908688e-03</td>\n",
       "      <td>2.417359e+02</td>\n",
       "      <td>1.236449e+00</td>\n",
       "      <td>6.902311e+06</td>\n",
       "      <td>7.233436e+00</td>\n",
       "      <td>-2.624520e+00</td>\n",
       "      <td>-0.000448</td>\n",
       "      <td>6.704245e+00</td>\n",
       "      <td>1.630694e+00</td>\n",
       "      <td>0.021423</td>\n",
       "    </tr>\n",
       "    <tr>\n",
       "      <th>day_due_in_date</th>\n",
       "      <td>3.223831e-02</td>\n",
       "      <td>1.576130e+01</td>\n",
       "      <td>-1.842444e+07</td>\n",
       "      <td>1.799707e-02</td>\n",
       "      <td>-3.114412e+03</td>\n",
       "      <td>3.227205e-01</td>\n",
       "      <td>-1.842444e+07</td>\n",
       "      <td>-2.624520e+00</td>\n",
       "      <td>7.549006e+01</td>\n",
       "      <td>-0.001056</td>\n",
       "      <td>7.495885e-01</td>\n",
       "      <td>-2.786855e+01</td>\n",
       "      <td>0.003985</td>\n",
       "    </tr>\n",
       "    <tr>\n",
       "      <th>year_due_in_date</th>\n",
       "      <td>-1.604878e-06</td>\n",
       "      <td>-3.841453e-02</td>\n",
       "      <td>5.996031e+03</td>\n",
       "      <td>-5.694894e-06</td>\n",
       "      <td>1.519982e+00</td>\n",
       "      <td>-2.740956e-03</td>\n",
       "      <td>5.996031e+03</td>\n",
       "      <td>-4.476743e-04</td>\n",
       "      <td>-1.056089e-03</td>\n",
       "      <td>0.000071</td>\n",
       "      <td>-4.848774e-04</td>\n",
       "      <td>-1.055829e-03</td>\n",
       "      <td>0.000071</td>\n",
       "    </tr>\n",
       "    <tr>\n",
       "      <th>month_document_create_date.1</th>\n",
       "      <td>-1.272897e-02</td>\n",
       "      <td>-2.273348e+01</td>\n",
       "      <td>1.311038e+07</td>\n",
       "      <td>-1.167359e-02</td>\n",
       "      <td>9.359182e+02</td>\n",
       "      <td>2.592941e-01</td>\n",
       "      <td>1.311038e+07</td>\n",
       "      <td>6.704245e+00</td>\n",
       "      <td>7.495885e-01</td>\n",
       "      <td>-0.000485</td>\n",
       "      <td>7.149923e+00</td>\n",
       "      <td>-1.013839e+00</td>\n",
       "      <td>-0.032002</td>\n",
       "    </tr>\n",
       "    <tr>\n",
       "      <th>day_document_create_date.1</th>\n",
       "      <td>5.425108e-02</td>\n",
       "      <td>-4.596906e+01</td>\n",
       "      <td>1.806482e+07</td>\n",
       "      <td>-1.635906e-02</td>\n",
       "      <td>6.791189e+03</td>\n",
       "      <td>-4.625948e-02</td>\n",
       "      <td>1.806482e+07</td>\n",
       "      <td>1.630694e+00</td>\n",
       "      <td>-2.786855e+01</td>\n",
       "      <td>-0.001056</td>\n",
       "      <td>-1.013839e+00</td>\n",
       "      <td>7.790801e+01</td>\n",
       "      <td>-0.069828</td>\n",
       "    </tr>\n",
       "    <tr>\n",
       "      <th>year_document_create_date.1</th>\n",
       "      <td>-7.020386e-05</td>\n",
       "      <td>3.623812e-02</td>\n",
       "      <td>2.091705e+05</td>\n",
       "      <td>-1.972725e-04</td>\n",
       "      <td>-2.845235e+00</td>\n",
       "      <td>-5.527181e-03</td>\n",
       "      <td>2.091705e+05</td>\n",
       "      <td>2.142324e-02</td>\n",
       "      <td>3.984587e-03</td>\n",
       "      <td>0.000071</td>\n",
       "      <td>-3.200191e-02</td>\n",
       "      <td>-6.982758e-02</td>\n",
       "      <td>0.004693</td>\n",
       "    </tr>\n",
       "  </tbody>\n",
       "</table>\n",
       "</div>"
      ],
      "text/plain": [
       "                               business_code   cust_number        doc_id  \\\n",
       "business_code                   2.974200e-01  1.738565e+01 -7.673626e+07   \n",
       "cust_number                     1.738565e+01  5.541325e+04 -2.585003e+10   \n",
       "doc_id                         -7.673626e+07 -2.585003e+10  7.785366e+16   \n",
       "invoice_currency                7.757460e-02  2.499787e+01 -7.551415e+07   \n",
       "total_open_amount              -2.566717e+03 -8.681713e+05  2.115189e+12   \n",
       "cust_payment_terms              2.977916e+00  9.616025e+02 -1.563515e+09   \n",
       "invoice_id                     -7.673626e+07 -2.585003e+10  7.785366e+16   \n",
       "month_due_in_date               3.729693e-02 -2.436587e+01  6.902311e+06   \n",
       "day_due_in_date                 3.223831e-02  1.576130e+01 -1.842444e+07   \n",
       "year_due_in_date               -1.604878e-06 -3.841453e-02  5.996031e+03   \n",
       "month_document_create_date.1   -1.272897e-02 -2.273348e+01  1.311038e+07   \n",
       "day_document_create_date.1      5.425108e-02 -4.596906e+01  1.806482e+07   \n",
       "year_document_create_date.1    -7.020386e-05  3.623812e-02  2.091705e+05   \n",
       "\n",
       "                               invoice_currency  total_open_amount  \\\n",
       "business_code                      7.757460e-02      -2.566717e+03   \n",
       "cust_number                        2.499787e+01      -8.681713e+05   \n",
       "doc_id                            -7.551415e+07       2.115189e+12   \n",
       "invoice_currency                   7.336733e-02      -2.056921e+03   \n",
       "total_open_amount                 -2.056921e+03       1.759982e+09   \n",
       "cust_payment_terms                 1.536228e+00      -9.043899e+04   \n",
       "invoice_id                        -7.551415e+07       2.115189e+12   \n",
       "month_due_in_date                 -4.908688e-03       2.417359e+02   \n",
       "day_due_in_date                    1.799707e-02      -3.114412e+03   \n",
       "year_due_in_date                  -5.694894e-06       1.519982e+00   \n",
       "month_document_create_date.1      -1.167359e-02       9.359182e+02   \n",
       "day_document_create_date.1        -1.635906e-02       6.791189e+03   \n",
       "year_document_create_date.1       -1.972725e-04      -2.845235e+00   \n",
       "\n",
       "                               cust_payment_terms    invoice_id  \\\n",
       "business_code                        2.977916e+00 -7.673626e+07   \n",
       "cust_number                          9.616025e+02 -2.585003e+10   \n",
       "doc_id                              -1.563515e+09  7.785366e+16   \n",
       "invoice_currency                     1.536228e+00 -7.551415e+07   \n",
       "total_open_amount                   -9.043899e+04  2.115189e+12   \n",
       "cust_payment_terms                   1.243281e+02 -1.563515e+09   \n",
       "invoice_id                          -1.563515e+09  7.785366e+16   \n",
       "month_due_in_date                    1.236449e+00  6.902311e+06   \n",
       "day_due_in_date                      3.227205e-01 -1.842444e+07   \n",
       "year_due_in_date                    -2.740956e-03  5.996031e+03   \n",
       "month_document_create_date.1         2.592941e-01  1.311038e+07   \n",
       "day_document_create_date.1          -4.625948e-02  1.806482e+07   \n",
       "year_document_create_date.1         -5.527181e-03  2.091705e+05   \n",
       "\n",
       "                               month_due_in_date   day_due_in_date   \\\n",
       "business_code                        3.729693e-02      3.223831e-02   \n",
       "cust_number                         -2.436587e+01      1.576130e+01   \n",
       "doc_id                               6.902311e+06     -1.842444e+07   \n",
       "invoice_currency                    -4.908688e-03      1.799707e-02   \n",
       "total_open_amount                    2.417359e+02     -3.114412e+03   \n",
       "cust_payment_terms                   1.236449e+00      3.227205e-01   \n",
       "invoice_id                           6.902311e+06     -1.842444e+07   \n",
       "month_due_in_date                    7.233436e+00     -2.624520e+00   \n",
       "day_due_in_date                     -2.624520e+00      7.549006e+01   \n",
       "year_due_in_date                    -4.476743e-04     -1.056089e-03   \n",
       "month_document_create_date.1         6.704245e+00      7.495885e-01   \n",
       "day_document_create_date.1           1.630694e+00     -2.786855e+01   \n",
       "year_document_create_date.1          2.142324e-02      3.984587e-03   \n",
       "\n",
       "                               year_due_in_date  \\\n",
       "business_code                         -0.000002   \n",
       "cust_number                           -0.038415   \n",
       "doc_id                              5996.030755   \n",
       "invoice_currency                      -0.000006   \n",
       "total_open_amount                      1.519982   \n",
       "cust_payment_terms                    -0.002741   \n",
       "invoice_id                          5996.030755   \n",
       "month_due_in_date                     -0.000448   \n",
       "day_due_in_date                       -0.001056   \n",
       "year_due_in_date                       0.000071   \n",
       "month_document_create_date.1          -0.000485   \n",
       "day_document_create_date.1            -0.001056   \n",
       "year_document_create_date.1            0.000071   \n",
       "\n",
       "                               month_document_create_date.1   \\\n",
       "business_code                                  -1.272897e-02   \n",
       "cust_number                                    -2.273348e+01   \n",
       "doc_id                                          1.311038e+07   \n",
       "invoice_currency                               -1.167359e-02   \n",
       "total_open_amount                               9.359182e+02   \n",
       "cust_payment_terms                              2.592941e-01   \n",
       "invoice_id                                      1.311038e+07   \n",
       "month_due_in_date                               6.704245e+00   \n",
       "day_due_in_date                                 7.495885e-01   \n",
       "year_due_in_date                               -4.848774e-04   \n",
       "month_document_create_date.1                    7.149923e+00   \n",
       "day_document_create_date.1                     -1.013839e+00   \n",
       "year_document_create_date.1                    -3.200191e-02   \n",
       "\n",
       "                               day_document_create_date.1   \\\n",
       "business_code                                 5.425108e-02   \n",
       "cust_number                                  -4.596906e+01   \n",
       "doc_id                                        1.806482e+07   \n",
       "invoice_currency                             -1.635906e-02   \n",
       "total_open_amount                             6.791189e+03   \n",
       "cust_payment_terms                           -4.625948e-02   \n",
       "invoice_id                                    1.806482e+07   \n",
       "month_due_in_date                             1.630694e+00   \n",
       "day_due_in_date                              -2.786855e+01   \n",
       "year_due_in_date                             -1.055829e-03   \n",
       "month_document_create_date.1                 -1.013839e+00   \n",
       "day_document_create_date.1                    7.790801e+01   \n",
       "year_document_create_date.1                  -6.982758e-02   \n",
       "\n",
       "                               year_document_create_date.1  \n",
       "business_code                                    -0.000070  \n",
       "cust_number                                       0.036238  \n",
       "doc_id                                       209170.503240  \n",
       "invoice_currency                                 -0.000197  \n",
       "total_open_amount                                -2.845235  \n",
       "cust_payment_terms                               -0.005527  \n",
       "invoice_id                                   209170.503240  \n",
       "month_due_in_date                                 0.021423  \n",
       "day_due_in_date                                   0.003985  \n",
       "year_due_in_date                                  0.000071  \n",
       "month_document_create_date.1                     -0.032002  \n",
       "day_document_create_date.1                       -0.069828  \n",
       "year_document_create_date.1                       0.004693  "
      ]
     },
     "execution_count": 70,
     "metadata": {},
     "output_type": "execute_result"
    }
   ],
   "source": [
    "x_train.cov()"
   ]
  },
  {
   "cell_type": "markdown",
   "id": "002fcc16",
   "metadata": {},
   "source": [
    "##### measuring the joint variability between the columns"
   ]
  },
  {
   "cell_type": "markdown",
   "id": "7ba36354",
   "metadata": {},
   "source": [
    "## measuring the correlation aslo as all values are int"
   ]
  },
  {
   "cell_type": "code",
   "execution_count": 71,
   "id": "1ad7640f",
   "metadata": {},
   "outputs": [
    {
     "data": {
      "text/html": [
       "<div>\n",
       "<style scoped>\n",
       "    .dataframe tbody tr th:only-of-type {\n",
       "        vertical-align: middle;\n",
       "    }\n",
       "\n",
       "    .dataframe tbody tr th {\n",
       "        vertical-align: top;\n",
       "    }\n",
       "\n",
       "    .dataframe thead th {\n",
       "        text-align: right;\n",
       "    }\n",
       "</style>\n",
       "<table border=\"1\" class=\"dataframe\">\n",
       "  <thead>\n",
       "    <tr style=\"text-align: right;\">\n",
       "      <th></th>\n",
       "      <th>business_code</th>\n",
       "      <th>cust_number</th>\n",
       "      <th>doc_id</th>\n",
       "      <th>invoice_currency</th>\n",
       "      <th>total_open_amount</th>\n",
       "      <th>cust_payment_terms</th>\n",
       "      <th>invoice_id</th>\n",
       "      <th>month_due_in_date</th>\n",
       "      <th>day_due_in_date</th>\n",
       "      <th>year_due_in_date</th>\n",
       "      <th>month_document_create_date.1</th>\n",
       "      <th>day_document_create_date.1</th>\n",
       "      <th>year_document_create_date.1</th>\n",
       "    </tr>\n",
       "  </thead>\n",
       "  <tbody>\n",
       "    <tr>\n",
       "      <th>business_code</th>\n",
       "      <td>1.000000</td>\n",
       "      <td>0.135425</td>\n",
       "      <td>-0.504285</td>\n",
       "      <td>0.525150</td>\n",
       "      <td>-0.112186</td>\n",
       "      <td>0.489714</td>\n",
       "      <td>-0.504285</td>\n",
       "      <td>0.025428</td>\n",
       "      <td>0.006804</td>\n",
       "      <td>-0.000348</td>\n",
       "      <td>-0.008729</td>\n",
       "      <td>0.011270</td>\n",
       "      <td>-0.001879</td>\n",
       "    </tr>\n",
       "    <tr>\n",
       "      <th>cust_number</th>\n",
       "      <td>0.135425</td>\n",
       "      <td>1.000000</td>\n",
       "      <td>-0.393563</td>\n",
       "      <td>0.392053</td>\n",
       "      <td>-0.087911</td>\n",
       "      <td>0.366357</td>\n",
       "      <td>-0.393563</td>\n",
       "      <td>-0.038486</td>\n",
       "      <td>0.007706</td>\n",
       "      <td>-0.019308</td>\n",
       "      <td>-0.036117</td>\n",
       "      <td>-0.022124</td>\n",
       "      <td>0.002247</td>\n",
       "    </tr>\n",
       "    <tr>\n",
       "      <th>doc_id</th>\n",
       "      <td>-0.504285</td>\n",
       "      <td>-0.393563</td>\n",
       "      <td>1.000000</td>\n",
       "      <td>-0.999166</td>\n",
       "      <td>0.180699</td>\n",
       "      <td>-0.502548</td>\n",
       "      <td>1.000000</td>\n",
       "      <td>0.009198</td>\n",
       "      <td>-0.007600</td>\n",
       "      <td>0.002543</td>\n",
       "      <td>0.017572</td>\n",
       "      <td>0.007335</td>\n",
       "      <td>0.010943</td>\n",
       "    </tr>\n",
       "    <tr>\n",
       "      <th>invoice_currency</th>\n",
       "      <td>0.525150</td>\n",
       "      <td>0.392053</td>\n",
       "      <td>-0.999166</td>\n",
       "      <td>1.000000</td>\n",
       "      <td>-0.181014</td>\n",
       "      <td>0.508651</td>\n",
       "      <td>-0.999166</td>\n",
       "      <td>-0.006738</td>\n",
       "      <td>0.007647</td>\n",
       "      <td>-0.002488</td>\n",
       "      <td>-0.016118</td>\n",
       "      <td>-0.006843</td>\n",
       "      <td>-0.010632</td>\n",
       "    </tr>\n",
       "    <tr>\n",
       "      <th>total_open_amount</th>\n",
       "      <td>-0.112186</td>\n",
       "      <td>-0.087911</td>\n",
       "      <td>0.180699</td>\n",
       "      <td>-0.181014</td>\n",
       "      <td>1.000000</td>\n",
       "      <td>-0.193338</td>\n",
       "      <td>0.180699</td>\n",
       "      <td>0.002142</td>\n",
       "      <td>-0.008544</td>\n",
       "      <td>0.004287</td>\n",
       "      <td>0.008343</td>\n",
       "      <td>0.018340</td>\n",
       "      <td>-0.000990</td>\n",
       "    </tr>\n",
       "    <tr>\n",
       "      <th>cust_payment_terms</th>\n",
       "      <td>0.489714</td>\n",
       "      <td>0.366357</td>\n",
       "      <td>-0.502548</td>\n",
       "      <td>0.508651</td>\n",
       "      <td>-0.193338</td>\n",
       "      <td>1.000000</td>\n",
       "      <td>-0.502548</td>\n",
       "      <td>0.041231</td>\n",
       "      <td>0.003331</td>\n",
       "      <td>-0.029085</td>\n",
       "      <td>0.008697</td>\n",
       "      <td>-0.000470</td>\n",
       "      <td>-0.007236</td>\n",
       "    </tr>\n",
       "    <tr>\n",
       "      <th>invoice_id</th>\n",
       "      <td>-0.504285</td>\n",
       "      <td>-0.393563</td>\n",
       "      <td>1.000000</td>\n",
       "      <td>-0.999166</td>\n",
       "      <td>0.180699</td>\n",
       "      <td>-0.502548</td>\n",
       "      <td>1.000000</td>\n",
       "      <td>0.009198</td>\n",
       "      <td>-0.007600</td>\n",
       "      <td>0.002543</td>\n",
       "      <td>0.017572</td>\n",
       "      <td>0.007335</td>\n",
       "      <td>0.010943</td>\n",
       "    </tr>\n",
       "    <tr>\n",
       "      <th>month_due_in_date</th>\n",
       "      <td>0.025428</td>\n",
       "      <td>-0.038486</td>\n",
       "      <td>0.009198</td>\n",
       "      <td>-0.006738</td>\n",
       "      <td>0.002142</td>\n",
       "      <td>0.041231</td>\n",
       "      <td>0.009198</td>\n",
       "      <td>1.000000</td>\n",
       "      <td>-0.112314</td>\n",
       "      <td>-0.019695</td>\n",
       "      <td>0.932238</td>\n",
       "      <td>0.068692</td>\n",
       "      <td>0.116281</td>\n",
       "    </tr>\n",
       "    <tr>\n",
       "      <th>day_due_in_date</th>\n",
       "      <td>0.006804</td>\n",
       "      <td>0.007706</td>\n",
       "      <td>-0.007600</td>\n",
       "      <td>0.007647</td>\n",
       "      <td>-0.008544</td>\n",
       "      <td>0.003331</td>\n",
       "      <td>-0.007600</td>\n",
       "      <td>-0.112314</td>\n",
       "      <td>1.000000</td>\n",
       "      <td>-0.014382</td>\n",
       "      <td>0.032265</td>\n",
       "      <td>-0.363395</td>\n",
       "      <td>0.006695</td>\n",
       "    </tr>\n",
       "    <tr>\n",
       "      <th>year_due_in_date</th>\n",
       "      <td>-0.000348</td>\n",
       "      <td>-0.019308</td>\n",
       "      <td>0.002543</td>\n",
       "      <td>-0.002488</td>\n",
       "      <td>0.004287</td>\n",
       "      <td>-0.029085</td>\n",
       "      <td>0.002543</td>\n",
       "      <td>-0.019695</td>\n",
       "      <td>-0.014382</td>\n",
       "      <td>1.000000</td>\n",
       "      <td>-0.021455</td>\n",
       "      <td>-0.014153</td>\n",
       "      <td>0.122805</td>\n",
       "    </tr>\n",
       "    <tr>\n",
       "      <th>month_document_create_date.1</th>\n",
       "      <td>-0.008729</td>\n",
       "      <td>-0.036117</td>\n",
       "      <td>0.017572</td>\n",
       "      <td>-0.016118</td>\n",
       "      <td>0.008343</td>\n",
       "      <td>0.008697</td>\n",
       "      <td>0.017572</td>\n",
       "      <td>0.932238</td>\n",
       "      <td>0.032265</td>\n",
       "      <td>-0.021455</td>\n",
       "      <td>1.000000</td>\n",
       "      <td>-0.042956</td>\n",
       "      <td>-0.174711</td>\n",
       "    </tr>\n",
       "    <tr>\n",
       "      <th>day_document_create_date.1</th>\n",
       "      <td>0.011270</td>\n",
       "      <td>-0.022124</td>\n",
       "      <td>0.007335</td>\n",
       "      <td>-0.006843</td>\n",
       "      <td>0.018340</td>\n",
       "      <td>-0.000470</td>\n",
       "      <td>0.007335</td>\n",
       "      <td>0.068692</td>\n",
       "      <td>-0.363395</td>\n",
       "      <td>-0.014153</td>\n",
       "      <td>-0.042956</td>\n",
       "      <td>1.000000</td>\n",
       "      <td>-0.115486</td>\n",
       "    </tr>\n",
       "    <tr>\n",
       "      <th>year_document_create_date.1</th>\n",
       "      <td>-0.001879</td>\n",
       "      <td>0.002247</td>\n",
       "      <td>0.010943</td>\n",
       "      <td>-0.010632</td>\n",
       "      <td>-0.000990</td>\n",
       "      <td>-0.007236</td>\n",
       "      <td>0.010943</td>\n",
       "      <td>0.116281</td>\n",
       "      <td>0.006695</td>\n",
       "      <td>0.122805</td>\n",
       "      <td>-0.174711</td>\n",
       "      <td>-0.115486</td>\n",
       "      <td>1.000000</td>\n",
       "    </tr>\n",
       "  </tbody>\n",
       "</table>\n",
       "</div>"
      ],
      "text/plain": [
       "                               business_code  cust_number    doc_id  \\\n",
       "business_code                       1.000000     0.135425 -0.504285   \n",
       "cust_number                         0.135425     1.000000 -0.393563   \n",
       "doc_id                             -0.504285    -0.393563  1.000000   \n",
       "invoice_currency                    0.525150     0.392053 -0.999166   \n",
       "total_open_amount                  -0.112186    -0.087911  0.180699   \n",
       "cust_payment_terms                  0.489714     0.366357 -0.502548   \n",
       "invoice_id                         -0.504285    -0.393563  1.000000   \n",
       "month_due_in_date                   0.025428    -0.038486  0.009198   \n",
       "day_due_in_date                     0.006804     0.007706 -0.007600   \n",
       "year_due_in_date                   -0.000348    -0.019308  0.002543   \n",
       "month_document_create_date.1       -0.008729    -0.036117  0.017572   \n",
       "day_document_create_date.1          0.011270    -0.022124  0.007335   \n",
       "year_document_create_date.1        -0.001879     0.002247  0.010943   \n",
       "\n",
       "                               invoice_currency  total_open_amount  \\\n",
       "business_code                          0.525150          -0.112186   \n",
       "cust_number                            0.392053          -0.087911   \n",
       "doc_id                                -0.999166           0.180699   \n",
       "invoice_currency                       1.000000          -0.181014   \n",
       "total_open_amount                     -0.181014           1.000000   \n",
       "cust_payment_terms                     0.508651          -0.193338   \n",
       "invoice_id                            -0.999166           0.180699   \n",
       "month_due_in_date                     -0.006738           0.002142   \n",
       "day_due_in_date                        0.007647          -0.008544   \n",
       "year_due_in_date                      -0.002488           0.004287   \n",
       "month_document_create_date.1          -0.016118           0.008343   \n",
       "day_document_create_date.1            -0.006843           0.018340   \n",
       "year_document_create_date.1           -0.010632          -0.000990   \n",
       "\n",
       "                               cust_payment_terms  invoice_id  \\\n",
       "business_code                            0.489714   -0.504285   \n",
       "cust_number                              0.366357   -0.393563   \n",
       "doc_id                                  -0.502548    1.000000   \n",
       "invoice_currency                         0.508651   -0.999166   \n",
       "total_open_amount                       -0.193338    0.180699   \n",
       "cust_payment_terms                       1.000000   -0.502548   \n",
       "invoice_id                              -0.502548    1.000000   \n",
       "month_due_in_date                        0.041231    0.009198   \n",
       "day_due_in_date                          0.003331   -0.007600   \n",
       "year_due_in_date                        -0.029085    0.002543   \n",
       "month_document_create_date.1             0.008697    0.017572   \n",
       "day_document_create_date.1              -0.000470    0.007335   \n",
       "year_document_create_date.1             -0.007236    0.010943   \n",
       "\n",
       "                               month_due_in_date   day_due_in_date   \\\n",
       "business_code                            0.025428          0.006804   \n",
       "cust_number                             -0.038486          0.007706   \n",
       "doc_id                                   0.009198         -0.007600   \n",
       "invoice_currency                        -0.006738          0.007647   \n",
       "total_open_amount                        0.002142         -0.008544   \n",
       "cust_payment_terms                       0.041231          0.003331   \n",
       "invoice_id                               0.009198         -0.007600   \n",
       "month_due_in_date                        1.000000         -0.112314   \n",
       "day_due_in_date                         -0.112314          1.000000   \n",
       "year_due_in_date                        -0.019695         -0.014382   \n",
       "month_document_create_date.1             0.932238          0.032265   \n",
       "day_document_create_date.1               0.068692         -0.363395   \n",
       "year_document_create_date.1              0.116281          0.006695   \n",
       "\n",
       "                               year_due_in_date  \\\n",
       "business_code                         -0.000348   \n",
       "cust_number                           -0.019308   \n",
       "doc_id                                 0.002543   \n",
       "invoice_currency                      -0.002488   \n",
       "total_open_amount                      0.004287   \n",
       "cust_payment_terms                    -0.029085   \n",
       "invoice_id                             0.002543   \n",
       "month_due_in_date                     -0.019695   \n",
       "day_due_in_date                       -0.014382   \n",
       "year_due_in_date                       1.000000   \n",
       "month_document_create_date.1          -0.021455   \n",
       "day_document_create_date.1            -0.014153   \n",
       "year_document_create_date.1            0.122805   \n",
       "\n",
       "                               month_document_create_date.1   \\\n",
       "business_code                                      -0.008729   \n",
       "cust_number                                        -0.036117   \n",
       "doc_id                                              0.017572   \n",
       "invoice_currency                                   -0.016118   \n",
       "total_open_amount                                   0.008343   \n",
       "cust_payment_terms                                  0.008697   \n",
       "invoice_id                                          0.017572   \n",
       "month_due_in_date                                   0.932238   \n",
       "day_due_in_date                                     0.032265   \n",
       "year_due_in_date                                   -0.021455   \n",
       "month_document_create_date.1                        1.000000   \n",
       "day_document_create_date.1                         -0.042956   \n",
       "year_document_create_date.1                        -0.174711   \n",
       "\n",
       "                               day_document_create_date.1   \\\n",
       "business_code                                     0.011270   \n",
       "cust_number                                      -0.022124   \n",
       "doc_id                                            0.007335   \n",
       "invoice_currency                                 -0.006843   \n",
       "total_open_amount                                 0.018340   \n",
       "cust_payment_terms                               -0.000470   \n",
       "invoice_id                                        0.007335   \n",
       "month_due_in_date                                 0.068692   \n",
       "day_due_in_date                                  -0.363395   \n",
       "year_due_in_date                                 -0.014153   \n",
       "month_document_create_date.1                     -0.042956   \n",
       "day_document_create_date.1                        1.000000   \n",
       "year_document_create_date.1                      -0.115486   \n",
       "\n",
       "                               year_document_create_date.1  \n",
       "business_code                                    -0.001879  \n",
       "cust_number                                       0.002247  \n",
       "doc_id                                            0.010943  \n",
       "invoice_currency                                 -0.010632  \n",
       "total_open_amount                                -0.000990  \n",
       "cust_payment_terms                               -0.007236  \n",
       "invoice_id                                        0.010943  \n",
       "month_due_in_date                                 0.116281  \n",
       "day_due_in_date                                   0.006695  \n",
       "year_due_in_date                                  0.122805  \n",
       "month_document_create_date.1                     -0.174711  \n",
       "day_document_create_date.1                       -0.115486  \n",
       "year_document_create_date.1                       1.000000  "
      ]
     },
     "execution_count": 71,
     "metadata": {},
     "output_type": "execute_result"
    }
   ],
   "source": [
    "y=x_train.corr()\n",
    "y"
   ]
  },
  {
   "cell_type": "code",
   "execution_count": 72,
   "id": "fd60f918",
   "metadata": {},
   "outputs": [
    {
     "data": {
      "text/plain": [
       "<AxesSubplot:ylabel='Density'>"
      ]
     },
     "execution_count": 72,
     "metadata": {},
     "output_type": "execute_result"
    },
    {
     "data": {
      "image/png": "[encoded data removed]",
      "text/plain": [
       "<Figure size 432x288 with 1 Axes>"
      ]
     },
     "metadata": {
      "needs_background": "light"
     },
     "output_type": "display_data"
    }
   ],
   "source": [
    "sns.distplot(y)"
   ]
  },
  {
   "cell_type": "markdown",
   "id": "a23fc320",
   "metadata": {},
   "source": [
    "#### distributin graph for correlation between all columns"
   ]
  },
  {
   "cell_type": "code",
   "execution_count": 73,
   "id": "fc24065a",
   "metadata": {},
   "outputs": [
    {
     "data": {
      "text/plain": [
       "<AxesSubplot:xlabel='delay', ylabel='total_open_amount'>"
      ]
     },
     "execution_count": 73,
     "metadata": {},
     "output_type": "execute_result"
    },
    {
     "data": {
      "image/png": "[encoded data removed]",
      "text/plain": [
       "<Figure size 432x288 with 1 Axes>"
      ]
     },
     "metadata": {
      "needs_background": "light"
     },
     "output_type": "display_data"
    }
   ],
   "source": [
    "x=y_train\n",
    "y=x_train['total_open_amount']\n",
    "sns.scatterplot(x,y)"
   ]
  },
  {
   "cell_type": "markdown",
   "id": "f3fe22ec",
   "metadata": {},
   "source": [
    "#### less total amount has more delay"
   ]
  },
  {
   "cell_type": "markdown",
   "id": "551762ea",
   "metadata": {},
   "source": [
    "## modeling"
   ]
  },
  {
   "cell_type": "markdown",
   "id": "411b169c",
   "metadata": {},
   "source": [
    "## Tree based model"
   ]
  },
  {
   "cell_type": "code",
   "execution_count": 74,
   "id": "f5ea2e45",
   "metadata": {},
   "outputs": [
    {
     "data": {
      "text/plain": [
       "DecisionTreeRegressor(max_depth=10, random_state=0)"
      ]
     },
     "execution_count": 74,
     "metadata": {},
     "output_type": "execute_result"
    }
   ],
   "source": [
    "from sklearn.metrics import mean_squared_error\n",
    "from sklearn.tree import DecisionTreeRegressor\n",
    "regressor = DecisionTreeRegressor(random_state=0 , max_depth=10)\n",
    "regressor.fit(x_train, y_train)\n"
   ]
  },
  {
   "cell_type": "code",
   "execution_count": 75,
   "id": "4a8661ab",
   "metadata": {},
   "outputs": [],
   "source": [
    "y_predict = regressor.predict(x_val)"
   ]
  },
  {
   "cell_type": "code",
   "execution_count": 76,
   "id": "090db7e1",
   "metadata": {},
   "outputs": [
    {
     "data": {
      "text/plain": [
       "19.170065720631644"
      ]
     },
     "execution_count": 76,
     "metadata": {},
     "output_type": "execute_result"
    }
   ],
   "source": [
    "mean_squared_error(y_val, y_predict, squared=False)"
   ]
  },
  {
   "cell_type": "code",
   "execution_count": 77,
   "id": "98b7edfb",
   "metadata": {},
   "outputs": [
    {
     "data": {
      "text/plain": [
       "16.958439609779383"
      ]
     },
     "execution_count": 77,
     "metadata": {},
     "output_type": "execute_result"
    }
   ],
   "source": [
    "y_predict_test = regressor.predict(x_test)\n",
    "mean_squared_error(y_test, y_predict_test, squared=False)"
   ]
  },
  {
   "cell_type": "code",
   "execution_count": 78,
   "id": "650e8477",
   "metadata": {},
   "outputs": [
    {
     "data": {
      "text/plain": [
       "64.38460997108868"
      ]
     },
     "execution_count": 78,
     "metadata": {},
     "output_type": "execute_result"
    }
   ],
   "source": [
    "y=regressor.score(x_train,y_train)\n",
    "accuarcy=y*100\n",
    "accuarcy"
   ]
  },
  {
   "cell_type": "markdown",
   "id": "f291e58d",
   "metadata": {},
   "source": [
    "### Randomforest Regressor"
   ]
  },
  {
   "cell_type": "code",
   "execution_count": 79,
   "id": "3a8549ab",
   "metadata": {},
   "outputs": [
    {
     "data": {
      "text/plain": [
       "RandomForestRegressor(max_depth=10, random_state=0)"
      ]
     },
     "execution_count": 79,
     "metadata": {},
     "output_type": "execute_result"
    }
   ],
   "source": [
    "from sklearn.ensemble import RandomForestRegressor\n",
    "reg=RandomForestRegressor(random_state=0,max_depth=10)\n",
    "\n",
    "reg.fit(x_train,y_train)\n"
   ]
  },
  {
   "cell_type": "code",
   "execution_count": 80,
   "id": "2bbbad72",
   "metadata": {},
   "outputs": [
    {
     "data": {
      "text/plain": [
       "10.116563169992249"
      ]
     },
     "execution_count": 80,
     "metadata": {},
     "output_type": "execute_result"
    }
   ],
   "source": [
    "predict2=reg.predict(x_val)\n",
    "mean_squared_error(y_val,predict2,squared=False)"
   ]
  },
  {
   "cell_type": "code",
   "execution_count": 81,
   "id": "60f0f3b4",
   "metadata": {},
   "outputs": [
    {
     "data": {
      "text/plain": [
       "13.897575538654435"
      ]
     },
     "execution_count": 81,
     "metadata": {},
     "output_type": "execute_result"
    }
   ],
   "source": [
    "y_predict_test = reg.predict(x_test)\n",
    "mean_squared_error(y_test, y_predict_test, squared=False)"
   ]
  },
  {
   "cell_type": "code",
   "execution_count": 82,
   "id": "07f4b5c8",
   "metadata": {},
   "outputs": [
    {
     "data": {
      "text/plain": [
       "64.51082345975287"
      ]
     },
     "execution_count": 82,
     "metadata": {},
     "output_type": "execute_result"
    }
   ],
   "source": [
    "a=reg.score(x_train,y_train)\n",
    "accuarcy = a*100\n",
    "accuarcy"
   ]
  },
  {
   "cell_type": "markdown",
   "id": "00334743",
   "metadata": {},
   "source": [
    "#### Random forest classifier"
   ]
  },
  {
   "cell_type": "code",
   "execution_count": 83,
   "id": "c99ad89a",
   "metadata": {},
   "outputs": [
    {
     "data": {
      "text/plain": [
       "RandomForestClassifier(max_depth=10)"
      ]
     },
     "execution_count": 83,
     "metadata": {},
     "output_type": "execute_result"
    }
   ],
   "source": [
    "from sklearn.ensemble import RandomForestClassifier\n",
    "base_model=RandomForestClassifier(max_depth=10)\n",
    "base_model.fit(x_train,y_train)"
   ]
  },
  {
   "cell_type": "code",
   "execution_count": 84,
   "id": "641983ef",
   "metadata": {},
   "outputs": [
    {
     "data": {
      "text/plain": [
       "7.532959324891924"
      ]
     },
     "execution_count": 84,
     "metadata": {},
     "output_type": "execute_result"
    }
   ],
   "source": [
    "predicted3=base_model.predict(x_val)\n",
    "mean_squared_error(y_val,predicted3,squared=False)"
   ]
  },
  {
   "cell_type": "code",
   "execution_count": 85,
   "id": "9eb71a13",
   "metadata": {},
   "outputs": [
    {
     "data": {
      "text/plain": [
       "10.921131402520121"
      ]
     },
     "execution_count": 85,
     "metadata": {},
     "output_type": "execute_result"
    }
   ],
   "source": [
    "y_predict_test = base_model.predict(x_test)\n",
    "mean_squared_error(y_test, y_predict_test, squared=False)"
   ]
  },
  {
   "cell_type": "code",
   "execution_count": 86,
   "id": "8b43b737",
   "metadata": {},
   "outputs": [
    {
     "data": {
      "text/plain": [
       "43.86741910136438"
      ]
     },
     "execution_count": 86,
     "metadata": {},
     "output_type": "execute_result"
    }
   ],
   "source": [
    "a=base_model.score(x_train,y_train)\n",
    "accuarcy = a*100\n",
    "accuarcy"
   ]
  },
  {
   "cell_type": "markdown",
   "id": "910c3bf7",
   "metadata": {},
   "source": [
    "### Tree based model and Random forest Regressor gives best accuracy"
   ]
  },
  {
   "cell_type": "markdown",
   "id": "5eef304e",
   "metadata": {},
   "source": [
    "### Random forest Regressor has better means square error and the accuaracy is better than other model"
   ]
  },
  {
   "cell_type": "markdown",
   "id": "60a5fded",
   "metadata": {},
   "source": [
    "# TEST (preprocessing and feature engineering on main_test)"
   ]
  },
  {
   "cell_type": "code",
   "execution_count": 87,
   "id": "2082a437",
   "metadata": {},
   "outputs": [
    {
     "data": {
      "text/plain": [
       "Index(['business_code', 'cust_number', 'doc_id', 'invoice_currency',\n",
       "       'total_open_amount', 'cust_payment_terms', 'invoice_id',\n",
       "       'month_due_in_date ', 'day_due_in_date ', 'year_due_in_date',\n",
       "       'month_document_create_date.1 ', 'day_document_create_date.1 ',\n",
       "       'year_document_create_date.1'],\n",
       "      dtype='object')"
      ]
     },
     "execution_count": 87,
     "metadata": {},
     "output_type": "execute_result"
    }
   ],
   "source": [
    "x_train.columns"
   ]
  },
  {
   "cell_type": "code",
   "execution_count": 88,
   "id": "af57dee1",
   "metadata": {},
   "outputs": [
    {
     "data": {
      "text/html": [
       "<div>\n",
       "<style scoped>\n",
       "    .dataframe tbody tr th:only-of-type {\n",
       "        vertical-align: middle;\n",
       "    }\n",
       "\n",
       "    .dataframe tbody tr th {\n",
       "        vertical-align: top;\n",
       "    }\n",
       "\n",
       "    .dataframe thead th {\n",
       "        text-align: right;\n",
       "    }\n",
       "</style>\n",
       "<table border=\"1\" class=\"dataframe\">\n",
       "  <thead>\n",
       "    <tr style=\"text-align: right;\">\n",
       "      <th></th>\n",
       "      <th>business_code</th>\n",
       "      <th>cust_number</th>\n",
       "      <th>name_customer</th>\n",
       "      <th>clear_date</th>\n",
       "      <th>buisness_year</th>\n",
       "      <th>doc_id</th>\n",
       "      <th>posting_date</th>\n",
       "      <th>document_create_date</th>\n",
       "      <th>document_create_date.1</th>\n",
       "      <th>due_in_date</th>\n",
       "      <th>invoice_currency</th>\n",
       "      <th>document type</th>\n",
       "      <th>posting_id</th>\n",
       "      <th>area_business</th>\n",
       "      <th>total_open_amount</th>\n",
       "      <th>baseline_create_date</th>\n",
       "      <th>cust_payment_terms</th>\n",
       "      <th>invoice_id</th>\n",
       "      <th>isOpen</th>\n",
       "    </tr>\n",
       "  </thead>\n",
       "  <tbody>\n",
       "    <tr>\n",
       "      <th>1</th>\n",
       "      <td>U001</td>\n",
       "      <td>0200759878</td>\n",
       "      <td>SA</td>\n",
       "      <td>NaN</td>\n",
       "      <td>2020.0</td>\n",
       "      <td>1.930675e+09</td>\n",
       "      <td>2020-03-21</td>\n",
       "      <td>20200320</td>\n",
       "      <td>20200321</td>\n",
       "      <td>20200405.0</td>\n",
       "      <td>USD</td>\n",
       "      <td>RV</td>\n",
       "      <td>1.0</td>\n",
       "      <td>NaN</td>\n",
       "      <td>14307.82</td>\n",
       "      <td>20200321.0</td>\n",
       "      <td>NAH4</td>\n",
       "      <td>1.930675e+09</td>\n",
       "      <td>1</td>\n",
       "    </tr>\n",
       "    <tr>\n",
       "      <th>4</th>\n",
       "      <td>U001</td>\n",
       "      <td>0200230690</td>\n",
       "      <td>DECA</td>\n",
       "      <td>NaN</td>\n",
       "      <td>2020.0</td>\n",
       "      <td>1.930670e+09</td>\n",
       "      <td>2020-03-19</td>\n",
       "      <td>20200319</td>\n",
       "      <td>20200319</td>\n",
       "      <td>20200408.0</td>\n",
       "      <td>USD</td>\n",
       "      <td>RV</td>\n",
       "      <td>1.0</td>\n",
       "      <td>NaN</td>\n",
       "      <td>107.76</td>\n",
       "      <td>20200316.0</td>\n",
       "      <td>NAM4</td>\n",
       "      <td>1.930670e+09</td>\n",
       "      <td>1</td>\n",
       "    </tr>\n",
       "    <tr>\n",
       "      <th>7</th>\n",
       "      <td>U001</td>\n",
       "      <td>0200078795</td>\n",
       "      <td>H T H foundation</td>\n",
       "      <td>NaN</td>\n",
       "      <td>2020.0</td>\n",
       "      <td>1.930839e+09</td>\n",
       "      <td>2020-04-29</td>\n",
       "      <td>20200429</td>\n",
       "      <td>20200429</td>\n",
       "      <td>20200514.0</td>\n",
       "      <td>USD</td>\n",
       "      <td>RV</td>\n",
       "      <td>1.0</td>\n",
       "      <td>NaN</td>\n",
       "      <td>697.97</td>\n",
       "      <td>20200429.0</td>\n",
       "      <td>NAA8</td>\n",
       "      <td>1.930839e+09</td>\n",
       "      <td>1</td>\n",
       "    </tr>\n",
       "    <tr>\n",
       "      <th>13</th>\n",
       "      <td>U001</td>\n",
       "      <td>0200794332</td>\n",
       "      <td>COST associates</td>\n",
       "      <td>NaN</td>\n",
       "      <td>2020.0</td>\n",
       "      <td>1.930731e+09</td>\n",
       "      <td>2020-04-01</td>\n",
       "      <td>20200401</td>\n",
       "      <td>20200401</td>\n",
       "      <td>20200416.0</td>\n",
       "      <td>USD</td>\n",
       "      <td>RV</td>\n",
       "      <td>1.0</td>\n",
       "      <td>NaN</td>\n",
       "      <td>32715.47</td>\n",
       "      <td>20200401.0</td>\n",
       "      <td>NAAX</td>\n",
       "      <td>1.930731e+09</td>\n",
       "      <td>1</td>\n",
       "    </tr>\n",
       "    <tr>\n",
       "      <th>15</th>\n",
       "      <td>U001</td>\n",
       "      <td>0200769623</td>\n",
       "      <td>WAL-MAR us</td>\n",
       "      <td>NaN</td>\n",
       "      <td>2020.0</td>\n",
       "      <td>1.930798e+09</td>\n",
       "      <td>2020-04-17</td>\n",
       "      <td>20200417</td>\n",
       "      <td>20200417</td>\n",
       "      <td>20200502.0</td>\n",
       "      <td>USD</td>\n",
       "      <td>RV</td>\n",
       "      <td>1.0</td>\n",
       "      <td>NaN</td>\n",
       "      <td>2217.08</td>\n",
       "      <td>20200417.0</td>\n",
       "      <td>NAH4</td>\n",
       "      <td>1.930798e+09</td>\n",
       "      <td>1</td>\n",
       "    </tr>\n",
       "    <tr>\n",
       "      <th>...</th>\n",
       "      <td>...</td>\n",
       "      <td>...</td>\n",
       "      <td>...</td>\n",
       "      <td>...</td>\n",
       "      <td>...</td>\n",
       "      <td>...</td>\n",
       "      <td>...</td>\n",
       "      <td>...</td>\n",
       "      <td>...</td>\n",
       "      <td>...</td>\n",
       "      <td>...</td>\n",
       "      <td>...</td>\n",
       "      <td>...</td>\n",
       "      <td>...</td>\n",
       "      <td>...</td>\n",
       "      <td>...</td>\n",
       "      <td>...</td>\n",
       "      <td>...</td>\n",
       "      <td>...</td>\n",
       "    </tr>\n",
       "    <tr>\n",
       "      <th>49982</th>\n",
       "      <td>U001</td>\n",
       "      <td>0200744019</td>\n",
       "      <td>TARG in</td>\n",
       "      <td>NaN</td>\n",
       "      <td>2020.0</td>\n",
       "      <td>1.930671e+09</td>\n",
       "      <td>2020-03-20</td>\n",
       "      <td>20200319</td>\n",
       "      <td>20200320</td>\n",
       "      <td>20200404.0</td>\n",
       "      <td>USD</td>\n",
       "      <td>RV</td>\n",
       "      <td>1.0</td>\n",
       "      <td>NaN</td>\n",
       "      <td>5356.20</td>\n",
       "      <td>20200320.0</td>\n",
       "      <td>NAA8</td>\n",
       "      <td>1.930671e+09</td>\n",
       "      <td>1</td>\n",
       "    </tr>\n",
       "    <tr>\n",
       "      <th>49990</th>\n",
       "      <td>U001</td>\n",
       "      <td>0200704858</td>\n",
       "      <td>WAKE corp</td>\n",
       "      <td>NaN</td>\n",
       "      <td>2020.0</td>\n",
       "      <td>1.930720e+09</td>\n",
       "      <td>2020-03-31</td>\n",
       "      <td>20200330</td>\n",
       "      <td>20200331</td>\n",
       "      <td>20200415.0</td>\n",
       "      <td>USD</td>\n",
       "      <td>RV</td>\n",
       "      <td>1.0</td>\n",
       "      <td>NaN</td>\n",
       "      <td>9207.28</td>\n",
       "      <td>20200331.0</td>\n",
       "      <td>NAA8</td>\n",
       "      <td>1.930720e+09</td>\n",
       "      <td>1</td>\n",
       "    </tr>\n",
       "    <tr>\n",
       "      <th>49997</th>\n",
       "      <td>U001</td>\n",
       "      <td>0200769623</td>\n",
       "      <td>WAL-MAR us</td>\n",
       "      <td>NaN</td>\n",
       "      <td>2020.0</td>\n",
       "      <td>1.930624e+09</td>\n",
       "      <td>2020-03-10</td>\n",
       "      <td>20200309</td>\n",
       "      <td>20200310</td>\n",
       "      <td>20200325.0</td>\n",
       "      <td>USD</td>\n",
       "      <td>RV</td>\n",
       "      <td>1.0</td>\n",
       "      <td>NaN</td>\n",
       "      <td>36401.25</td>\n",
       "      <td>20200310.0</td>\n",
       "      <td>NAH4</td>\n",
       "      <td>1.930624e+09</td>\n",
       "      <td>1</td>\n",
       "    </tr>\n",
       "    <tr>\n",
       "      <th>49998</th>\n",
       "      <td>U001</td>\n",
       "      <td>0100031704</td>\n",
       "      <td>DELHAIZE co</td>\n",
       "      <td>NaN</td>\n",
       "      <td>2020.0</td>\n",
       "      <td>1.930797e+09</td>\n",
       "      <td>2020-04-18</td>\n",
       "      <td>20200417</td>\n",
       "      <td>20200418</td>\n",
       "      <td>20200622.0</td>\n",
       "      <td>USD</td>\n",
       "      <td>RV</td>\n",
       "      <td>1.0</td>\n",
       "      <td>NaN</td>\n",
       "      <td>8839.40</td>\n",
       "      <td>20200418.0</td>\n",
       "      <td>NAGD</td>\n",
       "      <td>1.930797e+09</td>\n",
       "      <td>1</td>\n",
       "    </tr>\n",
       "    <tr>\n",
       "      <th>49999</th>\n",
       "      <td>CA02</td>\n",
       "      <td>0100031970</td>\n",
       "      <td>CAPITAL systems</td>\n",
       "      <td>NaN</td>\n",
       "      <td>2020.0</td>\n",
       "      <td>2.960624e+09</td>\n",
       "      <td>2020-03-24</td>\n",
       "      <td>20200324</td>\n",
       "      <td>20200324</td>\n",
       "      <td>20200408.0</td>\n",
       "      <td>CAD</td>\n",
       "      <td>RV</td>\n",
       "      <td>1.0</td>\n",
       "      <td>NaN</td>\n",
       "      <td>13792.07</td>\n",
       "      <td>20200329.0</td>\n",
       "      <td>CA10</td>\n",
       "      <td>2.960624e+09</td>\n",
       "      <td>1</td>\n",
       "    </tr>\n",
       "  </tbody>\n",
       "</table>\n",
       "<p>10000 rows × 19 columns</p>\n",
       "</div>"
      ],
      "text/plain": [
       "      business_code cust_number     name_customer clear_date  buisness_year  \\\n",
       "1              U001  0200759878               SA         NaN         2020.0   \n",
       "4              U001  0200230690             DECA         NaN         2020.0   \n",
       "7              U001  0200078795  H T H foundation        NaN         2020.0   \n",
       "13             U001  0200794332   COST associates        NaN         2020.0   \n",
       "15             U001  0200769623        WAL-MAR us        NaN         2020.0   \n",
       "...             ...         ...               ...        ...            ...   \n",
       "49982          U001  0200744019           TARG in        NaN         2020.0   \n",
       "49990          U001  0200704858         WAKE corp        NaN         2020.0   \n",
       "49997          U001  0200769623        WAL-MAR us        NaN         2020.0   \n",
       "49998          U001  0100031704       DELHAIZE co        NaN         2020.0   \n",
       "49999          CA02  0100031970   CAPITAL systems        NaN         2020.0   \n",
       "\n",
       "             doc_id posting_date  document_create_date  \\\n",
       "1      1.930675e+09   2020-03-21              20200320   \n",
       "4      1.930670e+09   2020-03-19              20200319   \n",
       "7      1.930839e+09   2020-04-29              20200429   \n",
       "13     1.930731e+09   2020-04-01              20200401   \n",
       "15     1.930798e+09   2020-04-17              20200417   \n",
       "...             ...          ...                   ...   \n",
       "49982  1.930671e+09   2020-03-20              20200319   \n",
       "49990  1.930720e+09   2020-03-31              20200330   \n",
       "49997  1.930624e+09   2020-03-10              20200309   \n",
       "49998  1.930797e+09   2020-04-18              20200417   \n",
       "49999  2.960624e+09   2020-03-24              20200324   \n",
       "\n",
       "       document_create_date.1  due_in_date invoice_currency document type  \\\n",
       "1                    20200321   20200405.0              USD            RV   \n",
       "4                    20200319   20200408.0              USD            RV   \n",
       "7                    20200429   20200514.0              USD            RV   \n",
       "13                   20200401   20200416.0              USD            RV   \n",
       "15                   20200417   20200502.0              USD            RV   \n",
       "...                       ...          ...              ...           ...   \n",
       "49982                20200320   20200404.0              USD            RV   \n",
       "49990                20200331   20200415.0              USD            RV   \n",
       "49997                20200310   20200325.0              USD            RV   \n",
       "49998                20200418   20200622.0              USD            RV   \n",
       "49999                20200324   20200408.0              CAD            RV   \n",
       "\n",
       "       posting_id  area_business  total_open_amount  baseline_create_date  \\\n",
       "1             1.0            NaN           14307.82            20200321.0   \n",
       "4             1.0            NaN             107.76            20200316.0   \n",
       "7             1.0            NaN             697.97            20200429.0   \n",
       "13            1.0            NaN           32715.47            20200401.0   \n",
       "15            1.0            NaN            2217.08            20200417.0   \n",
       "...           ...            ...                ...                   ...   \n",
       "49982         1.0            NaN            5356.20            20200320.0   \n",
       "49990         1.0            NaN            9207.28            20200331.0   \n",
       "49997         1.0            NaN           36401.25            20200310.0   \n",
       "49998         1.0            NaN            8839.40            20200418.0   \n",
       "49999         1.0            NaN           13792.07            20200329.0   \n",
       "\n",
       "      cust_payment_terms    invoice_id  isOpen  \n",
       "1                   NAH4  1.930675e+09       1  \n",
       "4                   NAM4  1.930670e+09       1  \n",
       "7                   NAA8  1.930839e+09       1  \n",
       "13                  NAAX  1.930731e+09       1  \n",
       "15                  NAH4  1.930798e+09       1  \n",
       "...                  ...           ...     ...  \n",
       "49982               NAA8  1.930671e+09       1  \n",
       "49990               NAA8  1.930720e+09       1  \n",
       "49997               NAH4  1.930624e+09       1  \n",
       "49998               NAGD  1.930797e+09       1  \n",
       "49999               CA10  2.960624e+09       1  \n",
       "\n",
       "[10000 rows x 19 columns]"
      ]
     },
     "execution_count": 88,
     "metadata": {},
     "output_type": "execute_result"
    }
   ],
   "source": [
    "main_test"
   ]
  },
  {
   "cell_type": "code",
   "execution_count": 89,
   "id": "f86a128a",
   "metadata": {},
   "outputs": [],
   "source": [
    "x_main_test = main_test.drop(['clear_date'],axis=1)\n",
    "x_main_test\n",
    "\n",
    "\n",
    "main_test.drop(['clear_date'], inplace =True,axis=1)"
   ]
  },
  {
   "cell_type": "markdown",
   "id": "06004fc7",
   "metadata": {},
   "source": [
    "#### drop name_customer,buisness_year,document_create_date,document type,posting_id,area_business,isOpen"
   ]
  },
  {
   "cell_type": "code",
   "execution_count": 90,
   "id": "525f6253",
   "metadata": {},
   "outputs": [],
   "source": [
    "x_main_test.drop(['name_customer','buisness_year','document_create_date','document type','posting_id','area_business','isOpen'],axis=1,inplace=True)"
   ]
  },
  {
   "cell_type": "code",
   "execution_count": 91,
   "id": "a1f006ed",
   "metadata": {},
   "outputs": [],
   "source": [
    "x_main_test.drop('baseline_create_date',axis=1,inplace=True)"
   ]
  },
  {
   "cell_type": "code",
   "execution_count": 92,
   "id": "68a0fa3b",
   "metadata": {},
   "outputs": [],
   "source": [
    "x_main_test=x_main_test[x_main_test.invoice_id.isnull()==False]"
   ]
  },
  {
   "cell_type": "code",
   "execution_count": 93,
   "id": "f07e73ea",
   "metadata": {},
   "outputs": [],
   "source": [
    "x_main_test['due_in_date'] = pd.to_datetime(x_main_test['due_in_date'],format=\"%Y%m%d\")\n",
    "x_main_test['document_create_date.1']=pd.to_datetime(x_main_test['document_create_date.1'],format='%Y%m%d')\n",
    "\n"
   ]
  },
  {
   "cell_type": "code",
   "execution_count": 94,
   "id": "e0ff4d52",
   "metadata": {},
   "outputs": [],
   "source": [
    "x_main_test.drop('posting_date',axis=1,inplace=True)"
   ]
  },
  {
   "cell_type": "code",
   "execution_count": 95,
   "id": "ed03448f",
   "metadata": {},
   "outputs": [
    {
     "data": {
      "text/html": [
       "<div>\n",
       "<style scoped>\n",
       "    .dataframe tbody tr th:only-of-type {\n",
       "        vertical-align: middle;\n",
       "    }\n",
       "\n",
       "    .dataframe tbody tr th {\n",
       "        vertical-align: top;\n",
       "    }\n",
       "\n",
       "    .dataframe thead th {\n",
       "        text-align: right;\n",
       "    }\n",
       "</style>\n",
       "<table border=\"1\" class=\"dataframe\">\n",
       "  <thead>\n",
       "    <tr style=\"text-align: right;\">\n",
       "      <th></th>\n",
       "      <th>business_code</th>\n",
       "      <th>cust_number</th>\n",
       "      <th>doc_id</th>\n",
       "      <th>document_create_date.1</th>\n",
       "      <th>due_in_date</th>\n",
       "      <th>invoice_currency</th>\n",
       "      <th>total_open_amount</th>\n",
       "      <th>cust_payment_terms</th>\n",
       "      <th>invoice_id</th>\n",
       "    </tr>\n",
       "  </thead>\n",
       "  <tbody>\n",
       "    <tr>\n",
       "      <th>1</th>\n",
       "      <td>U001</td>\n",
       "      <td>0200759878</td>\n",
       "      <td>1.930675e+09</td>\n",
       "      <td>2020-03-21</td>\n",
       "      <td>2020-04-05</td>\n",
       "      <td>USD</td>\n",
       "      <td>14307.82</td>\n",
       "      <td>NAH4</td>\n",
       "      <td>1.930675e+09</td>\n",
       "    </tr>\n",
       "    <tr>\n",
       "      <th>4</th>\n",
       "      <td>U001</td>\n",
       "      <td>0200230690</td>\n",
       "      <td>1.930670e+09</td>\n",
       "      <td>2020-03-19</td>\n",
       "      <td>2020-04-08</td>\n",
       "      <td>USD</td>\n",
       "      <td>107.76</td>\n",
       "      <td>NAM4</td>\n",
       "      <td>1.930670e+09</td>\n",
       "    </tr>\n",
       "    <tr>\n",
       "      <th>7</th>\n",
       "      <td>U001</td>\n",
       "      <td>0200078795</td>\n",
       "      <td>1.930839e+09</td>\n",
       "      <td>2020-04-29</td>\n",
       "      <td>2020-05-14</td>\n",
       "      <td>USD</td>\n",
       "      <td>697.97</td>\n",
       "      <td>NAA8</td>\n",
       "      <td>1.930839e+09</td>\n",
       "    </tr>\n",
       "    <tr>\n",
       "      <th>13</th>\n",
       "      <td>U001</td>\n",
       "      <td>0200794332</td>\n",
       "      <td>1.930731e+09</td>\n",
       "      <td>2020-04-01</td>\n",
       "      <td>2020-04-16</td>\n",
       "      <td>USD</td>\n",
       "      <td>32715.47</td>\n",
       "      <td>NAAX</td>\n",
       "      <td>1.930731e+09</td>\n",
       "    </tr>\n",
       "    <tr>\n",
       "      <th>15</th>\n",
       "      <td>U001</td>\n",
       "      <td>0200769623</td>\n",
       "      <td>1.930798e+09</td>\n",
       "      <td>2020-04-17</td>\n",
       "      <td>2020-05-02</td>\n",
       "      <td>USD</td>\n",
       "      <td>2217.08</td>\n",
       "      <td>NAH4</td>\n",
       "      <td>1.930798e+09</td>\n",
       "    </tr>\n",
       "  </tbody>\n",
       "</table>\n",
       "</div>"
      ],
      "text/plain": [
       "   business_code cust_number        doc_id document_create_date.1 due_in_date  \\\n",
       "1           U001  0200759878  1.930675e+09             2020-03-21  2020-04-05   \n",
       "4           U001  0200230690  1.930670e+09             2020-03-19  2020-04-08   \n",
       "7           U001  0200078795  1.930839e+09             2020-04-29  2020-05-14   \n",
       "13          U001  0200794332  1.930731e+09             2020-04-01  2020-04-16   \n",
       "15          U001  0200769623  1.930798e+09             2020-04-17  2020-05-02   \n",
       "\n",
       "   invoice_currency  total_open_amount cust_payment_terms    invoice_id  \n",
       "1               USD           14307.82               NAH4  1.930675e+09  \n",
       "4               USD             107.76               NAM4  1.930670e+09  \n",
       "7               USD             697.97               NAA8  1.930839e+09  \n",
       "13              USD           32715.47               NAAX  1.930731e+09  \n",
       "15              USD            2217.08               NAH4  1.930798e+09  "
      ]
     },
     "execution_count": 95,
     "metadata": {},
     "output_type": "execute_result"
    }
   ],
   "source": [
    "x_main_test.head()"
   ]
  },
  {
   "cell_type": "code",
   "execution_count": 96,
   "id": "74952e93",
   "metadata": {},
   "outputs": [
    {
     "data": {
      "text/html": [
       "<div>\n",
       "<style scoped>\n",
       "    .dataframe tbody tr th:only-of-type {\n",
       "        vertical-align: middle;\n",
       "    }\n",
       "\n",
       "    .dataframe tbody tr th {\n",
       "        vertical-align: top;\n",
       "    }\n",
       "\n",
       "    .dataframe thead th {\n",
       "        text-align: right;\n",
       "    }\n",
       "</style>\n",
       "<table border=\"1\" class=\"dataframe\">\n",
       "  <thead>\n",
       "    <tr style=\"text-align: right;\">\n",
       "      <th></th>\n",
       "      <th>business_code</th>\n",
       "      <th>cust_number</th>\n",
       "      <th>doc_id</th>\n",
       "      <th>document_create_date.1</th>\n",
       "      <th>due_in_date</th>\n",
       "      <th>invoice_currency</th>\n",
       "      <th>total_open_amount</th>\n",
       "      <th>cust_payment_terms</th>\n",
       "      <th>invoice_id</th>\n",
       "    </tr>\n",
       "  </thead>\n",
       "  <tbody>\n",
       "    <tr>\n",
       "      <th>17125</th>\n",
       "      <td>U001</td>\n",
       "      <td>CCU013</td>\n",
       "      <td>1.930570e+09</td>\n",
       "      <td>2020-02-27</td>\n",
       "      <td>2020-02-27</td>\n",
       "      <td>USD</td>\n",
       "      <td>45158.67</td>\n",
       "      <td>NAX2</td>\n",
       "      <td>1.930570e+09</td>\n",
       "    </tr>\n",
       "    <tr>\n",
       "      <th>35450</th>\n",
       "      <td>U001</td>\n",
       "      <td>CCU013</td>\n",
       "      <td>1.930558e+09</td>\n",
       "      <td>2020-02-27</td>\n",
       "      <td>2020-02-27</td>\n",
       "      <td>USD</td>\n",
       "      <td>26226.85</td>\n",
       "      <td>NAX2</td>\n",
       "      <td>1.930558e+09</td>\n",
       "    </tr>\n",
       "    <tr>\n",
       "      <th>21778</th>\n",
       "      <td>CA02</td>\n",
       "      <td>0140106181</td>\n",
       "      <td>2.960617e+09</td>\n",
       "      <td>2020-02-27</td>\n",
       "      <td>2020-03-08</td>\n",
       "      <td>CAD</td>\n",
       "      <td>6886.80</td>\n",
       "      <td>CA10</td>\n",
       "      <td>2.960617e+09</td>\n",
       "    </tr>\n",
       "    <tr>\n",
       "      <th>732</th>\n",
       "      <td>U001</td>\n",
       "      <td>0200712187</td>\n",
       "      <td>1.930579e+09</td>\n",
       "      <td>2020-02-27</td>\n",
       "      <td>2020-03-13</td>\n",
       "      <td>USD</td>\n",
       "      <td>17430.25</td>\n",
       "      <td>NAA8</td>\n",
       "      <td>1.930579e+09</td>\n",
       "    </tr>\n",
       "    <tr>\n",
       "      <th>788</th>\n",
       "      <td>U001</td>\n",
       "      <td>0200750051</td>\n",
       "      <td>1.930580e+09</td>\n",
       "      <td>2020-02-27</td>\n",
       "      <td>2020-03-13</td>\n",
       "      <td>USD</td>\n",
       "      <td>122172.17</td>\n",
       "      <td>NAA8</td>\n",
       "      <td>1.930580e+09</td>\n",
       "    </tr>\n",
       "  </tbody>\n",
       "</table>\n",
       "</div>"
      ],
      "text/plain": [
       "      business_code cust_number        doc_id document_create_date.1  \\\n",
       "17125          U001      CCU013  1.930570e+09             2020-02-27   \n",
       "35450          U001      CCU013  1.930558e+09             2020-02-27   \n",
       "21778          CA02  0140106181  2.960617e+09             2020-02-27   \n",
       "732            U001  0200712187  1.930579e+09             2020-02-27   \n",
       "788            U001  0200750051  1.930580e+09             2020-02-27   \n",
       "\n",
       "      due_in_date invoice_currency  total_open_amount cust_payment_terms  \\\n",
       "17125  2020-02-27              USD           45158.67               NAX2   \n",
       "35450  2020-02-27              USD           26226.85               NAX2   \n",
       "21778  2020-03-08              CAD            6886.80               CA10   \n",
       "732    2020-03-13              USD           17430.25               NAA8   \n",
       "788    2020-03-13              USD          122172.17               NAA8   \n",
       "\n",
       "         invoice_id  \n",
       "17125  1.930570e+09  \n",
       "35450  1.930558e+09  \n",
       "21778  2.960617e+09  \n",
       "732    1.930579e+09  \n",
       "788    1.930580e+09  "
      ]
     },
     "execution_count": 96,
     "metadata": {},
     "output_type": "execute_result"
    }
   ],
   "source": [
    "x_main_test.sort_values(['document_create_date.1','due_in_date'],inplace=True)\n",
    "x_main_test.head()"
   ]
  },
  {
   "cell_type": "code",
   "execution_count": 97,
   "id": "e4d3d6d4",
   "metadata": {},
   "outputs": [
    {
     "data": {
      "text/html": [
       "<div>\n",
       "<style scoped>\n",
       "    .dataframe tbody tr th:only-of-type {\n",
       "        vertical-align: middle;\n",
       "    }\n",
       "\n",
       "    .dataframe tbody tr th {\n",
       "        vertical-align: top;\n",
       "    }\n",
       "\n",
       "    .dataframe thead th {\n",
       "        text-align: right;\n",
       "    }\n",
       "</style>\n",
       "<table border=\"1\" class=\"dataframe\">\n",
       "  <thead>\n",
       "    <tr style=\"text-align: right;\">\n",
       "      <th></th>\n",
       "      <th>business_code</th>\n",
       "      <th>cust_number</th>\n",
       "      <th>doc_id</th>\n",
       "      <th>document_create_date.1</th>\n",
       "      <th>due_in_date</th>\n",
       "      <th>invoice_currency</th>\n",
       "      <th>total_open_amount</th>\n",
       "      <th>cust_payment_terms</th>\n",
       "      <th>invoice_id</th>\n",
       "    </tr>\n",
       "  </thead>\n",
       "  <tbody>\n",
       "    <tr>\n",
       "      <th>17125</th>\n",
       "      <td>1</td>\n",
       "      <td>CCU013</td>\n",
       "      <td>1.930570e+09</td>\n",
       "      <td>2020-02-27</td>\n",
       "      <td>2020-02-27</td>\n",
       "      <td>USD</td>\n",
       "      <td>45158.67</td>\n",
       "      <td>NAX2</td>\n",
       "      <td>1.930570e+09</td>\n",
       "    </tr>\n",
       "    <tr>\n",
       "      <th>35450</th>\n",
       "      <td>1</td>\n",
       "      <td>CCU013</td>\n",
       "      <td>1.930558e+09</td>\n",
       "      <td>2020-02-27</td>\n",
       "      <td>2020-02-27</td>\n",
       "      <td>USD</td>\n",
       "      <td>26226.85</td>\n",
       "      <td>NAX2</td>\n",
       "      <td>1.930558e+09</td>\n",
       "    </tr>\n",
       "    <tr>\n",
       "      <th>21778</th>\n",
       "      <td>0</td>\n",
       "      <td>0140106181</td>\n",
       "      <td>2.960617e+09</td>\n",
       "      <td>2020-02-27</td>\n",
       "      <td>2020-03-08</td>\n",
       "      <td>CAD</td>\n",
       "      <td>6886.80</td>\n",
       "      <td>CA10</td>\n",
       "      <td>2.960617e+09</td>\n",
       "    </tr>\n",
       "    <tr>\n",
       "      <th>732</th>\n",
       "      <td>1</td>\n",
       "      <td>0200712187</td>\n",
       "      <td>1.930579e+09</td>\n",
       "      <td>2020-02-27</td>\n",
       "      <td>2020-03-13</td>\n",
       "      <td>USD</td>\n",
       "      <td>17430.25</td>\n",
       "      <td>NAA8</td>\n",
       "      <td>1.930579e+09</td>\n",
       "    </tr>\n",
       "    <tr>\n",
       "      <th>788</th>\n",
       "      <td>1</td>\n",
       "      <td>0200750051</td>\n",
       "      <td>1.930580e+09</td>\n",
       "      <td>2020-02-27</td>\n",
       "      <td>2020-03-13</td>\n",
       "      <td>USD</td>\n",
       "      <td>122172.17</td>\n",
       "      <td>NAA8</td>\n",
       "      <td>1.930580e+09</td>\n",
       "    </tr>\n",
       "  </tbody>\n",
       "</table>\n",
       "</div>"
      ],
      "text/plain": [
       "       business_code cust_number        doc_id document_create_date.1  \\\n",
       "17125              1      CCU013  1.930570e+09             2020-02-27   \n",
       "35450              1      CCU013  1.930558e+09             2020-02-27   \n",
       "21778              0  0140106181  2.960617e+09             2020-02-27   \n",
       "732                1  0200712187  1.930579e+09             2020-02-27   \n",
       "788                1  0200750051  1.930580e+09             2020-02-27   \n",
       "\n",
       "      due_in_date invoice_currency  total_open_amount cust_payment_terms  \\\n",
       "17125  2020-02-27              USD           45158.67               NAX2   \n",
       "35450  2020-02-27              USD           26226.85               NAX2   \n",
       "21778  2020-03-08              CAD            6886.80               CA10   \n",
       "732    2020-03-13              USD           17430.25               NAA8   \n",
       "788    2020-03-13              USD          122172.17               NAA8   \n",
       "\n",
       "         invoice_id  \n",
       "17125  1.930570e+09  \n",
       "35450  1.930558e+09  \n",
       "21778  2.960617e+09  \n",
       "732    1.930579e+09  \n",
       "788    1.930580e+09  "
      ]
     },
     "execution_count": 97,
     "metadata": {},
     "output_type": "execute_result"
    }
   ],
   "source": [
    "business_code_enc =  LabelEncoder()\n",
    "business_code_enc.fit(x_main_test['business_code'])\n",
    "x_main_test['business_code']=business_code_enc.transform(x_main_test['business_code'])\n",
    "x_main_test.head()"
   ]
  },
  {
   "cell_type": "code",
   "execution_count": 98,
   "id": "9dbd928c",
   "metadata": {},
   "outputs": [],
   "source": [
    "cust_number_enc =  LabelEncoder()\n",
    "cust_number_enc.fit(x_main_test['cust_number'])\n",
    "x_main_test['cust_number']=cust_number_enc.transform(x_main_test['cust_number'])\n"
   ]
  },
  {
   "cell_type": "code",
   "execution_count": 99,
   "id": "588a3b9e",
   "metadata": {},
   "outputs": [
    {
     "data": {
      "text/html": [
       "<div>\n",
       "<style scoped>\n",
       "    .dataframe tbody tr th:only-of-type {\n",
       "        vertical-align: middle;\n",
       "    }\n",
       "\n",
       "    .dataframe tbody tr th {\n",
       "        vertical-align: top;\n",
       "    }\n",
       "\n",
       "    .dataframe thead th {\n",
       "        text-align: right;\n",
       "    }\n",
       "</style>\n",
       "<table border=\"1\" class=\"dataframe\">\n",
       "  <thead>\n",
       "    <tr style=\"text-align: right;\">\n",
       "      <th></th>\n",
       "      <th>business_code</th>\n",
       "      <th>cust_number</th>\n",
       "      <th>doc_id</th>\n",
       "      <th>document_create_date.1</th>\n",
       "      <th>due_in_date</th>\n",
       "      <th>invoice_currency</th>\n",
       "      <th>total_open_amount</th>\n",
       "      <th>cust_payment_terms</th>\n",
       "      <th>invoice_id</th>\n",
       "    </tr>\n",
       "  </thead>\n",
       "  <tbody>\n",
       "    <tr>\n",
       "      <th>17125</th>\n",
       "      <td>1</td>\n",
       "      <td>674</td>\n",
       "      <td>1.930570e+09</td>\n",
       "      <td>2020-02-27</td>\n",
       "      <td>2020-02-27</td>\n",
       "      <td>1</td>\n",
       "      <td>45158.67</td>\n",
       "      <td>NAX2</td>\n",
       "      <td>1.930570e+09</td>\n",
       "    </tr>\n",
       "    <tr>\n",
       "      <th>35450</th>\n",
       "      <td>1</td>\n",
       "      <td>674</td>\n",
       "      <td>1.930558e+09</td>\n",
       "      <td>2020-02-27</td>\n",
       "      <td>2020-02-27</td>\n",
       "      <td>1</td>\n",
       "      <td>26226.85</td>\n",
       "      <td>NAX2</td>\n",
       "      <td>1.930558e+09</td>\n",
       "    </tr>\n",
       "    <tr>\n",
       "      <th>21778</th>\n",
       "      <td>0</td>\n",
       "      <td>158</td>\n",
       "      <td>2.960617e+09</td>\n",
       "      <td>2020-02-27</td>\n",
       "      <td>2020-03-08</td>\n",
       "      <td>0</td>\n",
       "      <td>6886.80</td>\n",
       "      <td>CA10</td>\n",
       "      <td>2.960617e+09</td>\n",
       "    </tr>\n",
       "    <tr>\n",
       "      <th>732</th>\n",
       "      <td>1</td>\n",
       "      <td>304</td>\n",
       "      <td>1.930579e+09</td>\n",
       "      <td>2020-02-27</td>\n",
       "      <td>2020-03-13</td>\n",
       "      <td>1</td>\n",
       "      <td>17430.25</td>\n",
       "      <td>NAA8</td>\n",
       "      <td>1.930579e+09</td>\n",
       "    </tr>\n",
       "    <tr>\n",
       "      <th>788</th>\n",
       "      <td>1</td>\n",
       "      <td>366</td>\n",
       "      <td>1.930580e+09</td>\n",
       "      <td>2020-02-27</td>\n",
       "      <td>2020-03-13</td>\n",
       "      <td>1</td>\n",
       "      <td>122172.17</td>\n",
       "      <td>NAA8</td>\n",
       "      <td>1.930580e+09</td>\n",
       "    </tr>\n",
       "  </tbody>\n",
       "</table>\n",
       "</div>"
      ],
      "text/plain": [
       "       business_code  cust_number        doc_id document_create_date.1  \\\n",
       "17125              1          674  1.930570e+09             2020-02-27   \n",
       "35450              1          674  1.930558e+09             2020-02-27   \n",
       "21778              0          158  2.960617e+09             2020-02-27   \n",
       "732                1          304  1.930579e+09             2020-02-27   \n",
       "788                1          366  1.930580e+09             2020-02-27   \n",
       "\n",
       "      due_in_date  invoice_currency  total_open_amount cust_payment_terms  \\\n",
       "17125  2020-02-27                 1           45158.67               NAX2   \n",
       "35450  2020-02-27                 1           26226.85               NAX2   \n",
       "21778  2020-03-08                 0            6886.80               CA10   \n",
       "732    2020-03-13                 1           17430.25               NAA8   \n",
       "788    2020-03-13                 1          122172.17               NAA8   \n",
       "\n",
       "         invoice_id  \n",
       "17125  1.930570e+09  \n",
       "35450  1.930558e+09  \n",
       "21778  2.960617e+09  \n",
       "732    1.930579e+09  \n",
       "788    1.930580e+09  "
      ]
     },
     "execution_count": 99,
     "metadata": {},
     "output_type": "execute_result"
    }
   ],
   "source": [
    "invoice_currency_enc=LabelEncoder()\n",
    "invoice_currency_enc.fit(x_main_test['invoice_currency'])\n",
    "x_main_test['invoice_currency'] = invoice_currency_enc.transform(x_main_test['invoice_currency'])\n",
    "x_main_test.head()"
   ]
  },
  {
   "cell_type": "code",
   "execution_count": 100,
   "id": "2f5ddc63",
   "metadata": {},
   "outputs": [],
   "source": [
    "cust_payment_enc=LabelEncoder()\n",
    "cust_payment_enc.fit(x_main_test['cust_payment_terms'])\n",
    "x_main_test['cust_payment_terms']=cust_payment_enc.transform(x_main_test['cust_payment_terms'])\n"
   ]
  },
  {
   "cell_type": "code",
   "execution_count": 101,
   "id": "b5f4728a",
   "metadata": {},
   "outputs": [],
   "source": [
    "x_main_test['month_due_in_date'] = x_main_test['due_in_date'].dt.month\n",
    "x_main_test['day_due_in_date'] = x_main_test['due_in_date'].dt.day\n",
    "x_main_test['year_due_in_date'] = x_main_test['due_in_date'].dt.year\n"
   ]
  },
  {
   "cell_type": "code",
   "execution_count": 102,
   "id": "e1f68015",
   "metadata": {},
   "outputs": [],
   "source": [
    "x_main_test['month_document_create_date.1'] = x_main_test['document_create_date.1'].dt.month\n",
    "x_main_test['day_document_create_date.1'] = x_main_test['document_create_date.1'].dt.day\n",
    "x_main_test['year_document_create_date.1'] = x_main_test['document_create_date.1'].dt.year"
   ]
  },
  {
   "cell_type": "code",
   "execution_count": 103,
   "id": "e845f22f",
   "metadata": {},
   "outputs": [],
   "source": [
    "x_main_test.drop(['due_in_date','document_create_date.1'],axis=1,inplace=True)"
   ]
  },
  {
   "cell_type": "code",
   "execution_count": 104,
   "id": "4abcdccd",
   "metadata": {},
   "outputs": [
    {
     "data": {
      "text/html": [
       "<div>\n",
       "<style scoped>\n",
       "    .dataframe tbody tr th:only-of-type {\n",
       "        vertical-align: middle;\n",
       "    }\n",
       "\n",
       "    .dataframe tbody tr th {\n",
       "        vertical-align: top;\n",
       "    }\n",
       "\n",
       "    .dataframe thead th {\n",
       "        text-align: right;\n",
       "    }\n",
       "</style>\n",
       "<table border=\"1\" class=\"dataframe\">\n",
       "  <thead>\n",
       "    <tr style=\"text-align: right;\">\n",
       "      <th></th>\n",
       "      <th>business_code</th>\n",
       "      <th>cust_number</th>\n",
       "      <th>doc_id</th>\n",
       "      <th>invoice_currency</th>\n",
       "      <th>total_open_amount</th>\n",
       "      <th>cust_payment_terms</th>\n",
       "      <th>invoice_id</th>\n",
       "      <th>month_due_in_date</th>\n",
       "      <th>day_due_in_date</th>\n",
       "      <th>year_due_in_date</th>\n",
       "      <th>month_document_create_date.1</th>\n",
       "      <th>day_document_create_date.1</th>\n",
       "      <th>year_document_create_date.1</th>\n",
       "    </tr>\n",
       "  </thead>\n",
       "  <tbody>\n",
       "    <tr>\n",
       "      <th>17125</th>\n",
       "      <td>1</td>\n",
       "      <td>674</td>\n",
       "      <td>1.930570e+09</td>\n",
       "      <td>1</td>\n",
       "      <td>45158.67</td>\n",
       "      <td>41</td>\n",
       "      <td>1.930570e+09</td>\n",
       "      <td>2</td>\n",
       "      <td>27</td>\n",
       "      <td>2020</td>\n",
       "      <td>2</td>\n",
       "      <td>27</td>\n",
       "      <td>2020</td>\n",
       "    </tr>\n",
       "    <tr>\n",
       "      <th>35450</th>\n",
       "      <td>1</td>\n",
       "      <td>674</td>\n",
       "      <td>1.930558e+09</td>\n",
       "      <td>1</td>\n",
       "      <td>26226.85</td>\n",
       "      <td>41</td>\n",
       "      <td>1.930558e+09</td>\n",
       "      <td>2</td>\n",
       "      <td>27</td>\n",
       "      <td>2020</td>\n",
       "      <td>2</td>\n",
       "      <td>27</td>\n",
       "      <td>2020</td>\n",
       "    </tr>\n",
       "    <tr>\n",
       "      <th>21778</th>\n",
       "      <td>0</td>\n",
       "      <td>158</td>\n",
       "      <td>2.960617e+09</td>\n",
       "      <td>0</td>\n",
       "      <td>6886.80</td>\n",
       "      <td>3</td>\n",
       "      <td>2.960617e+09</td>\n",
       "      <td>3</td>\n",
       "      <td>8</td>\n",
       "      <td>2020</td>\n",
       "      <td>2</td>\n",
       "      <td>27</td>\n",
       "      <td>2020</td>\n",
       "    </tr>\n",
       "    <tr>\n",
       "      <th>732</th>\n",
       "      <td>1</td>\n",
       "      <td>304</td>\n",
       "      <td>1.930579e+09</td>\n",
       "      <td>1</td>\n",
       "      <td>17430.25</td>\n",
       "      <td>12</td>\n",
       "      <td>1.930579e+09</td>\n",
       "      <td>3</td>\n",
       "      <td>13</td>\n",
       "      <td>2020</td>\n",
       "      <td>2</td>\n",
       "      <td>27</td>\n",
       "      <td>2020</td>\n",
       "    </tr>\n",
       "    <tr>\n",
       "      <th>788</th>\n",
       "      <td>1</td>\n",
       "      <td>366</td>\n",
       "      <td>1.930580e+09</td>\n",
       "      <td>1</td>\n",
       "      <td>122172.17</td>\n",
       "      <td>12</td>\n",
       "      <td>1.930580e+09</td>\n",
       "      <td>3</td>\n",
       "      <td>13</td>\n",
       "      <td>2020</td>\n",
       "      <td>2</td>\n",
       "      <td>27</td>\n",
       "      <td>2020</td>\n",
       "    </tr>\n",
       "  </tbody>\n",
       "</table>\n",
       "</div>"
      ],
      "text/plain": [
       "       business_code  cust_number        doc_id  invoice_currency  \\\n",
       "17125              1          674  1.930570e+09                 1   \n",
       "35450              1          674  1.930558e+09                 1   \n",
       "21778              0          158  2.960617e+09                 0   \n",
       "732                1          304  1.930579e+09                 1   \n",
       "788                1          366  1.930580e+09                 1   \n",
       "\n",
       "       total_open_amount  cust_payment_terms    invoice_id  month_due_in_date  \\\n",
       "17125           45158.67                  41  1.930570e+09                  2   \n",
       "35450           26226.85                  41  1.930558e+09                  2   \n",
       "21778            6886.80                   3  2.960617e+09                  3   \n",
       "732             17430.25                  12  1.930579e+09                  3   \n",
       "788            122172.17                  12  1.930580e+09                  3   \n",
       "\n",
       "       day_due_in_date  year_due_in_date  month_document_create_date.1  \\\n",
       "17125               27              2020                             2   \n",
       "35450               27              2020                             2   \n",
       "21778                8              2020                             2   \n",
       "732                 13              2020                             2   \n",
       "788                 13              2020                             2   \n",
       "\n",
       "       day_document_create_date.1  year_document_create_date.1  \n",
       "17125                          27                         2020  \n",
       "35450                          27                         2020  \n",
       "21778                          27                         2020  \n",
       "732                            27                         2020  \n",
       "788                            27                         2020  "
      ]
     },
     "execution_count": 104,
     "metadata": {},
     "output_type": "execute_result"
    }
   ],
   "source": [
    "x_main_test.head()"
   ]
  },
  {
   "cell_type": "code",
   "execution_count": 105,
   "id": "7e3369aa",
   "metadata": {},
   "outputs": [
    {
     "data": {
      "text/plain": [
       "business_code                     int32\n",
       "cust_number                       int32\n",
       "doc_id                          float64\n",
       "invoice_currency                  int32\n",
       "total_open_amount               float64\n",
       "cust_payment_terms                int32\n",
       "invoice_id                      float64\n",
       "month_due_in_date                 int64\n",
       "day_due_in_date                   int64\n",
       "year_due_in_date                  int64\n",
       "month_document_create_date.1      int64\n",
       "day_document_create_date.1        int64\n",
       "year_document_create_date.1       int64\n",
       "dtype: object"
      ]
     },
     "execution_count": 105,
     "metadata": {},
     "output_type": "execute_result"
    }
   ],
   "source": [
    "x_main_test.dtypes"
   ]
  },
  {
   "cell_type": "code",
   "execution_count": 106,
   "id": "45aa94da",
   "metadata": {},
   "outputs": [
    {
     "data": {
      "text/plain": [
       "(Index(['business_code', 'cust_number', 'doc_id', 'invoice_currency',\n",
       "        'total_open_amount', 'cust_payment_terms', 'invoice_id',\n",
       "        'month_due_in_date', 'day_due_in_date', 'year_due_in_date',\n",
       "        'month_document_create_date.1', 'day_document_create_date.1',\n",
       "        'year_document_create_date.1'],\n",
       "       dtype='object'),\n",
       " Index(['business_code', 'cust_number', 'doc_id', 'invoice_currency',\n",
       "        'total_open_amount', 'cust_payment_terms', 'invoice_id',\n",
       "        'month_due_in_date ', 'day_due_in_date ', 'year_due_in_date',\n",
       "        'month_document_create_date.1 ', 'day_document_create_date.1 ',\n",
       "        'year_document_create_date.1'],\n",
       "       dtype='object'))"
      ]
     },
     "execution_count": 106,
     "metadata": {},
     "output_type": "execute_result"
    }
   ],
   "source": [
    "x_main_test.columns,x_train.columns"
   ]
  },
  {
   "cell_type": "markdown",
   "id": "6e57256c",
   "metadata": {},
   "source": [
    "## predicting test(using RandomForestRegressor)"
   ]
  },
  {
   "cell_type": "code",
   "execution_count": 107,
   "id": "4ab97d7d",
   "metadata": {},
   "outputs": [],
   "source": [
    "final_result = reg.predict(x_main_test)"
   ]
  },
  {
   "cell_type": "code",
   "execution_count": 108,
   "id": "b4cbb397",
   "metadata": {},
   "outputs": [
    {
     "data": {
      "text/plain": [
       "(27998, 13)"
      ]
     },
     "execution_count": 108,
     "metadata": {},
     "output_type": "execute_result"
    }
   ],
   "source": [
    "x_train.shape"
   ]
  },
  {
   "cell_type": "code",
   "execution_count": 109,
   "id": "4893f01d",
   "metadata": {},
   "outputs": [],
   "source": [
    "final_result = pd.Series(final_result,name='delay')\n"
   ]
  },
  {
   "cell_type": "code",
   "execution_count": 110,
   "id": "1ee0425c",
   "metadata": {},
   "outputs": [],
   "source": [
    "main_test.reset_index(drop=True,inplace=True)"
   ]
  },
  {
   "cell_type": "code",
   "execution_count": 111,
   "id": "5b2d5883",
   "metadata": {},
   "outputs": [],
   "source": [
    "Final = main_test.merge(final_result , on = x_main_test.index )\n"
   ]
  },
  {
   "cell_type": "code",
   "execution_count": 112,
   "id": "f4203e8b",
   "metadata": {},
   "outputs": [],
   "source": [
    "Final['delay']= Final['delay'].round().astype(int)"
   ]
  },
  {
   "cell_type": "code",
   "execution_count": 113,
   "id": "ec848f82",
   "metadata": {
    "scrolled": true
   },
   "outputs": [
    {
     "data": {
      "text/html": [
       "<div>\n",
       "<style scoped>\n",
       "    .dataframe tbody tr th:only-of-type {\n",
       "        vertical-align: middle;\n",
       "    }\n",
       "\n",
       "    .dataframe tbody tr th {\n",
       "        vertical-align: top;\n",
       "    }\n",
       "\n",
       "    .dataframe thead th {\n",
       "        text-align: right;\n",
       "    }\n",
       "</style>\n",
       "<table border=\"1\" class=\"dataframe\">\n",
       "  <thead>\n",
       "    <tr style=\"text-align: right;\">\n",
       "      <th></th>\n",
       "      <th>key_0</th>\n",
       "      <th>business_code</th>\n",
       "      <th>cust_number</th>\n",
       "      <th>name_customer</th>\n",
       "      <th>buisness_year</th>\n",
       "      <th>doc_id</th>\n",
       "      <th>posting_date</th>\n",
       "      <th>document_create_date</th>\n",
       "      <th>document_create_date.1</th>\n",
       "      <th>due_in_date</th>\n",
       "      <th>invoice_currency</th>\n",
       "      <th>document type</th>\n",
       "      <th>posting_id</th>\n",
       "      <th>area_business</th>\n",
       "      <th>total_open_amount</th>\n",
       "      <th>baseline_create_date</th>\n",
       "      <th>cust_payment_terms</th>\n",
       "      <th>invoice_id</th>\n",
       "      <th>isOpen</th>\n",
       "      <th>delay</th>\n",
       "    </tr>\n",
       "  </thead>\n",
       "  <tbody>\n",
       "    <tr>\n",
       "      <th>0</th>\n",
       "      <td>17125</td>\n",
       "      <td>U001</td>\n",
       "      <td>0200759878</td>\n",
       "      <td>SA</td>\n",
       "      <td>2020.0</td>\n",
       "      <td>1.930675e+09</td>\n",
       "      <td>2020-03-21</td>\n",
       "      <td>20200320</td>\n",
       "      <td>20200321</td>\n",
       "      <td>20200405.0</td>\n",
       "      <td>USD</td>\n",
       "      <td>RV</td>\n",
       "      <td>1.0</td>\n",
       "      <td>NaN</td>\n",
       "      <td>14307.82</td>\n",
       "      <td>20200321.0</td>\n",
       "      <td>NAH4</td>\n",
       "      <td>1.930675e+09</td>\n",
       "      <td>1</td>\n",
       "      <td>2</td>\n",
       "    </tr>\n",
       "    <tr>\n",
       "      <th>1</th>\n",
       "      <td>35450</td>\n",
       "      <td>U001</td>\n",
       "      <td>0200230690</td>\n",
       "      <td>DECA</td>\n",
       "      <td>2020.0</td>\n",
       "      <td>1.930670e+09</td>\n",
       "      <td>2020-03-19</td>\n",
       "      <td>20200319</td>\n",
       "      <td>20200319</td>\n",
       "      <td>20200408.0</td>\n",
       "      <td>USD</td>\n",
       "      <td>RV</td>\n",
       "      <td>1.0</td>\n",
       "      <td>NaN</td>\n",
       "      <td>107.76</td>\n",
       "      <td>20200316.0</td>\n",
       "      <td>NAM4</td>\n",
       "      <td>1.930670e+09</td>\n",
       "      <td>1</td>\n",
       "      <td>2</td>\n",
       "    </tr>\n",
       "    <tr>\n",
       "      <th>2</th>\n",
       "      <td>21778</td>\n",
       "      <td>U001</td>\n",
       "      <td>0200078795</td>\n",
       "      <td>H T H foundation</td>\n",
       "      <td>2020.0</td>\n",
       "      <td>1.930839e+09</td>\n",
       "      <td>2020-04-29</td>\n",
       "      <td>20200429</td>\n",
       "      <td>20200429</td>\n",
       "      <td>20200514.0</td>\n",
       "      <td>USD</td>\n",
       "      <td>RV</td>\n",
       "      <td>1.0</td>\n",
       "      <td>NaN</td>\n",
       "      <td>697.97</td>\n",
       "      <td>20200429.0</td>\n",
       "      <td>NAA8</td>\n",
       "      <td>1.930839e+09</td>\n",
       "      <td>1</td>\n",
       "      <td>4</td>\n",
       "    </tr>\n",
       "    <tr>\n",
       "      <th>3</th>\n",
       "      <td>732</td>\n",
       "      <td>U001</td>\n",
       "      <td>0200794332</td>\n",
       "      <td>COST associates</td>\n",
       "      <td>2020.0</td>\n",
       "      <td>1.930731e+09</td>\n",
       "      <td>2020-04-01</td>\n",
       "      <td>20200401</td>\n",
       "      <td>20200401</td>\n",
       "      <td>20200416.0</td>\n",
       "      <td>USD</td>\n",
       "      <td>RV</td>\n",
       "      <td>1.0</td>\n",
       "      <td>NaN</td>\n",
       "      <td>32715.47</td>\n",
       "      <td>20200401.0</td>\n",
       "      <td>NAAX</td>\n",
       "      <td>1.930731e+09</td>\n",
       "      <td>1</td>\n",
       "      <td>-6</td>\n",
       "    </tr>\n",
       "    <tr>\n",
       "      <th>4</th>\n",
       "      <td>788</td>\n",
       "      <td>U001</td>\n",
       "      <td>0200769623</td>\n",
       "      <td>WAL-MAR us</td>\n",
       "      <td>2020.0</td>\n",
       "      <td>1.930798e+09</td>\n",
       "      <td>2020-04-17</td>\n",
       "      <td>20200417</td>\n",
       "      <td>20200417</td>\n",
       "      <td>20200502.0</td>\n",
       "      <td>USD</td>\n",
       "      <td>RV</td>\n",
       "      <td>1.0</td>\n",
       "      <td>NaN</td>\n",
       "      <td>2217.08</td>\n",
       "      <td>20200417.0</td>\n",
       "      <td>NAH4</td>\n",
       "      <td>1.930798e+09</td>\n",
       "      <td>1</td>\n",
       "      <td>-5</td>\n",
       "    </tr>\n",
       "  </tbody>\n",
       "</table>\n",
       "</div>"
      ],
      "text/plain": [
       "   key_0 business_code cust_number     name_customer  buisness_year  \\\n",
       "0  17125          U001  0200759878               SA          2020.0   \n",
       "1  35450          U001  0200230690             DECA          2020.0   \n",
       "2  21778          U001  0200078795  H T H foundation         2020.0   \n",
       "3    732          U001  0200794332   COST associates         2020.0   \n",
       "4    788          U001  0200769623        WAL-MAR us         2020.0   \n",
       "\n",
       "         doc_id posting_date  document_create_date  document_create_date.1  \\\n",
       "0  1.930675e+09   2020-03-21              20200320                20200321   \n",
       "1  1.930670e+09   2020-03-19              20200319                20200319   \n",
       "2  1.930839e+09   2020-04-29              20200429                20200429   \n",
       "3  1.930731e+09   2020-04-01              20200401                20200401   \n",
       "4  1.930798e+09   2020-04-17              20200417                20200417   \n",
       "\n",
       "   due_in_date invoice_currency document type  posting_id  area_business  \\\n",
       "0   20200405.0              USD            RV         1.0            NaN   \n",
       "1   20200408.0              USD            RV         1.0            NaN   \n",
       "2   20200514.0              USD            RV         1.0            NaN   \n",
       "3   20200416.0              USD            RV         1.0            NaN   \n",
       "4   20200502.0              USD            RV         1.0            NaN   \n",
       "\n",
       "   total_open_amount  baseline_create_date cust_payment_terms    invoice_id  \\\n",
       "0           14307.82            20200321.0               NAH4  1.930675e+09   \n",
       "1             107.76            20200316.0               NAM4  1.930670e+09   \n",
       "2             697.97            20200429.0               NAA8  1.930839e+09   \n",
       "3           32715.47            20200401.0               NAAX  1.930731e+09   \n",
       "4            2217.08            20200417.0               NAH4  1.930798e+09   \n",
       "\n",
       "   isOpen  delay  \n",
       "0       1      2  \n",
       "1       1      2  \n",
       "2       1      4  \n",
       "3       1     -6  \n",
       "4       1     -5  "
      ]
     },
     "execution_count": 113,
     "metadata": {},
     "output_type": "execute_result"
    }
   ],
   "source": [
    "Final.head()"
   ]
  },
  {
   "cell_type": "markdown",
   "id": "f800b8f0",
   "metadata": {},
   "source": [
    "### finding the payment prediction date:due_in_date+ delay\n"
   ]
  },
  {
   "cell_type": "code",
   "execution_count": 114,
   "id": "de114bb0",
   "metadata": {},
   "outputs": [],
   "source": [
    "Final['due_in_date']= pd.to_datetime(Final['due_in_date'],format='%Y%m%d')"
   ]
  },
  {
   "cell_type": "code",
   "execution_count": 115,
   "id": "744065e1",
   "metadata": {},
   "outputs": [],
   "source": [
    "Final['payment_prediction_date'] = Final['due_in_date'] + pd.to_timedelta(Final['delay'],unit='d')"
   ]
  },
  {
   "cell_type": "code",
   "execution_count": 116,
   "id": "742449df",
   "metadata": {},
   "outputs": [
    {
     "data": {
      "text/html": [
       "<div>\n",
       "<style scoped>\n",
       "    .dataframe tbody tr th:only-of-type {\n",
       "        vertical-align: middle;\n",
       "    }\n",
       "\n",
       "    .dataframe tbody tr th {\n",
       "        vertical-align: top;\n",
       "    }\n",
       "\n",
       "    .dataframe thead th {\n",
       "        text-align: right;\n",
       "    }\n",
       "</style>\n",
       "<table border=\"1\" class=\"dataframe\">\n",
       "  <thead>\n",
       "    <tr style=\"text-align: right;\">\n",
       "      <th></th>\n",
       "      <th>key_0</th>\n",
       "      <th>business_code</th>\n",
       "      <th>cust_number</th>\n",
       "      <th>name_customer</th>\n",
       "      <th>buisness_year</th>\n",
       "      <th>doc_id</th>\n",
       "      <th>posting_date</th>\n",
       "      <th>document_create_date</th>\n",
       "      <th>document_create_date.1</th>\n",
       "      <th>due_in_date</th>\n",
       "      <th>invoice_currency</th>\n",
       "      <th>document type</th>\n",
       "      <th>posting_id</th>\n",
       "      <th>area_business</th>\n",
       "      <th>total_open_amount</th>\n",
       "      <th>baseline_create_date</th>\n",
       "      <th>cust_payment_terms</th>\n",
       "      <th>invoice_id</th>\n",
       "      <th>isOpen</th>\n",
       "      <th>delay</th>\n",
       "      <th>payment_prediction_date</th>\n",
       "    </tr>\n",
       "  </thead>\n",
       "  <tbody>\n",
       "    <tr>\n",
       "      <th>0</th>\n",
       "      <td>17125</td>\n",
       "      <td>U001</td>\n",
       "      <td>0200759878</td>\n",
       "      <td>SA</td>\n",
       "      <td>2020.0</td>\n",
       "      <td>1.930675e+09</td>\n",
       "      <td>2020-03-21</td>\n",
       "      <td>20200320</td>\n",
       "      <td>20200321</td>\n",
       "      <td>2020-04-05</td>\n",
       "      <td>USD</td>\n",
       "      <td>RV</td>\n",
       "      <td>1.0</td>\n",
       "      <td>NaN</td>\n",
       "      <td>14307.82</td>\n",
       "      <td>20200321.0</td>\n",
       "      <td>NAH4</td>\n",
       "      <td>1.930675e+09</td>\n",
       "      <td>1</td>\n",
       "      <td>2</td>\n",
       "      <td>2020-04-07</td>\n",
       "    </tr>\n",
       "    <tr>\n",
       "      <th>1</th>\n",
       "      <td>35450</td>\n",
       "      <td>U001</td>\n",
       "      <td>0200230690</td>\n",
       "      <td>DECA</td>\n",
       "      <td>2020.0</td>\n",
       "      <td>1.930670e+09</td>\n",
       "      <td>2020-03-19</td>\n",
       "      <td>20200319</td>\n",
       "      <td>20200319</td>\n",
       "      <td>2020-04-08</td>\n",
       "      <td>USD</td>\n",
       "      <td>RV</td>\n",
       "      <td>1.0</td>\n",
       "      <td>NaN</td>\n",
       "      <td>107.76</td>\n",
       "      <td>20200316.0</td>\n",
       "      <td>NAM4</td>\n",
       "      <td>1.930670e+09</td>\n",
       "      <td>1</td>\n",
       "      <td>2</td>\n",
       "      <td>2020-04-10</td>\n",
       "    </tr>\n",
       "    <tr>\n",
       "      <th>2</th>\n",
       "      <td>21778</td>\n",
       "      <td>U001</td>\n",
       "      <td>0200078795</td>\n",
       "      <td>H T H foundation</td>\n",
       "      <td>2020.0</td>\n",
       "      <td>1.930839e+09</td>\n",
       "      <td>2020-04-29</td>\n",
       "      <td>20200429</td>\n",
       "      <td>20200429</td>\n",
       "      <td>2020-05-14</td>\n",
       "      <td>USD</td>\n",
       "      <td>RV</td>\n",
       "      <td>1.0</td>\n",
       "      <td>NaN</td>\n",
       "      <td>697.97</td>\n",
       "      <td>20200429.0</td>\n",
       "      <td>NAA8</td>\n",
       "      <td>1.930839e+09</td>\n",
       "      <td>1</td>\n",
       "      <td>4</td>\n",
       "      <td>2020-05-18</td>\n",
       "    </tr>\n",
       "    <tr>\n",
       "      <th>3</th>\n",
       "      <td>732</td>\n",
       "      <td>U001</td>\n",
       "      <td>0200794332</td>\n",
       "      <td>COST associates</td>\n",
       "      <td>2020.0</td>\n",
       "      <td>1.930731e+09</td>\n",
       "      <td>2020-04-01</td>\n",
       "      <td>20200401</td>\n",
       "      <td>20200401</td>\n",
       "      <td>2020-04-16</td>\n",
       "      <td>USD</td>\n",
       "      <td>RV</td>\n",
       "      <td>1.0</td>\n",
       "      <td>NaN</td>\n",
       "      <td>32715.47</td>\n",
       "      <td>20200401.0</td>\n",
       "      <td>NAAX</td>\n",
       "      <td>1.930731e+09</td>\n",
       "      <td>1</td>\n",
       "      <td>-6</td>\n",
       "      <td>2020-04-10</td>\n",
       "    </tr>\n",
       "    <tr>\n",
       "      <th>4</th>\n",
       "      <td>788</td>\n",
       "      <td>U001</td>\n",
       "      <td>0200769623</td>\n",
       "      <td>WAL-MAR us</td>\n",
       "      <td>2020.0</td>\n",
       "      <td>1.930798e+09</td>\n",
       "      <td>2020-04-17</td>\n",
       "      <td>20200417</td>\n",
       "      <td>20200417</td>\n",
       "      <td>2020-05-02</td>\n",
       "      <td>USD</td>\n",
       "      <td>RV</td>\n",
       "      <td>1.0</td>\n",
       "      <td>NaN</td>\n",
       "      <td>2217.08</td>\n",
       "      <td>20200417.0</td>\n",
       "      <td>NAH4</td>\n",
       "      <td>1.930798e+09</td>\n",
       "      <td>1</td>\n",
       "      <td>-5</td>\n",
       "      <td>2020-04-27</td>\n",
       "    </tr>\n",
       "  </tbody>\n",
       "</table>\n",
       "</div>"
      ],
      "text/plain": [
       "   key_0 business_code cust_number     name_customer  buisness_year  \\\n",
       "0  17125          U001  0200759878               SA          2020.0   \n",
       "1  35450          U001  0200230690             DECA          2020.0   \n",
       "2  21778          U001  0200078795  H T H foundation         2020.0   \n",
       "3    732          U001  0200794332   COST associates         2020.0   \n",
       "4    788          U001  0200769623        WAL-MAR us         2020.0   \n",
       "\n",
       "         doc_id posting_date  document_create_date  document_create_date.1  \\\n",
       "0  1.930675e+09   2020-03-21              20200320                20200321   \n",
       "1  1.930670e+09   2020-03-19              20200319                20200319   \n",
       "2  1.930839e+09   2020-04-29              20200429                20200429   \n",
       "3  1.930731e+09   2020-04-01              20200401                20200401   \n",
       "4  1.930798e+09   2020-04-17              20200417                20200417   \n",
       "\n",
       "  due_in_date invoice_currency document type  posting_id  area_business  \\\n",
       "0  2020-04-05              USD            RV         1.0            NaN   \n",
       "1  2020-04-08              USD            RV         1.0            NaN   \n",
       "2  2020-05-14              USD            RV         1.0            NaN   \n",
       "3  2020-04-16              USD            RV         1.0            NaN   \n",
       "4  2020-05-02              USD            RV         1.0            NaN   \n",
       "\n",
       "   total_open_amount  baseline_create_date cust_payment_terms    invoice_id  \\\n",
       "0           14307.82            20200321.0               NAH4  1.930675e+09   \n",
       "1             107.76            20200316.0               NAM4  1.930670e+09   \n",
       "2             697.97            20200429.0               NAA8  1.930839e+09   \n",
       "3           32715.47            20200401.0               NAAX  1.930731e+09   \n",
       "4            2217.08            20200417.0               NAH4  1.930798e+09   \n",
       "\n",
       "   isOpen  delay payment_prediction_date  \n",
       "0       1      2              2020-04-07  \n",
       "1       1      2              2020-04-10  \n",
       "2       1      4              2020-05-18  \n",
       "3       1     -6              2020-04-10  \n",
       "4       1     -5              2020-04-27  "
      ]
     },
     "execution_count": 116,
     "metadata": {},
     "output_type": "execute_result"
    }
   ],
   "source": [
    "Final.head()"
   ]
  },
  {
   "cell_type": "markdown",
   "id": "ac7eda0a",
   "metadata": {},
   "source": [
    "#### Finding aging bucket (if there is aging bucket then it is 1 or if the customer has paid before due date then it will be zero)"
   ]
  },
  {
   "cell_type": "code",
   "execution_count": 117,
   "id": "a0ff20a4",
   "metadata": {},
   "outputs": [],
   "source": [
    "b=[]\n",
    "for a in Final['delay']:\n",
    "    \n",
    "    if (a>=0):\n",
    "        \n",
    "        b.append(0)\n",
    "    else:\n",
    "        b.append(1)\n",
    "    "
   ]
  },
  {
   "cell_type": "code",
   "execution_count": 118,
   "id": "220acd04",
   "metadata": {},
   "outputs": [],
   "source": [
    "Final['aging bucket'] = b"
   ]
  },
  {
   "cell_type": "code",
   "execution_count": 119,
   "id": "6867a501",
   "metadata": {},
   "outputs": [
    {
     "data": {
      "text/html": [
       "<div>\n",
       "<style scoped>\n",
       "    .dataframe tbody tr th:only-of-type {\n",
       "        vertical-align: middle;\n",
       "    }\n",
       "\n",
       "    .dataframe tbody tr th {\n",
       "        vertical-align: top;\n",
       "    }\n",
       "\n",
       "    .dataframe thead th {\n",
       "        text-align: right;\n",
       "    }\n",
       "</style>\n",
       "<table border=\"1\" class=\"dataframe\">\n",
       "  <thead>\n",
       "    <tr style=\"text-align: right;\">\n",
       "      <th></th>\n",
       "      <th>key_0</th>\n",
       "      <th>business_code</th>\n",
       "      <th>cust_number</th>\n",
       "      <th>name_customer</th>\n",
       "      <th>buisness_year</th>\n",
       "      <th>doc_id</th>\n",
       "      <th>posting_date</th>\n",
       "      <th>document_create_date</th>\n",
       "      <th>document_create_date.1</th>\n",
       "      <th>due_in_date</th>\n",
       "      <th>invoice_currency</th>\n",
       "      <th>document type</th>\n",
       "      <th>posting_id</th>\n",
       "      <th>area_business</th>\n",
       "      <th>total_open_amount</th>\n",
       "      <th>baseline_create_date</th>\n",
       "      <th>cust_payment_terms</th>\n",
       "      <th>invoice_id</th>\n",
       "      <th>isOpen</th>\n",
       "      <th>delay</th>\n",
       "      <th>payment_prediction_date</th>\n",
       "      <th>aging bucket</th>\n",
       "    </tr>\n",
       "  </thead>\n",
       "  <tbody>\n",
       "    <tr>\n",
       "      <th>0</th>\n",
       "      <td>17125</td>\n",
       "      <td>U001</td>\n",
       "      <td>0200759878</td>\n",
       "      <td>SA</td>\n",
       "      <td>2020.0</td>\n",
       "      <td>1.930675e+09</td>\n",
       "      <td>2020-03-21</td>\n",
       "      <td>20200320</td>\n",
       "      <td>20200321</td>\n",
       "      <td>2020-04-05</td>\n",
       "      <td>USD</td>\n",
       "      <td>RV</td>\n",
       "      <td>1.0</td>\n",
       "      <td>NaN</td>\n",
       "      <td>14307.82</td>\n",
       "      <td>20200321.0</td>\n",
       "      <td>NAH4</td>\n",
       "      <td>1.930675e+09</td>\n",
       "      <td>1</td>\n",
       "      <td>2</td>\n",
       "      <td>2020-04-07</td>\n",
       "      <td>0</td>\n",
       "    </tr>\n",
       "    <tr>\n",
       "      <th>1</th>\n",
       "      <td>35450</td>\n",
       "      <td>U001</td>\n",
       "      <td>0200230690</td>\n",
       "      <td>DECA</td>\n",
       "      <td>2020.0</td>\n",
       "      <td>1.930670e+09</td>\n",
       "      <td>2020-03-19</td>\n",
       "      <td>20200319</td>\n",
       "      <td>20200319</td>\n",
       "      <td>2020-04-08</td>\n",
       "      <td>USD</td>\n",
       "      <td>RV</td>\n",
       "      <td>1.0</td>\n",
       "      <td>NaN</td>\n",
       "      <td>107.76</td>\n",
       "      <td>20200316.0</td>\n",
       "      <td>NAM4</td>\n",
       "      <td>1.930670e+09</td>\n",
       "      <td>1</td>\n",
       "      <td>2</td>\n",
       "      <td>2020-04-10</td>\n",
       "      <td>0</td>\n",
       "    </tr>\n",
       "    <tr>\n",
       "      <th>2</th>\n",
       "      <td>21778</td>\n",
       "      <td>U001</td>\n",
       "      <td>0200078795</td>\n",
       "      <td>H T H foundation</td>\n",
       "      <td>2020.0</td>\n",
       "      <td>1.930839e+09</td>\n",
       "      <td>2020-04-29</td>\n",
       "      <td>20200429</td>\n",
       "      <td>20200429</td>\n",
       "      <td>2020-05-14</td>\n",
       "      <td>USD</td>\n",
       "      <td>RV</td>\n",
       "      <td>1.0</td>\n",
       "      <td>NaN</td>\n",
       "      <td>697.97</td>\n",
       "      <td>20200429.0</td>\n",
       "      <td>NAA8</td>\n",
       "      <td>1.930839e+09</td>\n",
       "      <td>1</td>\n",
       "      <td>4</td>\n",
       "      <td>2020-05-18</td>\n",
       "      <td>0</td>\n",
       "    </tr>\n",
       "    <tr>\n",
       "      <th>3</th>\n",
       "      <td>732</td>\n",
       "      <td>U001</td>\n",
       "      <td>0200794332</td>\n",
       "      <td>COST associates</td>\n",
       "      <td>2020.0</td>\n",
       "      <td>1.930731e+09</td>\n",
       "      <td>2020-04-01</td>\n",
       "      <td>20200401</td>\n",
       "      <td>20200401</td>\n",
       "      <td>2020-04-16</td>\n",
       "      <td>USD</td>\n",
       "      <td>RV</td>\n",
       "      <td>1.0</td>\n",
       "      <td>NaN</td>\n",
       "      <td>32715.47</td>\n",
       "      <td>20200401.0</td>\n",
       "      <td>NAAX</td>\n",
       "      <td>1.930731e+09</td>\n",
       "      <td>1</td>\n",
       "      <td>-6</td>\n",
       "      <td>2020-04-10</td>\n",
       "      <td>1</td>\n",
       "    </tr>\n",
       "    <tr>\n",
       "      <th>4</th>\n",
       "      <td>788</td>\n",
       "      <td>U001</td>\n",
       "      <td>0200769623</td>\n",
       "      <td>WAL-MAR us</td>\n",
       "      <td>2020.0</td>\n",
       "      <td>1.930798e+09</td>\n",
       "      <td>2020-04-17</td>\n",
       "      <td>20200417</td>\n",
       "      <td>20200417</td>\n",
       "      <td>2020-05-02</td>\n",
       "      <td>USD</td>\n",
       "      <td>RV</td>\n",
       "      <td>1.0</td>\n",
       "      <td>NaN</td>\n",
       "      <td>2217.08</td>\n",
       "      <td>20200417.0</td>\n",
       "      <td>NAH4</td>\n",
       "      <td>1.930798e+09</td>\n",
       "      <td>1</td>\n",
       "      <td>-5</td>\n",
       "      <td>2020-04-27</td>\n",
       "      <td>1</td>\n",
       "    </tr>\n",
       "  </tbody>\n",
       "</table>\n",
       "</div>"
      ],
      "text/plain": [
       "   key_0 business_code cust_number     name_customer  buisness_year  \\\n",
       "0  17125          U001  0200759878               SA          2020.0   \n",
       "1  35450          U001  0200230690             DECA          2020.0   \n",
       "2  21778          U001  0200078795  H T H foundation         2020.0   \n",
       "3    732          U001  0200794332   COST associates         2020.0   \n",
       "4    788          U001  0200769623        WAL-MAR us         2020.0   \n",
       "\n",
       "         doc_id posting_date  document_create_date  document_create_date.1  \\\n",
       "0  1.930675e+09   2020-03-21              20200320                20200321   \n",
       "1  1.930670e+09   2020-03-19              20200319                20200319   \n",
       "2  1.930839e+09   2020-04-29              20200429                20200429   \n",
       "3  1.930731e+09   2020-04-01              20200401                20200401   \n",
       "4  1.930798e+09   2020-04-17              20200417                20200417   \n",
       "\n",
       "  due_in_date invoice_currency document type  posting_id  area_business  \\\n",
       "0  2020-04-05              USD            RV         1.0            NaN   \n",
       "1  2020-04-08              USD            RV         1.0            NaN   \n",
       "2  2020-05-14              USD            RV         1.0            NaN   \n",
       "3  2020-04-16              USD            RV         1.0            NaN   \n",
       "4  2020-05-02              USD            RV         1.0            NaN   \n",
       "\n",
       "   total_open_amount  baseline_create_date cust_payment_terms    invoice_id  \\\n",
       "0           14307.82            20200321.0               NAH4  1.930675e+09   \n",
       "1             107.76            20200316.0               NAM4  1.930670e+09   \n",
       "2             697.97            20200429.0               NAA8  1.930839e+09   \n",
       "3           32715.47            20200401.0               NAAX  1.930731e+09   \n",
       "4            2217.08            20200417.0               NAH4  1.930798e+09   \n",
       "\n",
       "   isOpen  delay payment_prediction_date  aging bucket  \n",
       "0       1      2              2020-04-07             0  \n",
       "1       1      2              2020-04-10             0  \n",
       "2       1      4              2020-05-18             0  \n",
       "3       1     -6              2020-04-10             1  \n",
       "4       1     -5              2020-04-27             1  "
      ]
     },
     "execution_count": 119,
     "metadata": {},
     "output_type": "execute_result"
    }
   ],
   "source": [
    "Final.head()"
   ]
  },
  {
   "cell_type": "markdown",
   "id": "4a214979",
   "metadata": {},
   "source": [
    "### Thank you"
   ]
  },
  {
   "cell_type": "code",
   "execution_count": 122,
   "id": "783a3e05",
   "metadata": {},
   "outputs": [],
   "source": [
    "Final.to_csv('file1.csv')"
   ]
  },
  {
   "cell_type": "code",
   "execution_count": null,
   "id": "d00b940f",
   "metadata": {},
   "outputs": [],
   "source": []
  }
 ],
 "metadata": {
  "kernelspec": {
   "display_name": "Python 3",
   "language": "python",
   "name": "python3"
  },
  "language_info": {
   "codemirror_mode": {
    "name": "ipython",
    "version": 3
   },
   "file_extension": ".py",
   "mimetype": "text/x-python",
   "name": "python",
   "nbconvert_exporter": "python",
   "pygments_lexer": "ipython3",
   "version": "3.9.5"
  }
 },
 "nbformat": 4,
 "nbformat_minor": 5
}
